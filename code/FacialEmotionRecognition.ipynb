{
 "cells": [
  {
   "cell_type": "markdown",
   "metadata": {},
   "source": [
    "# Dependencies"
   ]
  },
  {
   "cell_type": "code",
   "execution_count": 105,
   "metadata": {},
   "outputs": [],
   "source": [
    "import tensorflow as tf\n",
    "import numpy as np\n",
    "import os\n",
    "from collections import Counter\n",
    "from matplotlib import pyplot as plt\n",
    "import pandas as pd\n",
    "#from sklearn.metrics import confusion_matrix"
   ]
  },
  {
   "cell_type": "code",
   "execution_count": 255,
   "metadata": {},
   "outputs": [],
   "source": [
    "import sys\n",
    "sys.path.append('/usr/local/opt/opencv/lib//python3.6/site-packages/')\n",
    "import cv2"
   ]
  },
  {
   "cell_type": "markdown",
   "metadata": {},
   "source": [
    "# Load Data"
   ]
  },
  {
   "cell_type": "code",
   "execution_count": 256,
   "metadata": {},
   "outputs": [],
   "source": [
    "def get_rec_files(path,ext):\n",
    "    content = os.listdir(path)\n",
    "    if len(content) == 0:\n",
    "        return []\n",
    "    if \".DS_Store\" in content:\n",
    "        content.remove(\".DS_Store\")\n",
    "    if content[0].endswith(ext):\n",
    "        return [path+\"/\"+file for file in content]\n",
    "    else:\n",
    "        return np.concatenate([get_rec_files(path+\"/\"+subpath,ext) for subpath in content])"
   ]
  },
  {
   "cell_type": "code",
   "execution_count": 257,
   "metadata": {},
   "outputs": [],
   "source": [
    "images = get_rec_files(\"data/images\",\".png\")"
   ]
  },
  {
   "cell_type": "code",
   "execution_count": 258,
   "metadata": {},
   "outputs": [
    {
     "data": {
      "text/plain": [
       "array(['data/images/S111/007/S111_007_00000008.png',\n",
       "       'data/images/S111/007/S111_007_00000009.png',\n",
       "       'data/images/S111/007/S111_007_00000013.png',\n",
       "       'data/images/S111/007/S111_007_00000007.png',\n",
       "       'data/images/S111/007/S111_007_00000006.png',\n",
       "       'data/images/S111/007/S111_007_00000012.png',\n",
       "       'data/images/S111/007/S111_007_00000004.png',\n",
       "       'data/images/S111/007/S111_007_00000010.png',\n",
       "       'data/images/S111/007/S111_007_00000011.png',\n",
       "       'data/images/S111/007/S111_007_00000005.png'], dtype='<U42')"
      ]
     },
     "execution_count": 258,
     "metadata": {},
     "output_type": "execute_result"
    }
   ],
   "source": [
    "images[:10]"
   ]
  },
  {
   "cell_type": "code",
   "execution_count": 259,
   "metadata": {},
   "outputs": [],
   "source": [
    "emotions = get_rec_files(\"data/emotions\",\".txt\")"
   ]
  },
  {
   "cell_type": "code",
   "execution_count": 260,
   "metadata": {},
   "outputs": [
    {
     "data": {
      "text/plain": [
       "array(['data/emotions/S111/007/S111_007_00000014_emotion.txt',\n",
       "       'data/emotions/S111/001/S111_001_00000014_emotion.txt',\n",
       "       'data/emotions/S111/006/S111_006_00000010_emotion.txt',\n",
       "       'data/emotions/S129/012/S129_012_00000011_emotion.txt',\n",
       "       'data/emotions/S129/006/S129_006_00000010_emotion.txt',\n",
       "       'data/emotions/S129/011/S129_011_00000018_emotion.txt',\n",
       "       'data/emotions/S129/002/S129_002_00000011_emotion.txt',\n",
       "       'data/emotions/S116/007/S116_007_00000017_emotion.txt',\n",
       "       'data/emotions/S116/001/S116_001_00000014_emotion.txt',\n",
       "       'data/emotions/S116/006/S116_006_00000007_emotion.txt'],\n",
       "      dtype='<U52')"
      ]
     },
     "execution_count": 260,
     "metadata": {},
     "output_type": "execute_result"
    }
   ],
   "source": [
    "emotions[:10]"
   ]
  },
  {
   "cell_type": "code",
   "execution_count": 261,
   "metadata": {},
   "outputs": [],
   "source": [
    "def merge_groups(emotions,images):\n",
    "    groups = []\n",
    "    for emotion in emotions:\n",
    "        emot_value = get_emot_value(emotion)\n",
    "        prefix = emotion.split(\"/\")[-1][:8]\n",
    "        f=np.frompyfunc(lambda x: prefix in x, 1,1)\n",
    "        selected_images = images[list(f(images))]\n",
    "        selected_images.sort()\n",
    "        groups += [(emot_value,selected_images)]\n",
    "    return groups"
   ]
  },
  {
   "cell_type": "code",
   "execution_count": 262,
   "metadata": {},
   "outputs": [],
   "source": [
    "def get_emot_value(path):\n",
    "    with open(path,\"r\") as f:\n",
    "        return f.read().split()[0][0]"
   ]
  },
  {
   "cell_type": "code",
   "execution_count": 263,
   "metadata": {},
   "outputs": [],
   "source": [
    "group_images = merge_groups(emotions,images)"
   ]
  },
  {
   "cell_type": "code",
   "execution_count": 264,
   "metadata": {},
   "outputs": [
    {
     "data": {
      "text/plain": [
       "[('3', array(['data/images/S111/007/S111_007_00000001.png',\n",
       "         'data/images/S111/007/S111_007_00000002.png',\n",
       "         'data/images/S111/007/S111_007_00000003.png',\n",
       "         'data/images/S111/007/S111_007_00000004.png',\n",
       "         'data/images/S111/007/S111_007_00000005.png',\n",
       "         'data/images/S111/007/S111_007_00000006.png',\n",
       "         'data/images/S111/007/S111_007_00000007.png',\n",
       "         'data/images/S111/007/S111_007_00000008.png',\n",
       "         'data/images/S111/007/S111_007_00000009.png',\n",
       "         'data/images/S111/007/S111_007_00000010.png',\n",
       "         'data/images/S111/007/S111_007_00000011.png',\n",
       "         'data/images/S111/007/S111_007_00000012.png',\n",
       "         'data/images/S111/007/S111_007_00000013.png',\n",
       "         'data/images/S111/007/S111_007_00000014.png'], dtype='<U42')),\n",
       " ('7', array(['data/images/S111/001/S111_001_00000001.png',\n",
       "         'data/images/S111/001/S111_001_00000002.png',\n",
       "         'data/images/S111/001/S111_001_00000003.png',\n",
       "         'data/images/S111/001/S111_001_00000004.png',\n",
       "         'data/images/S111/001/S111_001_00000005.png',\n",
       "         'data/images/S111/001/S111_001_00000006.png',\n",
       "         'data/images/S111/001/S111_001_00000007.png',\n",
       "         'data/images/S111/001/S111_001_00000008.png',\n",
       "         'data/images/S111/001/S111_001_00000009.png',\n",
       "         'data/images/S111/001/S111_001_00000010.png',\n",
       "         'data/images/S111/001/S111_001_00000011.png',\n",
       "         'data/images/S111/001/S111_001_00000012.png',\n",
       "         'data/images/S111/001/S111_001_00000013.png',\n",
       "         'data/images/S111/001/S111_001_00000014.png'], dtype='<U42'))]"
      ]
     },
     "execution_count": 264,
     "metadata": {},
     "output_type": "execute_result"
    }
   ],
   "source": [
    "group_images[:2]"
   ]
  },
  {
   "cell_type": "code",
   "execution_count": 265,
   "metadata": {},
   "outputs": [],
   "source": [
    "emot_count = [emot for emot,image in group_images]"
   ]
  },
  {
   "cell_type": "code",
   "execution_count": 266,
   "metadata": {},
   "outputs": [
    {
     "data": {
      "text/plain": [
       "Counter({'1': 45, '2': 18, '3': 59, '4': 25, '5': 69, '6': 28, '7': 83})"
      ]
     },
     "execution_count": 266,
     "metadata": {},
     "output_type": "execute_result"
    }
   ],
   "source": [
    "Counter(emot_count)"
   ]
  },
  {
   "cell_type": "markdown",
   "metadata": {},
   "source": [
    "## FER2013 Dataset"
   ]
  },
  {
   "cell_type": "code",
   "execution_count": 267,
   "metadata": {},
   "outputs": [],
   "source": [
    "df = pd.read_csv(\"data/fer2013.csv\",sep=\",\")"
   ]
  },
  {
   "cell_type": "code",
   "execution_count": 268,
   "metadata": {},
   "outputs": [],
   "source": [
    "df[\"intensity\"] = -1"
   ]
  },
  {
   "cell_type": "code",
   "execution_count": 269,
   "metadata": {},
   "outputs": [
    {
     "data": {
      "text/html": [
       "<div>\n",
       "<style scoped>\n",
       "    .dataframe tbody tr th:only-of-type {\n",
       "        vertical-align: middle;\n",
       "    }\n",
       "\n",
       "    .dataframe tbody tr th {\n",
       "        vertical-align: top;\n",
       "    }\n",
       "\n",
       "    .dataframe thead th {\n",
       "        text-align: right;\n",
       "    }\n",
       "</style>\n",
       "<table border=\"1\" class=\"dataframe\">\n",
       "  <thead>\n",
       "    <tr style=\"text-align: right;\">\n",
       "      <th></th>\n",
       "      <th>emotion</th>\n",
       "      <th>pixels</th>\n",
       "      <th>intensity</th>\n",
       "    </tr>\n",
       "    <tr>\n",
       "      <th>Usage</th>\n",
       "      <th></th>\n",
       "      <th></th>\n",
       "      <th></th>\n",
       "    </tr>\n",
       "  </thead>\n",
       "  <tbody>\n",
       "    <tr>\n",
       "      <th>PrivateTest</th>\n",
       "      <td>3589</td>\n",
       "      <td>3589</td>\n",
       "      <td>3589</td>\n",
       "    </tr>\n",
       "    <tr>\n",
       "      <th>PublicTest</th>\n",
       "      <td>3589</td>\n",
       "      <td>3589</td>\n",
       "      <td>3589</td>\n",
       "    </tr>\n",
       "    <tr>\n",
       "      <th>Training</th>\n",
       "      <td>28709</td>\n",
       "      <td>28709</td>\n",
       "      <td>28709</td>\n",
       "    </tr>\n",
       "  </tbody>\n",
       "</table>\n",
       "</div>"
      ],
      "text/plain": [
       "             emotion  pixels  intensity\n",
       "Usage                                  \n",
       "PrivateTest     3589    3589       3589\n",
       "PublicTest      3589    3589       3589\n",
       "Training       28709   28709      28709"
      ]
     },
     "execution_count": 269,
     "metadata": {},
     "output_type": "execute_result"
    }
   ],
   "source": [
    "df.groupby(\"Usage\").count()"
   ]
  },
  {
   "cell_type": "markdown",
   "metadata": {},
   "source": [
    "# Image Preparation"
   ]
  },
  {
   "cell_type": "code",
   "execution_count": 272,
   "metadata": {},
   "outputs": [],
   "source": [
    "def prepare_images(images):\n",
    "    faceCascade = cv2.CascadeClassifier(\"data/face_recog.xml\")\n",
    "    prepared_images = []\n",
    "    \n",
    "    for path in images:\n",
    "        \n",
    "        image = cv2.imread(path)\n",
    "        \n",
    "        faces = faceCascade.detectMultiScale(\n",
    "            image,\n",
    "            scaleFactor=1.1,\n",
    "            minNeighbors=5,\n",
    "            minSize=(48,48),\n",
    "            flags = cv2.CASCADE_SCALE_IMAGE\n",
    "        )\n",
    "        for (x, y, w, h) in faces:\n",
    "            crop_img = image[y:y+h, x:x+w]\n",
    "            \n",
    "        res_img = cv2.resize(cv2.cvtColor(crop_img, cv2.COLOR_BGR2GRAY), (48,48)) \n",
    "        \n",
    "        prepared_images += [(res_img,path)]\n",
    "        \n",
    "    return prepared_images"
   ]
  },
  {
   "cell_type": "code",
   "execution_count": 273,
   "metadata": {},
   "outputs": [],
   "source": [
    "group_faces = []\n",
    "for emot,pictures in group_images:\n",
    "    group_faces += [(emot,prepare_images(pictures))]\n"
   ]
  },
  {
   "cell_type": "code",
   "execution_count": 274,
   "metadata": {},
   "outputs": [],
   "source": [
    "ck_data = []\n",
    "for emot,pictures in group_faces:\n",
    "    for picture,path in pictures:\n",
    "        ck_data += [[emot,np.concatenate(picture),int(path.split(\"_\")[-1][:-4])]] "
   ]
  },
  {
   "cell_type": "code",
   "execution_count": 298,
   "metadata": {},
   "outputs": [],
   "source": [
    "ck_df = pd.DataFrame(data=ck_data,columns=[\"emotion\",\"pixels\",\"intensity\"])\n",
    "ck_df[\"Usage\"] = \"CK+\"\n",
    "ck_df[\"emotion\"] = pd.to_numeric(ck_df[\"emotion\"])\n",
    "ck_df[\"pixels\"] = [\" \".join([str(string) for string in pixels]) for pixels in ck_df[\"pixels\"].values]"
   ]
  },
  {
   "cell_type": "code",
   "execution_count": 299,
   "metadata": {},
   "outputs": [
    {
     "data": {
      "text/html": [
       "<div>\n",
       "<style scoped>\n",
       "    .dataframe tbody tr th:only-of-type {\n",
       "        vertical-align: middle;\n",
       "    }\n",
       "\n",
       "    .dataframe tbody tr th {\n",
       "        vertical-align: top;\n",
       "    }\n",
       "\n",
       "    .dataframe thead th {\n",
       "        text-align: right;\n",
       "    }\n",
       "</style>\n",
       "<table border=\"1\" class=\"dataframe\">\n",
       "  <thead>\n",
       "    <tr style=\"text-align: right;\">\n",
       "      <th></th>\n",
       "      <th>emotion</th>\n",
       "      <th>pixels</th>\n",
       "      <th>intensity</th>\n",
       "      <th>Usage</th>\n",
       "    </tr>\n",
       "  </thead>\n",
       "  <tbody>\n",
       "    <tr>\n",
       "      <th>0</th>\n",
       "      <td>3</td>\n",
       "      <td>44 34 21 0 0 0 0 0 0 2 7 15 18 36 34 35 47 60 ...</td>\n",
       "      <td>1</td>\n",
       "      <td>CK+</td>\n",
       "    </tr>\n",
       "    <tr>\n",
       "      <th>1</th>\n",
       "      <td>3</td>\n",
       "      <td>42 36 3 0 0 0 0 0 0 0 5 15 22 31 32 37 52 60 8...</td>\n",
       "      <td>2</td>\n",
       "      <td>CK+</td>\n",
       "    </tr>\n",
       "    <tr>\n",
       "      <th>2</th>\n",
       "      <td>3</td>\n",
       "      <td>42 35 26 0 0 0 0 0 0 0 4 8 16 32 34 33 42 58 8...</td>\n",
       "      <td>3</td>\n",
       "      <td>CK+</td>\n",
       "    </tr>\n",
       "    <tr>\n",
       "      <th>3</th>\n",
       "      <td>3</td>\n",
       "      <td>43 34 10 1 0 0 0 0 0 2 7 13 19 36 32 36 44 62 ...</td>\n",
       "      <td>4</td>\n",
       "      <td>CK+</td>\n",
       "    </tr>\n",
       "    <tr>\n",
       "      <th>4</th>\n",
       "      <td>3</td>\n",
       "      <td>43 40 38 0 0 0 0 0 0 1 6 9 15 28 31 34 42 63 7...</td>\n",
       "      <td>5</td>\n",
       "      <td>CK+</td>\n",
       "    </tr>\n",
       "  </tbody>\n",
       "</table>\n",
       "</div>"
      ],
      "text/plain": [
       "   emotion                                             pixels  intensity Usage\n",
       "0        3  44 34 21 0 0 0 0 0 0 2 7 15 18 36 34 35 47 60 ...          1   CK+\n",
       "1        3  42 36 3 0 0 0 0 0 0 0 5 15 22 31 32 37 52 60 8...          2   CK+\n",
       "2        3  42 35 26 0 0 0 0 0 0 0 4 8 16 32 34 33 42 58 8...          3   CK+\n",
       "3        3  43 34 10 1 0 0 0 0 0 2 7 13 19 36 32 36 44 62 ...          4   CK+\n",
       "4        3  43 40 38 0 0 0 0 0 0 1 6 9 15 28 31 34 42 63 7...          5   CK+"
      ]
     },
     "execution_count": 299,
     "metadata": {},
     "output_type": "execute_result"
    }
   ],
   "source": [
    "ck_df.head()"
   ]
  },
  {
   "cell_type": "markdown",
   "metadata": {},
   "source": [
    "## Optional: Save to File"
   ]
  },
  {
   "cell_type": "code",
   "execution_count": 55,
   "metadata": {},
   "outputs": [],
   "source": [
    "paths = []\n",
    "for emot,pictures in group_faces:\n",
    "    for pixel,path in pictures:\n",
    "        file_name = path.split(\"/\")[-1]\n",
    "        name = file_name.split(\".\")[0]\n",
    "        \n",
    "        face_path = \"data/faces/\"+name+\"_\"+emot\n",
    "        np.save(face_path,pixel)\n",
    "        paths += [(emot,face_path)]"
   ]
  },
  {
   "cell_type": "markdown",
   "metadata": {},
   "source": [
    "# Combine Datasets"
   ]
  },
  {
   "cell_type": "code",
   "execution_count": 308,
   "metadata": {},
   "outputs": [],
   "source": [
    "complete_df = pd.concat([df,ck_df])"
   ]
  },
  {
   "cell_type": "markdown",
   "metadata": {},
   "source": [
    "FER2013\n",
    "Emotion labels in the dataset:\n",
    "- 0: -4593 images- Angry\n",
    "- 1: -547 images- Disgust\n",
    "- 2: -5121 images- Fear\n",
    "- 3: -8989 images- Happy\n",
    "- 4: -6077 images- Sad\n",
    "- 5: -4002 images- Surprise\n",
    "- 6: -6198 images- Neutral\n",
    "\n",
    "CK+\n",
    "- {0=neutral, 1=anger, 2=contempt, 3=disgust, 4=fear, 5=happy, 6=sadness, 7=surprise}"
   ]
  },
  {
   "cell_type": "code",
   "execution_count": 97,
   "metadata": {},
   "outputs": [],
   "source": [
    "#go with the FER2013 emotion standard\n",
    "emotion_map = {\n",
    "    0:6,\n",
    "    1:0,\n",
    "    3:1,\n",
    "    4:2,\n",
    "    5:3,\n",
    "    6:4,\n",
    "    7:5\n",
    "}\n",
    "\n",
    "emotion_string = {\n",
    "    0:\"Angry\",\n",
    "    1:\"Disgust\",\n",
    "    2:\"Fear\",\n",
    "    3:\"Happy\",\n",
    "    4:\"Sad\",\n",
    "    5:\"Surprise\",\n",
    "    6:\"Neutral\",\n",
    "}\n",
    "\n",
    "delete_label = 2"
   ]
  },
  {
   "cell_type": "code",
   "execution_count": 309,
   "metadata": {},
   "outputs": [],
   "source": [
    "def map_emotions(row):\n",
    "    if row[\"Usage\"] == \"CK+\":\n",
    "        row[\"emotion\"] = emotion_map[row[\"emotion\"]]\n",
    "    return row"
   ]
  },
  {
   "cell_type": "code",
   "execution_count": 310,
   "metadata": {},
   "outputs": [],
   "source": [
    "complete_df = complete_df.drop(complete_df.loc[(complete_df[\"emotion\"] == delete_label) & (complete_df[\"intensity\"] != -1)].index)"
   ]
  },
  {
   "cell_type": "code",
   "execution_count": 311,
   "metadata": {},
   "outputs": [],
   "source": [
    "complete_df = complete_df.apply(lambda x: map_emotions(x),axis=1)"
   ]
  },
  {
   "cell_type": "code",
   "execution_count": 312,
   "metadata": {},
   "outputs": [],
   "source": [
    "complete_df.to_csv(\"data/face_dataset.csv\",sep=\"|\",index=False)"
   ]
  },
  {
   "cell_type": "markdown",
   "metadata": {},
   "source": [
    "# Model Definition"
   ]
  },
  {
   "cell_type": "code",
   "execution_count": 479,
   "metadata": {},
   "outputs": [],
   "source": [
    "def string_to_float_list(row):\n",
    "    row[\"pixels\"] = np.array([float(string) for string in row[\"pixels\"].split()])\n",
    "\n",
    "    return row"
   ]
  },
  {
   "cell_type": "code",
   "execution_count": 127,
   "metadata": {},
   "outputs": [],
   "source": [
    "dataset = pd.read_csv(\"~/data/emotion_reco/face_dataset.csv\",sep=\"|\")\n",
    "dataset = dataset.apply(lambda x: string_to_float_list(x),axis=1)"
   ]
  },
  {
   "cell_type": "code",
   "execution_count": 17,
   "metadata": {},
   "outputs": [
    {
     "data": {
      "text/plain": [
       "<matplotlib.image.AxesImage at 0x7f87fd14ea20>"
      ]
     },
     "execution_count": 17,
     "metadata": {},
     "output_type": "execute_result"
    },
    {
     "data": {
      "image/png": "[encoded data removed]",
      "text/plain": [
       "<Figure size 432x288 with 1 Axes>"
      ]
     },
     "metadata": {},
     "output_type": "display_data"
    }
   ],
   "source": [
    "plt.imshow(np.reshape([int(x) for x in dataset[\"pixels\"][5]],(48,48)))"
   ]
  },
  {
   "cell_type": "code",
   "execution_count": 28,
   "metadata": {},
   "outputs": [],
   "source": [
    "def train_input_fn(features, labels, batch_size):\n",
    "    \"\"\"An input function for training\"\"\"\n",
    "    # Convert the inputs to a Dataset.\n",
    "\n",
    "    #tf_split = tf.string_split(features,delimiter=' ').values\n",
    "    #features_split = tf.cast(tf.reshape(tf_split,[48*48]),dtype=tf.float32)\n",
    "    #features_split = tf.cast(features,dtype=tf.float32)\n",
    "\n",
    "    \n",
    "    dataset = tf.data.Dataset.from_tensor_slices((features, labels))\n",
    "    # Shuffle, repeat, and batch the examples.\n",
    "    dataset = dataset.shuffle(1000).repeat().batch(batch_size)\n",
    "\n",
    "    # Return the dataset.\n",
    "    return dataset"
   ]
  },
  {
   "cell_type": "code",
   "execution_count": 80,
   "metadata": {},
   "outputs": [],
   "source": [
    "def eval_input_fn(features, labels=None, batch_size=None):\n",
    "    \"\"\"An input function for evaluation or prediction\"\"\"\n",
    "    \n",
    "    if labels is None:\n",
    "        # No labels, use only features.\n",
    "        inputs = features\n",
    "    else:\n",
    "        inputs = (features, labels)\n",
    "    \n",
    "    # Convert inputs to a tf.dataset object.\n",
    "    dataset = tf.data.Dataset.from_tensor_slices(inputs)\n",
    "\n",
    "    # Batch the examples\n",
    "    assert batch_size is not None, \"batch_size must not be None\"\n",
    "    dataset = dataset.batch(batch_size)\n",
    "\n",
    "    # Return the read end of the pipeline.\n",
    "    return dataset.make_one_shot_iterator().get_next()"
   ]
  },
  {
   "cell_type": "markdown",
   "metadata": {},
   "source": [
    "![title](emotion_cnn1.png)"
   ]
  },
  {
   "cell_type": "code",
   "execution_count": 19,
   "metadata": {},
   "outputs": [],
   "source": [
    "def create_conv_layer(inputs,filters,kernels,padding,strides,pools,name,mode):\n",
    "    #print(inputs,filters,kernels,padding,strides,pools,name,mode)\n",
    "    conv_layer = tf.contrib.layers.conv2d(\n",
    "        inputs=inputs,\n",
    "        num_outputs=filters,\n",
    "        kernel_size=kernels,\n",
    "        padding=padding,\n",
    "        stride=1,\n",
    "        activation_fn=tf.nn.relu,\n",
    "        normalizer_fn=tf.contrib.layers.batch_norm\n",
    "    )\n",
    "    \n",
    "    #batch_norm = tf.contrib.layers.batch_norm(\n",
    "    #    inputs=conv_layer)\n",
    "    \n",
    "    relu_act = tf.nn.relu(\n",
    "        features=conv_layer)\n",
    "    \n",
    "    dropout = tf.layers.dropout(\n",
    "        inputs=relu_act,\n",
    "        #rate=0.4,\n",
    "        training = mode == tf.estimator.ModeKeys.TRAIN)\n",
    "    \n",
    "    pooling = tf.layers.max_pooling2d(\n",
    "        inputs=dropout,\n",
    "        pool_size=pools,\n",
    "        strides=strides)\n",
    "    \n",
    "    return pooling\n",
    "    "
   ]
  },
  {
   "cell_type": "code",
   "execution_count": 20,
   "metadata": {},
   "outputs": [],
   "source": [
    "def create_fc_layer(inputs,neurons,mode):\n",
    "    fc_layer = tf.contrib.layers.fully_connected(\n",
    "        inputs=inputs,\n",
    "        num_outputs=neurons\n",
    "    )\n",
    "    \n",
    "    batch_norm = tf.contrib.layers.batch_norm(\n",
    "        inputs=fc_layer)\n",
    "    \n",
    "    dropout = tf.layers.dropout(\n",
    "        inputs=batch_norm,\n",
    "        #rate=0.4,\n",
    "        training=mode == tf.estimator.ModeKeys.TRAIN)\n",
    "    \n",
    "    relu_act = tf.nn.relu(\n",
    "        features=dropout)\n",
    "\n",
    "    return relu_act\n",
    "    "
   ]
  },
  {
   "cell_type": "code",
   "execution_count": 81,
   "metadata": {},
   "outputs": [],
   "source": [
    "def cnn_model_fn(features, labels, mode):\n",
    "    \"\"\"Model function for CNN.\"\"\"\n",
    "    n_conv = [(2,3,64),(2,5,128),(2,3,512)]\n",
    "    n_fc = [256,512]\n",
    "    \n",
    "    # Input Layer\n",
    "    input_layer = tf.reshape(tf.cast(features,tf.float32), [-1, 48, 48, 1])\n",
    "    print(labels)\n",
    "    #one_hot_labels = tf.one_hot(labels,7)\n",
    "    \n",
    "    conv_layer = input_layer\n",
    "    \n",
    "    for s,k,f in n_conv:\n",
    "        conv_layer = create_conv_layer(\n",
    "            inputs=conv_layer,\n",
    "            filters=f,\n",
    "            kernels=[k,k],\n",
    "            padding=\"same\",\n",
    "            strides=s,\n",
    "            pools=[2,2],\n",
    "            name=\"conv\"+str(f),\n",
    "            mode=mode\n",
    "            )\n",
    "        \n",
    "    \n",
    "    \n",
    "    fc_layer = tf.reshape(conv_layer,[-1,6*6*512])\n",
    "    \n",
    "    for n in n_fc:\n",
    "        fc_layer = create_fc_layer(\n",
    "            inputs=fc_layer,\n",
    "            neurons=n,\n",
    "            mode=mode\n",
    "        )\n",
    "        print(fc_layer)\n",
    "        \n",
    "    logits = tf.layers.dense(inputs=fc_layer, units=7)\n",
    "    \n",
    "    softmax = tf.nn.softmax(logits, name=\"softmax_tensor\")\n",
    "\n",
    "    predictions = {\n",
    "      # Generate predictions (for PREDICT and EVAL mode)\n",
    "      \"classes\": tf.argmax(input=logits, axis=1),\n",
    "      # Add `softmax_tensor` to the graph. It is used for PREDICT and by the\n",
    "      # `logging_hook`.\n",
    "      \"probabilities\": softmax\n",
    "    }\n",
    "\n",
    "    if mode == tf.estimator.ModeKeys.PREDICT:\n",
    "        return tf.estimator.EstimatorSpec(mode=mode, predictions=predictions)\n",
    "\n",
    "    # Calculate Loss (for both TRAIN and EVAL modes)\n",
    "    loss = tf.losses.sparse_softmax_cross_entropy(labels=labels, logits=logits)\n",
    "    \n",
    "\n",
    "    # Configure the Training Op (for TRAIN mode)\n",
    "    if mode == tf.estimator.ModeKeys.TRAIN:\n",
    "        optimizer = tf.train.AdamOptimizer(learning_rate=0.005)\n",
    "        train_op = optimizer.minimize(\n",
    "            loss=loss,\n",
    "            global_step=tf.train.get_global_step())\n",
    "        return tf.estimator.EstimatorSpec(mode=mode, loss=loss, train_op=train_op)\n",
    "\n",
    "    # Add evaluation metrics (for EVAL mode)\n",
    "    eval_metric_ops = {\n",
    "      \"accuracy\": tf.metrics.accuracy(\n",
    "          labels=labels, predictions=predictions[\"classes\"])}\n",
    "    return tf.estimator.EstimatorSpec(\n",
    "      mode=mode, loss=loss, eval_metric_ops=eval_metric_ops)"
   ]
  },
  {
   "cell_type": "markdown",
   "metadata": {},
   "source": [
    "# Model Training"
   ]
  },
  {
   "cell_type": "code",
   "execution_count": 82,
   "metadata": {},
   "outputs": [
    {
     "name": "stdout",
     "output_type": "stream",
     "text": [
      "INFO:tensorflow:Using default config.\n",
      "INFO:tensorflow:Using config: {'_tf_random_seed': None, '_session_config': None, '_task_type': 'worker', '_num_worker_replicas': 1, '_save_checkpoints_secs': 600, '_master': '', '_cluster_spec': <tensorflow.python.training.server_lib.ClusterSpec object at 0x7f8840c2b518>, '_keep_checkpoint_max': 5, '_evaluation_master': '', '_model_dir': 'tmp/mnist_convnet_model', '_global_id_in_cluster': 0, '_service': None, '_save_checkpoints_steps': None, '_log_step_count_steps': 100, '_task_id': 0, '_keep_checkpoint_every_n_hours': 10000, '_is_chief': True, '_num_ps_replicas': 0, '_save_summary_steps': 100, '_train_distribute': None}\n"
     ]
    }
   ],
   "source": [
    "emotion_classifier = tf.estimator.Estimator(\n",
    "    model_fn=cnn_model_fn, model_dir=\"tmp/mnist_convnet_model\")\n",
    "\n",
    "\n",
    "tensors_to_log = {\"probabilities\": \"softmax_tensor\"}\n",
    "logging_hook = tf.train.LoggingTensorHook(\n",
    "  tensors=tensors_to_log, every_n_iter=2000)\n",
    "\n",
    "tf.logging.set_verbosity(tf.logging.INFO)"
   ]
  },
  {
   "cell_type": "code",
   "execution_count": 23,
   "metadata": {},
   "outputs": [],
   "source": [
    "def df_to_tensor(series):\n",
    "    return np.concatenate(series.values).reshape(len(series),len(series[0]))"
   ]
  },
  {
   "cell_type": "code",
   "execution_count": 24,
   "metadata": {},
   "outputs": [],
   "source": [
    "x = df_to_tensor(dataset[\"pixels\"])\n",
    "y = dataset[\"emotion\"].values"
   ]
  },
  {
   "cell_type": "code",
   "execution_count": 36,
   "metadata": {},
   "outputs": [
    {
     "name": "stdout",
     "output_type": "stream",
     "text": [
      "INFO:tensorflow:Calling model_fn.\n",
      "Tensor(\"Relu_3:0\", shape=(?, 256), dtype=float32)\n",
      "Tensor(\"Relu_4:0\", shape=(?, 512), dtype=float32)\n",
      "Tensor(\"IteratorGetNext:1\", shape=(?,), dtype=int64) Tensor(\"dense/BiasAdd:0\", shape=(?, 7), dtype=float32)\n",
      "INFO:tensorflow:Done calling model_fn.\n",
      "INFO:tensorflow:Create CheckpointSaverHook.\n",
      "INFO:tensorflow:Graph was finalized.\n",
      "INFO:tensorflow:Restoring parameters from tmp/mnist_convnet_model/model.ckpt-365542\n",
      "INFO:tensorflow:Running local_init_op.\n",
      "INFO:tensorflow:Done running local_init_op.\n"
     ]
    },
    {
     "ename": "KeyboardInterrupt",
     "evalue": "",
     "output_type": "error",
     "traceback": [
      "\u001b[0;31m---------------------------------------------------------------------------\u001b[0m",
      "\u001b[0;31mKeyboardInterrupt\u001b[0m                         Traceback (most recent call last)",
      "\u001b[0;32m<ipython-input-36-ead59aa3752d>\u001b[0m in \u001b[0;36m<module>\u001b[0;34m()\u001b[0m\n\u001b[1;32m      5\u001b[0m         128),\n\u001b[1;32m      6\u001b[0m     \u001b[0msteps\u001b[0m\u001b[0;34m=\u001b[0m\u001b[0;36m20\u001b[0m\u001b[0;34m*\u001b[0m\u001b[0;36m40000\u001b[0m\u001b[0;34m,\u001b[0m\u001b[0;34m\u001b[0m\u001b[0m\n\u001b[0;32m----> 7\u001b[0;31m     hooks=[logging_hook])\n\u001b[0m",
      "\u001b[0;32m/usr/local/lib/python3.5/dist-packages/tensorflow/python/estimator/estimator.py\u001b[0m in \u001b[0;36mtrain\u001b[0;34m(self, input_fn, hooks, steps, max_steps, saving_listeners)\u001b[0m\n\u001b[1;32m    361\u001b[0m \u001b[0;34m\u001b[0m\u001b[0m\n\u001b[1;32m    362\u001b[0m     \u001b[0msaving_listeners\u001b[0m \u001b[0;34m=\u001b[0m \u001b[0m_check_listeners_type\u001b[0m\u001b[0;34m(\u001b[0m\u001b[0msaving_listeners\u001b[0m\u001b[0;34m)\u001b[0m\u001b[0;34m\u001b[0m\u001b[0m\n\u001b[0;32m--> 363\u001b[0;31m     \u001b[0mloss\u001b[0m \u001b[0;34m=\u001b[0m \u001b[0mself\u001b[0m\u001b[0;34m.\u001b[0m\u001b[0m_train_model\u001b[0m\u001b[0;34m(\u001b[0m\u001b[0minput_fn\u001b[0m\u001b[0;34m,\u001b[0m \u001b[0mhooks\u001b[0m\u001b[0;34m,\u001b[0m \u001b[0msaving_listeners\u001b[0m\u001b[0;34m)\u001b[0m\u001b[0;34m\u001b[0m\u001b[0m\n\u001b[0m\u001b[1;32m    364\u001b[0m     \u001b[0mlogging\u001b[0m\u001b[0;34m.\u001b[0m\u001b[0minfo\u001b[0m\u001b[0;34m(\u001b[0m\u001b[0;34m'Loss for final step: %s.'\u001b[0m\u001b[0;34m,\u001b[0m \u001b[0mloss\u001b[0m\u001b[0;34m)\u001b[0m\u001b[0;34m\u001b[0m\u001b[0m\n\u001b[1;32m    365\u001b[0m     \u001b[0;32mreturn\u001b[0m \u001b[0mself\u001b[0m\u001b[0;34m\u001b[0m\u001b[0m\n",
      "\u001b[0;32m/usr/local/lib/python3.5/dist-packages/tensorflow/python/estimator/estimator.py\u001b[0m in \u001b[0;36m_train_model\u001b[0;34m(self, input_fn, hooks, saving_listeners)\u001b[0m\n\u001b[1;32m    841\u001b[0m       \u001b[0;32mreturn\u001b[0m \u001b[0mself\u001b[0m\u001b[0;34m.\u001b[0m\u001b[0m_train_model_distributed\u001b[0m\u001b[0;34m(\u001b[0m\u001b[0minput_fn\u001b[0m\u001b[0;34m,\u001b[0m \u001b[0mhooks\u001b[0m\u001b[0;34m,\u001b[0m \u001b[0msaving_listeners\u001b[0m\u001b[0;34m)\u001b[0m\u001b[0;34m\u001b[0m\u001b[0m\n\u001b[1;32m    842\u001b[0m     \u001b[0;32melse\u001b[0m\u001b[0;34m:\u001b[0m\u001b[0;34m\u001b[0m\u001b[0m\n\u001b[0;32m--> 843\u001b[0;31m       \u001b[0;32mreturn\u001b[0m \u001b[0mself\u001b[0m\u001b[0;34m.\u001b[0m\u001b[0m_train_model_default\u001b[0m\u001b[0;34m(\u001b[0m\u001b[0minput_fn\u001b[0m\u001b[0;34m,\u001b[0m \u001b[0mhooks\u001b[0m\u001b[0;34m,\u001b[0m \u001b[0msaving_listeners\u001b[0m\u001b[0;34m)\u001b[0m\u001b[0;34m\u001b[0m\u001b[0m\n\u001b[0m\u001b[1;32m    844\u001b[0m \u001b[0;34m\u001b[0m\u001b[0m\n\u001b[1;32m    845\u001b[0m   \u001b[0;32mdef\u001b[0m \u001b[0m_train_model_default\u001b[0m\u001b[0;34m(\u001b[0m\u001b[0mself\u001b[0m\u001b[0;34m,\u001b[0m \u001b[0minput_fn\u001b[0m\u001b[0;34m,\u001b[0m \u001b[0mhooks\u001b[0m\u001b[0;34m,\u001b[0m \u001b[0msaving_listeners\u001b[0m\u001b[0;34m)\u001b[0m\u001b[0;34m:\u001b[0m\u001b[0;34m\u001b[0m\u001b[0m\n",
      "\u001b[0;32m/usr/local/lib/python3.5/dist-packages/tensorflow/python/estimator/estimator.py\u001b[0m in \u001b[0;36m_train_model_default\u001b[0;34m(self, input_fn, hooks, saving_listeners)\u001b[0m\n\u001b[1;32m    857\u001b[0m       return self._train_with_estimator_spec(estimator_spec, worker_hooks,\n\u001b[1;32m    858\u001b[0m                                              \u001b[0mhooks\u001b[0m\u001b[0;34m,\u001b[0m \u001b[0mglobal_step_tensor\u001b[0m\u001b[0;34m,\u001b[0m\u001b[0;34m\u001b[0m\u001b[0m\n\u001b[0;32m--> 859\u001b[0;31m                                              saving_listeners)\n\u001b[0m\u001b[1;32m    860\u001b[0m \u001b[0;34m\u001b[0m\u001b[0m\n\u001b[1;32m    861\u001b[0m   \u001b[0;32mdef\u001b[0m \u001b[0m_train_model_distributed\u001b[0m\u001b[0;34m(\u001b[0m\u001b[0mself\u001b[0m\u001b[0;34m,\u001b[0m \u001b[0minput_fn\u001b[0m\u001b[0;34m,\u001b[0m \u001b[0mhooks\u001b[0m\u001b[0;34m,\u001b[0m \u001b[0msaving_listeners\u001b[0m\u001b[0;34m)\u001b[0m\u001b[0;34m:\u001b[0m\u001b[0;34m\u001b[0m\u001b[0m\n",
      "\u001b[0;32m/usr/local/lib/python3.5/dist-packages/tensorflow/python/estimator/estimator.py\u001b[0m in \u001b[0;36m_train_with_estimator_spec\u001b[0;34m(self, estimator_spec, worker_hooks, hooks, global_step_tensor, saving_listeners)\u001b[0m\n\u001b[1;32m   1057\u001b[0m       \u001b[0mloss\u001b[0m \u001b[0;34m=\u001b[0m \u001b[0;32mNone\u001b[0m\u001b[0;34m\u001b[0m\u001b[0m\n\u001b[1;32m   1058\u001b[0m       \u001b[0;32mwhile\u001b[0m \u001b[0;32mnot\u001b[0m \u001b[0mmon_sess\u001b[0m\u001b[0;34m.\u001b[0m\u001b[0mshould_stop\u001b[0m\u001b[0;34m(\u001b[0m\u001b[0;34m)\u001b[0m\u001b[0;34m:\u001b[0m\u001b[0;34m\u001b[0m\u001b[0m\n\u001b[0;32m-> 1059\u001b[0;31m         \u001b[0m_\u001b[0m\u001b[0;34m,\u001b[0m \u001b[0mloss\u001b[0m \u001b[0;34m=\u001b[0m \u001b[0mmon_sess\u001b[0m\u001b[0;34m.\u001b[0m\u001b[0mrun\u001b[0m\u001b[0;34m(\u001b[0m\u001b[0;34m[\u001b[0m\u001b[0mestimator_spec\u001b[0m\u001b[0;34m.\u001b[0m\u001b[0mtrain_op\u001b[0m\u001b[0;34m,\u001b[0m \u001b[0mestimator_spec\u001b[0m\u001b[0;34m.\u001b[0m\u001b[0mloss\u001b[0m\u001b[0;34m]\u001b[0m\u001b[0;34m)\u001b[0m\u001b[0;34m\u001b[0m\u001b[0m\n\u001b[0m\u001b[1;32m   1060\u001b[0m     \u001b[0;32mreturn\u001b[0m \u001b[0mloss\u001b[0m\u001b[0;34m\u001b[0m\u001b[0m\n\u001b[1;32m   1061\u001b[0m \u001b[0;34m\u001b[0m\u001b[0m\n",
      "\u001b[0;32m/usr/local/lib/python3.5/dist-packages/tensorflow/python/training/monitored_session.py\u001b[0m in \u001b[0;36mrun\u001b[0;34m(self, fetches, feed_dict, options, run_metadata)\u001b[0m\n\u001b[1;32m    565\u001b[0m                           \u001b[0mfeed_dict\u001b[0m\u001b[0;34m=\u001b[0m\u001b[0mfeed_dict\u001b[0m\u001b[0;34m,\u001b[0m\u001b[0;34m\u001b[0m\u001b[0m\n\u001b[1;32m    566\u001b[0m                           \u001b[0moptions\u001b[0m\u001b[0;34m=\u001b[0m\u001b[0moptions\u001b[0m\u001b[0;34m,\u001b[0m\u001b[0;34m\u001b[0m\u001b[0m\n\u001b[0;32m--> 567\u001b[0;31m                           run_metadata=run_metadata)\n\u001b[0m\u001b[1;32m    568\u001b[0m \u001b[0;34m\u001b[0m\u001b[0m\n\u001b[1;32m    569\u001b[0m   \u001b[0;32mdef\u001b[0m \u001b[0mrun_step_fn\u001b[0m\u001b[0;34m(\u001b[0m\u001b[0mself\u001b[0m\u001b[0;34m,\u001b[0m \u001b[0mstep_fn\u001b[0m\u001b[0;34m)\u001b[0m\u001b[0;34m:\u001b[0m\u001b[0;34m\u001b[0m\u001b[0m\n",
      "\u001b[0;32m/usr/local/lib/python3.5/dist-packages/tensorflow/python/training/monitored_session.py\u001b[0m in \u001b[0;36mrun\u001b[0;34m(self, fetches, feed_dict, options, run_metadata)\u001b[0m\n\u001b[1;32m   1041\u001b[0m                               \u001b[0mfeed_dict\u001b[0m\u001b[0;34m=\u001b[0m\u001b[0mfeed_dict\u001b[0m\u001b[0;34m,\u001b[0m\u001b[0;34m\u001b[0m\u001b[0m\n\u001b[1;32m   1042\u001b[0m                               \u001b[0moptions\u001b[0m\u001b[0;34m=\u001b[0m\u001b[0moptions\u001b[0m\u001b[0;34m,\u001b[0m\u001b[0;34m\u001b[0m\u001b[0m\n\u001b[0;32m-> 1043\u001b[0;31m                               run_metadata=run_metadata)\n\u001b[0m\u001b[1;32m   1044\u001b[0m       \u001b[0;32mexcept\u001b[0m \u001b[0m_PREEMPTION_ERRORS\u001b[0m \u001b[0;32mas\u001b[0m \u001b[0me\u001b[0m\u001b[0;34m:\u001b[0m\u001b[0;34m\u001b[0m\u001b[0m\n\u001b[1;32m   1045\u001b[0m         logging.info('An error was raised. This may be due to a preemption in '\n",
      "\u001b[0;32m/usr/local/lib/python3.5/dist-packages/tensorflow/python/training/monitored_session.py\u001b[0m in \u001b[0;36mrun\u001b[0;34m(self, *args, **kwargs)\u001b[0m\n\u001b[1;32m   1117\u001b[0m   \u001b[0;32mdef\u001b[0m \u001b[0mrun\u001b[0m\u001b[0;34m(\u001b[0m\u001b[0mself\u001b[0m\u001b[0;34m,\u001b[0m \u001b[0;34m*\u001b[0m\u001b[0margs\u001b[0m\u001b[0;34m,\u001b[0m \u001b[0;34m**\u001b[0m\u001b[0mkwargs\u001b[0m\u001b[0;34m)\u001b[0m\u001b[0;34m:\u001b[0m\u001b[0;34m\u001b[0m\u001b[0m\n\u001b[1;32m   1118\u001b[0m     \u001b[0;32mtry\u001b[0m\u001b[0;34m:\u001b[0m\u001b[0;34m\u001b[0m\u001b[0m\n\u001b[0;32m-> 1119\u001b[0;31m       \u001b[0;32mreturn\u001b[0m \u001b[0mself\u001b[0m\u001b[0;34m.\u001b[0m\u001b[0m_sess\u001b[0m\u001b[0;34m.\u001b[0m\u001b[0mrun\u001b[0m\u001b[0;34m(\u001b[0m\u001b[0;34m*\u001b[0m\u001b[0margs\u001b[0m\u001b[0;34m,\u001b[0m \u001b[0;34m**\u001b[0m\u001b[0mkwargs\u001b[0m\u001b[0;34m)\u001b[0m\u001b[0;34m\u001b[0m\u001b[0m\n\u001b[0m\u001b[1;32m   1120\u001b[0m     \u001b[0;32mexcept\u001b[0m \u001b[0m_PREEMPTION_ERRORS\u001b[0m\u001b[0;34m:\u001b[0m\u001b[0;34m\u001b[0m\u001b[0m\n\u001b[1;32m   1121\u001b[0m       \u001b[0;32mraise\u001b[0m\u001b[0;34m\u001b[0m\u001b[0m\n",
      "\u001b[0;32m/usr/local/lib/python3.5/dist-packages/tensorflow/python/training/monitored_session.py\u001b[0m in \u001b[0;36mrun\u001b[0;34m(self, fetches, feed_dict, options, run_metadata)\u001b[0m\n\u001b[1;32m   1181\u001b[0m     \u001b[0moptions\u001b[0m \u001b[0;34m=\u001b[0m \u001b[0moptions\u001b[0m \u001b[0;32mor\u001b[0m \u001b[0mconfig_pb2\u001b[0m\u001b[0;34m.\u001b[0m\u001b[0mRunOptions\u001b[0m\u001b[0;34m(\u001b[0m\u001b[0;34m)\u001b[0m\u001b[0;34m\u001b[0m\u001b[0m\n\u001b[1;32m   1182\u001b[0m     feed_dict = self._call_hook_before_run(run_context, actual_fetches,\n\u001b[0;32m-> 1183\u001b[0;31m                                            feed_dict, options)\n\u001b[0m\u001b[1;32m   1184\u001b[0m \u001b[0;34m\u001b[0m\u001b[0m\n\u001b[1;32m   1185\u001b[0m     \u001b[0;31m# Do session run.\u001b[0m\u001b[0;34m\u001b[0m\u001b[0;34m\u001b[0m\u001b[0m\n",
      "\u001b[0;32m/usr/local/lib/python3.5/dist-packages/tensorflow/python/training/monitored_session.py\u001b[0m in \u001b[0;36m_call_hook_before_run\u001b[0;34m(self, run_context, fetch_dict, user_feed_dict, options)\u001b[0m\n\u001b[1;32m   1207\u001b[0m     \u001b[0mhook_feeds\u001b[0m \u001b[0;34m=\u001b[0m \u001b[0;34m{\u001b[0m\u001b[0;34m}\u001b[0m\u001b[0;34m\u001b[0m\u001b[0m\n\u001b[1;32m   1208\u001b[0m     \u001b[0;32mfor\u001b[0m \u001b[0mhook\u001b[0m \u001b[0;32min\u001b[0m \u001b[0mself\u001b[0m\u001b[0;34m.\u001b[0m\u001b[0m_hooks\u001b[0m\u001b[0;34m:\u001b[0m\u001b[0;34m\u001b[0m\u001b[0m\n\u001b[0;32m-> 1209\u001b[0;31m       \u001b[0mrequest\u001b[0m \u001b[0;34m=\u001b[0m \u001b[0mhook\u001b[0m\u001b[0;34m.\u001b[0m\u001b[0mbefore_run\u001b[0m\u001b[0;34m(\u001b[0m\u001b[0mrun_context\u001b[0m\u001b[0;34m)\u001b[0m\u001b[0;34m\u001b[0m\u001b[0m\n\u001b[0m\u001b[1;32m   1210\u001b[0m       \u001b[0;32mif\u001b[0m \u001b[0mrequest\u001b[0m \u001b[0;32mis\u001b[0m \u001b[0;32mnot\u001b[0m \u001b[0;32mNone\u001b[0m\u001b[0;34m:\u001b[0m\u001b[0;34m\u001b[0m\u001b[0m\n\u001b[1;32m   1211\u001b[0m         \u001b[0;32mif\u001b[0m \u001b[0mrequest\u001b[0m\u001b[0;34m.\u001b[0m\u001b[0mfetches\u001b[0m \u001b[0;32mis\u001b[0m \u001b[0;32mnot\u001b[0m \u001b[0;32mNone\u001b[0m\u001b[0;34m:\u001b[0m\u001b[0;34m\u001b[0m\u001b[0m\n",
      "\u001b[0;32m/usr/local/lib/python3.5/dist-packages/tensorflow/python/training/basic_session_run_hooks.py\u001b[0m in \u001b[0;36mbefore_run\u001b[0;34m(self, run_context)\u001b[0m\n\u001b[1;32m    443\u001b[0m           \u001b[0mops\u001b[0m\u001b[0;34m.\u001b[0m\u001b[0mget_default_graph\u001b[0m\u001b[0;34m(\u001b[0m\u001b[0;34m)\u001b[0m\u001b[0;34m.\u001b[0m\u001b[0mas_graph_def\u001b[0m\u001b[0;34m(\u001b[0m\u001b[0madd_shapes\u001b[0m\u001b[0;34m=\u001b[0m\u001b[0;32mTrue\u001b[0m\u001b[0;34m)\u001b[0m\u001b[0;34m,\u001b[0m\u001b[0;34m\u001b[0m\u001b[0m\n\u001b[1;32m    444\u001b[0m           \u001b[0mself\u001b[0m\u001b[0;34m.\u001b[0m\u001b[0m_checkpoint_dir\u001b[0m\u001b[0;34m,\u001b[0m\u001b[0;34m\u001b[0m\u001b[0m\n\u001b[0;32m--> 445\u001b[0;31m           \"graph.pbtxt\")\n\u001b[0m\u001b[1;32m    446\u001b[0m       \u001b[0msaver_def\u001b[0m \u001b[0;34m=\u001b[0m \u001b[0mself\u001b[0m\u001b[0;34m.\u001b[0m\u001b[0m_get_saver\u001b[0m\u001b[0;34m(\u001b[0m\u001b[0;34m)\u001b[0m\u001b[0;34m.\u001b[0m\u001b[0msaver_def\u001b[0m \u001b[0;32mif\u001b[0m \u001b[0mself\u001b[0m\u001b[0;34m.\u001b[0m\u001b[0m_get_saver\u001b[0m\u001b[0;34m(\u001b[0m\u001b[0;34m)\u001b[0m \u001b[0;32melse\u001b[0m \u001b[0;32mNone\u001b[0m\u001b[0;34m\u001b[0m\u001b[0m\n\u001b[1;32m    447\u001b[0m       \u001b[0mgraph\u001b[0m \u001b[0;34m=\u001b[0m \u001b[0mops\u001b[0m\u001b[0;34m.\u001b[0m\u001b[0mget_default_graph\u001b[0m\u001b[0;34m(\u001b[0m\u001b[0;34m)\u001b[0m\u001b[0;34m\u001b[0m\u001b[0m\n",
      "\u001b[0;32m/usr/local/lib/python3.5/dist-packages/tensorflow/python/framework/graph_io.py\u001b[0m in \u001b[0;36mwrite_graph\u001b[0;34m(graph_or_graph_def, logdir, name, as_text)\u001b[0m\n\u001b[1;32m     69\u001b[0m   \u001b[0;32mif\u001b[0m \u001b[0mas_text\u001b[0m\u001b[0;34m:\u001b[0m\u001b[0;34m\u001b[0m\u001b[0m\n\u001b[1;32m     70\u001b[0m     file_io.atomic_write_string_to_file(path,\n\u001b[0;32m---> 71\u001b[0;31m                                         text_format.MessageToString(graph_def))\n\u001b[0m\u001b[1;32m     72\u001b[0m   \u001b[0;32melse\u001b[0m\u001b[0;34m:\u001b[0m\u001b[0;34m\u001b[0m\u001b[0m\n\u001b[1;32m     73\u001b[0m     \u001b[0mfile_io\u001b[0m\u001b[0;34m.\u001b[0m\u001b[0matomic_write_string_to_file\u001b[0m\u001b[0;34m(\u001b[0m\u001b[0mpath\u001b[0m\u001b[0;34m,\u001b[0m \u001b[0mgraph_def\u001b[0m\u001b[0;34m.\u001b[0m\u001b[0mSerializeToString\u001b[0m\u001b[0;34m(\u001b[0m\u001b[0;34m)\u001b[0m\u001b[0;34m)\u001b[0m\u001b[0;34m\u001b[0m\u001b[0m\n",
      "\u001b[0;32m/usr/local/lib/python3.5/dist-packages/google/protobuf/text_format.py\u001b[0m in \u001b[0;36mMessageToString\u001b[0;34m(message, as_utf8, as_one_line, pointy_brackets, use_index_order, float_format, use_field_number, descriptor_pool, indent, message_formatter)\u001b[0m\n\u001b[1;32m    161\u001b[0m                      \u001b[0muse_index_order\u001b[0m\u001b[0;34m,\u001b[0m \u001b[0mfloat_format\u001b[0m\u001b[0;34m,\u001b[0m \u001b[0muse_field_number\u001b[0m\u001b[0;34m,\u001b[0m\u001b[0;34m\u001b[0m\u001b[0m\n\u001b[1;32m    162\u001b[0m                      descriptor_pool, message_formatter)\n\u001b[0;32m--> 163\u001b[0;31m   \u001b[0mprinter\u001b[0m\u001b[0;34m.\u001b[0m\u001b[0mPrintMessage\u001b[0m\u001b[0;34m(\u001b[0m\u001b[0mmessage\u001b[0m\u001b[0;34m)\u001b[0m\u001b[0;34m\u001b[0m\u001b[0m\n\u001b[0m\u001b[1;32m    164\u001b[0m   \u001b[0mresult\u001b[0m \u001b[0;34m=\u001b[0m \u001b[0mout\u001b[0m\u001b[0;34m.\u001b[0m\u001b[0mgetvalue\u001b[0m\u001b[0;34m(\u001b[0m\u001b[0;34m)\u001b[0m\u001b[0;34m\u001b[0m\u001b[0m\n\u001b[1;32m    165\u001b[0m   \u001b[0mout\u001b[0m\u001b[0;34m.\u001b[0m\u001b[0mclose\u001b[0m\u001b[0;34m(\u001b[0m\u001b[0;34m)\u001b[0m\u001b[0;34m\u001b[0m\u001b[0m\n",
      "\u001b[0;32m/usr/local/lib/python3.5/dist-packages/google/protobuf/text_format.py\u001b[0m in \u001b[0;36mPrintMessage\u001b[0;34m(self, message)\u001b[0m\n\u001b[1;32m    350\u001b[0m       \u001b[0;32melif\u001b[0m \u001b[0mfield\u001b[0m\u001b[0;34m.\u001b[0m\u001b[0mlabel\u001b[0m \u001b[0;34m==\u001b[0m \u001b[0mdescriptor\u001b[0m\u001b[0;34m.\u001b[0m\u001b[0mFieldDescriptor\u001b[0m\u001b[0;34m.\u001b[0m\u001b[0mLABEL_REPEATED\u001b[0m\u001b[0;34m:\u001b[0m\u001b[0;34m\u001b[0m\u001b[0m\n\u001b[1;32m    351\u001b[0m         \u001b[0;32mfor\u001b[0m \u001b[0melement\u001b[0m \u001b[0;32min\u001b[0m \u001b[0mvalue\u001b[0m\u001b[0;34m:\u001b[0m\u001b[0;34m\u001b[0m\u001b[0m\n\u001b[0;32m--> 352\u001b[0;31m           \u001b[0mself\u001b[0m\u001b[0;34m.\u001b[0m\u001b[0mPrintField\u001b[0m\u001b[0;34m(\u001b[0m\u001b[0mfield\u001b[0m\u001b[0;34m,\u001b[0m \u001b[0melement\u001b[0m\u001b[0;34m)\u001b[0m\u001b[0;34m\u001b[0m\u001b[0m\n\u001b[0m\u001b[1;32m    353\u001b[0m       \u001b[0;32melse\u001b[0m\u001b[0;34m:\u001b[0m\u001b[0;34m\u001b[0m\u001b[0m\n\u001b[1;32m    354\u001b[0m         \u001b[0mself\u001b[0m\u001b[0;34m.\u001b[0m\u001b[0mPrintField\u001b[0m\u001b[0;34m(\u001b[0m\u001b[0mfield\u001b[0m\u001b[0;34m,\u001b[0m \u001b[0mvalue\u001b[0m\u001b[0;34m)\u001b[0m\u001b[0;34m\u001b[0m\u001b[0m\n",
      "\u001b[0;32m/usr/local/lib/python3.5/dist-packages/google/protobuf/text_format.py\u001b[0m in \u001b[0;36mPrintField\u001b[0;34m(self, field, value)\u001b[0m\n\u001b[1;32m    381\u001b[0m       \u001b[0mout\u001b[0m\u001b[0;34m.\u001b[0m\u001b[0mwrite\u001b[0m\u001b[0;34m(\u001b[0m\u001b[0;34m': '\u001b[0m\u001b[0;34m)\u001b[0m\u001b[0;34m\u001b[0m\u001b[0m\n\u001b[1;32m    382\u001b[0m \u001b[0;34m\u001b[0m\u001b[0m\n\u001b[0;32m--> 383\u001b[0;31m     \u001b[0mself\u001b[0m\u001b[0;34m.\u001b[0m\u001b[0mPrintFieldValue\u001b[0m\u001b[0;34m(\u001b[0m\u001b[0mfield\u001b[0m\u001b[0;34m,\u001b[0m \u001b[0mvalue\u001b[0m\u001b[0;34m)\u001b[0m\u001b[0;34m\u001b[0m\u001b[0m\n\u001b[0m\u001b[1;32m    384\u001b[0m     \u001b[0;32mif\u001b[0m \u001b[0mself\u001b[0m\u001b[0;34m.\u001b[0m\u001b[0mas_one_line\u001b[0m\u001b[0;34m:\u001b[0m\u001b[0;34m\u001b[0m\u001b[0m\n\u001b[1;32m    385\u001b[0m       \u001b[0mout\u001b[0m\u001b[0;34m.\u001b[0m\u001b[0mwrite\u001b[0m\u001b[0;34m(\u001b[0m\u001b[0;34m' '\u001b[0m\u001b[0;34m)\u001b[0m\u001b[0;34m\u001b[0m\u001b[0m\n",
      "\u001b[0;32m/usr/local/lib/python3.5/dist-packages/google/protobuf/text_format.py\u001b[0m in \u001b[0;36mPrintFieldValue\u001b[0;34m(self, field, value)\u001b[0m\n\u001b[1;32m    417\u001b[0m     \u001b[0mout\u001b[0m \u001b[0;34m=\u001b[0m \u001b[0mself\u001b[0m\u001b[0;34m.\u001b[0m\u001b[0mout\u001b[0m\u001b[0;34m\u001b[0m\u001b[0m\n\u001b[1;32m    418\u001b[0m     \u001b[0;32mif\u001b[0m \u001b[0mfield\u001b[0m\u001b[0;34m.\u001b[0m\u001b[0mcpp_type\u001b[0m \u001b[0;34m==\u001b[0m \u001b[0mdescriptor\u001b[0m\u001b[0;34m.\u001b[0m\u001b[0mFieldDescriptor\u001b[0m\u001b[0;34m.\u001b[0m\u001b[0mCPPTYPE_MESSAGE\u001b[0m\u001b[0;34m:\u001b[0m\u001b[0;34m\u001b[0m\u001b[0m\n\u001b[0;32m--> 419\u001b[0;31m       \u001b[0mself\u001b[0m\u001b[0;34m.\u001b[0m\u001b[0m_PrintMessageFieldValue\u001b[0m\u001b[0;34m(\u001b[0m\u001b[0mvalue\u001b[0m\u001b[0;34m)\u001b[0m\u001b[0;34m\u001b[0m\u001b[0m\n\u001b[0m\u001b[1;32m    420\u001b[0m     \u001b[0;32melif\u001b[0m \u001b[0mfield\u001b[0m\u001b[0;34m.\u001b[0m\u001b[0mcpp_type\u001b[0m \u001b[0;34m==\u001b[0m \u001b[0mdescriptor\u001b[0m\u001b[0;34m.\u001b[0m\u001b[0mFieldDescriptor\u001b[0m\u001b[0;34m.\u001b[0m\u001b[0mCPPTYPE_ENUM\u001b[0m\u001b[0;34m:\u001b[0m\u001b[0;34m\u001b[0m\u001b[0m\n\u001b[1;32m    421\u001b[0m       \u001b[0menum_value\u001b[0m \u001b[0;34m=\u001b[0m \u001b[0mfield\u001b[0m\u001b[0;34m.\u001b[0m\u001b[0menum_type\u001b[0m\u001b[0;34m.\u001b[0m\u001b[0mvalues_by_number\u001b[0m\u001b[0;34m.\u001b[0m\u001b[0mget\u001b[0m\u001b[0;34m(\u001b[0m\u001b[0mvalue\u001b[0m\u001b[0;34m,\u001b[0m \u001b[0;32mNone\u001b[0m\u001b[0;34m)\u001b[0m\u001b[0;34m\u001b[0m\u001b[0m\n",
      "\u001b[0;32m/usr/local/lib/python3.5/dist-packages/google/protobuf/text_format.py\u001b[0m in \u001b[0;36m_PrintMessageFieldValue\u001b[0;34m(self, value)\u001b[0m\n\u001b[1;32m    402\u001b[0m       \u001b[0mself\u001b[0m\u001b[0;34m.\u001b[0m\u001b[0mout\u001b[0m\u001b[0;34m.\u001b[0m\u001b[0mwrite\u001b[0m\u001b[0;34m(\u001b[0m\u001b[0;34m' %s\\n'\u001b[0m \u001b[0;34m%\u001b[0m \u001b[0mopenb\u001b[0m\u001b[0;34m)\u001b[0m\u001b[0;34m\u001b[0m\u001b[0m\n\u001b[1;32m    403\u001b[0m       \u001b[0mself\u001b[0m\u001b[0;34m.\u001b[0m\u001b[0mindent\u001b[0m \u001b[0;34m+=\u001b[0m \u001b[0;36m2\u001b[0m\u001b[0;34m\u001b[0m\u001b[0m\n\u001b[0;32m--> 404\u001b[0;31m       \u001b[0mself\u001b[0m\u001b[0;34m.\u001b[0m\u001b[0mPrintMessage\u001b[0m\u001b[0;34m(\u001b[0m\u001b[0mvalue\u001b[0m\u001b[0;34m)\u001b[0m\u001b[0;34m\u001b[0m\u001b[0m\n\u001b[0m\u001b[1;32m    405\u001b[0m       \u001b[0mself\u001b[0m\u001b[0;34m.\u001b[0m\u001b[0mindent\u001b[0m \u001b[0;34m-=\u001b[0m \u001b[0;36m2\u001b[0m\u001b[0;34m\u001b[0m\u001b[0m\n\u001b[1;32m    406\u001b[0m       \u001b[0mself\u001b[0m\u001b[0;34m.\u001b[0m\u001b[0mout\u001b[0m\u001b[0;34m.\u001b[0m\u001b[0mwrite\u001b[0m\u001b[0;34m(\u001b[0m\u001b[0;34m' '\u001b[0m \u001b[0;34m*\u001b[0m \u001b[0mself\u001b[0m\u001b[0;34m.\u001b[0m\u001b[0mindent\u001b[0m \u001b[0;34m+\u001b[0m \u001b[0mcloseb\u001b[0m\u001b[0;34m)\u001b[0m\u001b[0;34m\u001b[0m\u001b[0m\n",
      "\u001b[0;32m/usr/local/lib/python3.5/dist-packages/google/protobuf/text_format.py\u001b[0m in \u001b[0;36mPrintMessage\u001b[0;34m(self, message)\u001b[0m\n\u001b[1;32m    347\u001b[0m           \u001b[0;31m# TODO(haberman): refactor and optimize if this becomes an issue.\u001b[0m\u001b[0;34m\u001b[0m\u001b[0;34m\u001b[0m\u001b[0m\n\u001b[1;32m    348\u001b[0m           \u001b[0mentry_submsg\u001b[0m \u001b[0;34m=\u001b[0m \u001b[0mvalue\u001b[0m\u001b[0;34m.\u001b[0m\u001b[0mGetEntryClass\u001b[0m\u001b[0;34m(\u001b[0m\u001b[0;34m)\u001b[0m\u001b[0;34m(\u001b[0m\u001b[0mkey\u001b[0m\u001b[0;34m=\u001b[0m\u001b[0mkey\u001b[0m\u001b[0;34m,\u001b[0m \u001b[0mvalue\u001b[0m\u001b[0;34m=\u001b[0m\u001b[0mvalue\u001b[0m\u001b[0;34m[\u001b[0m\u001b[0mkey\u001b[0m\u001b[0;34m]\u001b[0m\u001b[0;34m)\u001b[0m\u001b[0;34m\u001b[0m\u001b[0m\n\u001b[0;32m--> 349\u001b[0;31m           \u001b[0mself\u001b[0m\u001b[0;34m.\u001b[0m\u001b[0mPrintField\u001b[0m\u001b[0;34m(\u001b[0m\u001b[0mfield\u001b[0m\u001b[0;34m,\u001b[0m \u001b[0mentry_submsg\u001b[0m\u001b[0;34m)\u001b[0m\u001b[0;34m\u001b[0m\u001b[0m\n\u001b[0m\u001b[1;32m    350\u001b[0m       \u001b[0;32melif\u001b[0m \u001b[0mfield\u001b[0m\u001b[0;34m.\u001b[0m\u001b[0mlabel\u001b[0m \u001b[0;34m==\u001b[0m \u001b[0mdescriptor\u001b[0m\u001b[0;34m.\u001b[0m\u001b[0mFieldDescriptor\u001b[0m\u001b[0;34m.\u001b[0m\u001b[0mLABEL_REPEATED\u001b[0m\u001b[0;34m:\u001b[0m\u001b[0;34m\u001b[0m\u001b[0m\n\u001b[1;32m    351\u001b[0m         \u001b[0;32mfor\u001b[0m \u001b[0melement\u001b[0m \u001b[0;32min\u001b[0m \u001b[0mvalue\u001b[0m\u001b[0;34m:\u001b[0m\u001b[0;34m\u001b[0m\u001b[0m\n",
      "\u001b[0;32m/usr/local/lib/python3.5/dist-packages/google/protobuf/text_format.py\u001b[0m in \u001b[0;36mPrintField\u001b[0;34m(self, field, value)\u001b[0m\n\u001b[1;32m    381\u001b[0m       \u001b[0mout\u001b[0m\u001b[0;34m.\u001b[0m\u001b[0mwrite\u001b[0m\u001b[0;34m(\u001b[0m\u001b[0;34m': '\u001b[0m\u001b[0;34m)\u001b[0m\u001b[0;34m\u001b[0m\u001b[0m\n\u001b[1;32m    382\u001b[0m \u001b[0;34m\u001b[0m\u001b[0m\n\u001b[0;32m--> 383\u001b[0;31m     \u001b[0mself\u001b[0m\u001b[0;34m.\u001b[0m\u001b[0mPrintFieldValue\u001b[0m\u001b[0;34m(\u001b[0m\u001b[0mfield\u001b[0m\u001b[0;34m,\u001b[0m \u001b[0mvalue\u001b[0m\u001b[0;34m)\u001b[0m\u001b[0;34m\u001b[0m\u001b[0m\n\u001b[0m\u001b[1;32m    384\u001b[0m     \u001b[0;32mif\u001b[0m \u001b[0mself\u001b[0m\u001b[0;34m.\u001b[0m\u001b[0mas_one_line\u001b[0m\u001b[0;34m:\u001b[0m\u001b[0;34m\u001b[0m\u001b[0m\n\u001b[1;32m    385\u001b[0m       \u001b[0mout\u001b[0m\u001b[0;34m.\u001b[0m\u001b[0mwrite\u001b[0m\u001b[0;34m(\u001b[0m\u001b[0;34m' '\u001b[0m\u001b[0;34m)\u001b[0m\u001b[0;34m\u001b[0m\u001b[0m\n",
      "\u001b[0;32m/usr/local/lib/python3.5/dist-packages/google/protobuf/text_format.py\u001b[0m in \u001b[0;36mPrintFieldValue\u001b[0;34m(self, field, value)\u001b[0m\n\u001b[1;32m    417\u001b[0m     \u001b[0mout\u001b[0m \u001b[0;34m=\u001b[0m \u001b[0mself\u001b[0m\u001b[0;34m.\u001b[0m\u001b[0mout\u001b[0m\u001b[0;34m\u001b[0m\u001b[0m\n\u001b[1;32m    418\u001b[0m     \u001b[0;32mif\u001b[0m \u001b[0mfield\u001b[0m\u001b[0;34m.\u001b[0m\u001b[0mcpp_type\u001b[0m \u001b[0;34m==\u001b[0m \u001b[0mdescriptor\u001b[0m\u001b[0;34m.\u001b[0m\u001b[0mFieldDescriptor\u001b[0m\u001b[0;34m.\u001b[0m\u001b[0mCPPTYPE_MESSAGE\u001b[0m\u001b[0;34m:\u001b[0m\u001b[0;34m\u001b[0m\u001b[0m\n\u001b[0;32m--> 419\u001b[0;31m       \u001b[0mself\u001b[0m\u001b[0;34m.\u001b[0m\u001b[0m_PrintMessageFieldValue\u001b[0m\u001b[0;34m(\u001b[0m\u001b[0mvalue\u001b[0m\u001b[0;34m)\u001b[0m\u001b[0;34m\u001b[0m\u001b[0m\n\u001b[0m\u001b[1;32m    420\u001b[0m     \u001b[0;32melif\u001b[0m \u001b[0mfield\u001b[0m\u001b[0;34m.\u001b[0m\u001b[0mcpp_type\u001b[0m \u001b[0;34m==\u001b[0m \u001b[0mdescriptor\u001b[0m\u001b[0;34m.\u001b[0m\u001b[0mFieldDescriptor\u001b[0m\u001b[0;34m.\u001b[0m\u001b[0mCPPTYPE_ENUM\u001b[0m\u001b[0;34m:\u001b[0m\u001b[0;34m\u001b[0m\u001b[0m\n\u001b[1;32m    421\u001b[0m       \u001b[0menum_value\u001b[0m \u001b[0;34m=\u001b[0m \u001b[0mfield\u001b[0m\u001b[0;34m.\u001b[0m\u001b[0menum_type\u001b[0m\u001b[0;34m.\u001b[0m\u001b[0mvalues_by_number\u001b[0m\u001b[0;34m.\u001b[0m\u001b[0mget\u001b[0m\u001b[0;34m(\u001b[0m\u001b[0mvalue\u001b[0m\u001b[0;34m,\u001b[0m \u001b[0;32mNone\u001b[0m\u001b[0;34m)\u001b[0m\u001b[0;34m\u001b[0m\u001b[0m\n",
      "\u001b[0;32m/usr/local/lib/python3.5/dist-packages/google/protobuf/text_format.py\u001b[0m in \u001b[0;36m_PrintMessageFieldValue\u001b[0;34m(self, value)\u001b[0m\n\u001b[1;32m    402\u001b[0m       \u001b[0mself\u001b[0m\u001b[0;34m.\u001b[0m\u001b[0mout\u001b[0m\u001b[0;34m.\u001b[0m\u001b[0mwrite\u001b[0m\u001b[0;34m(\u001b[0m\u001b[0;34m' %s\\n'\u001b[0m \u001b[0;34m%\u001b[0m \u001b[0mopenb\u001b[0m\u001b[0;34m)\u001b[0m\u001b[0;34m\u001b[0m\u001b[0m\n\u001b[1;32m    403\u001b[0m       \u001b[0mself\u001b[0m\u001b[0;34m.\u001b[0m\u001b[0mindent\u001b[0m \u001b[0;34m+=\u001b[0m \u001b[0;36m2\u001b[0m\u001b[0;34m\u001b[0m\u001b[0m\n\u001b[0;32m--> 404\u001b[0;31m       \u001b[0mself\u001b[0m\u001b[0;34m.\u001b[0m\u001b[0mPrintMessage\u001b[0m\u001b[0;34m(\u001b[0m\u001b[0mvalue\u001b[0m\u001b[0;34m)\u001b[0m\u001b[0;34m\u001b[0m\u001b[0m\n\u001b[0m\u001b[1;32m    405\u001b[0m       \u001b[0mself\u001b[0m\u001b[0;34m.\u001b[0m\u001b[0mindent\u001b[0m \u001b[0;34m-=\u001b[0m \u001b[0;36m2\u001b[0m\u001b[0;34m\u001b[0m\u001b[0m\n\u001b[1;32m    406\u001b[0m       \u001b[0mself\u001b[0m\u001b[0;34m.\u001b[0m\u001b[0mout\u001b[0m\u001b[0;34m.\u001b[0m\u001b[0mwrite\u001b[0m\u001b[0;34m(\u001b[0m\u001b[0;34m' '\u001b[0m \u001b[0;34m*\u001b[0m \u001b[0mself\u001b[0m\u001b[0;34m.\u001b[0m\u001b[0mindent\u001b[0m \u001b[0;34m+\u001b[0m \u001b[0mcloseb\u001b[0m\u001b[0;34m)\u001b[0m\u001b[0;34m\u001b[0m\u001b[0m\n",
      "\u001b[0;32m/usr/local/lib/python3.5/dist-packages/google/protobuf/text_format.py\u001b[0m in \u001b[0;36mPrintMessage\u001b[0;34m(self, message)\u001b[0m\n\u001b[1;32m    352\u001b[0m           \u001b[0mself\u001b[0m\u001b[0;34m.\u001b[0m\u001b[0mPrintField\u001b[0m\u001b[0;34m(\u001b[0m\u001b[0mfield\u001b[0m\u001b[0;34m,\u001b[0m \u001b[0melement\u001b[0m\u001b[0;34m)\u001b[0m\u001b[0;34m\u001b[0m\u001b[0m\n\u001b[1;32m    353\u001b[0m       \u001b[0;32melse\u001b[0m\u001b[0;34m:\u001b[0m\u001b[0;34m\u001b[0m\u001b[0m\n\u001b[0;32m--> 354\u001b[0;31m         \u001b[0mself\u001b[0m\u001b[0;34m.\u001b[0m\u001b[0mPrintField\u001b[0m\u001b[0;34m(\u001b[0m\u001b[0mfield\u001b[0m\u001b[0;34m,\u001b[0m \u001b[0mvalue\u001b[0m\u001b[0;34m)\u001b[0m\u001b[0;34m\u001b[0m\u001b[0m\n\u001b[0m\u001b[1;32m    355\u001b[0m \u001b[0;34m\u001b[0m\u001b[0m\n\u001b[1;32m    356\u001b[0m   \u001b[0;32mdef\u001b[0m \u001b[0mPrintField\u001b[0m\u001b[0;34m(\u001b[0m\u001b[0mself\u001b[0m\u001b[0;34m,\u001b[0m \u001b[0mfield\u001b[0m\u001b[0;34m,\u001b[0m \u001b[0mvalue\u001b[0m\u001b[0;34m)\u001b[0m\u001b[0;34m:\u001b[0m\u001b[0;34m\u001b[0m\u001b[0m\n",
      "\u001b[0;32m/usr/local/lib/python3.5/dist-packages/google/protobuf/text_format.py\u001b[0m in \u001b[0;36mPrintField\u001b[0;34m(self, field, value)\u001b[0m\n\u001b[1;32m    381\u001b[0m       \u001b[0mout\u001b[0m\u001b[0;34m.\u001b[0m\u001b[0mwrite\u001b[0m\u001b[0;34m(\u001b[0m\u001b[0;34m': '\u001b[0m\u001b[0;34m)\u001b[0m\u001b[0;34m\u001b[0m\u001b[0m\n\u001b[1;32m    382\u001b[0m \u001b[0;34m\u001b[0m\u001b[0m\n\u001b[0;32m--> 383\u001b[0;31m     \u001b[0mself\u001b[0m\u001b[0;34m.\u001b[0m\u001b[0mPrintFieldValue\u001b[0m\u001b[0;34m(\u001b[0m\u001b[0mfield\u001b[0m\u001b[0;34m,\u001b[0m \u001b[0mvalue\u001b[0m\u001b[0;34m)\u001b[0m\u001b[0;34m\u001b[0m\u001b[0m\n\u001b[0m\u001b[1;32m    384\u001b[0m     \u001b[0;32mif\u001b[0m \u001b[0mself\u001b[0m\u001b[0;34m.\u001b[0m\u001b[0mas_one_line\u001b[0m\u001b[0;34m:\u001b[0m\u001b[0;34m\u001b[0m\u001b[0m\n\u001b[1;32m    385\u001b[0m       \u001b[0mout\u001b[0m\u001b[0;34m.\u001b[0m\u001b[0mwrite\u001b[0m\u001b[0;34m(\u001b[0m\u001b[0;34m' '\u001b[0m\u001b[0;34m)\u001b[0m\u001b[0;34m\u001b[0m\u001b[0m\n",
      "\u001b[0;32m/usr/local/lib/python3.5/dist-packages/google/protobuf/text_format.py\u001b[0m in \u001b[0;36mPrintFieldValue\u001b[0;34m(self, field, value)\u001b[0m\n\u001b[1;32m    417\u001b[0m     \u001b[0mout\u001b[0m \u001b[0;34m=\u001b[0m \u001b[0mself\u001b[0m\u001b[0;34m.\u001b[0m\u001b[0mout\u001b[0m\u001b[0;34m\u001b[0m\u001b[0m\n\u001b[1;32m    418\u001b[0m     \u001b[0;32mif\u001b[0m \u001b[0mfield\u001b[0m\u001b[0;34m.\u001b[0m\u001b[0mcpp_type\u001b[0m \u001b[0;34m==\u001b[0m \u001b[0mdescriptor\u001b[0m\u001b[0;34m.\u001b[0m\u001b[0mFieldDescriptor\u001b[0m\u001b[0;34m.\u001b[0m\u001b[0mCPPTYPE_MESSAGE\u001b[0m\u001b[0;34m:\u001b[0m\u001b[0;34m\u001b[0m\u001b[0m\n\u001b[0;32m--> 419\u001b[0;31m       \u001b[0mself\u001b[0m\u001b[0;34m.\u001b[0m\u001b[0m_PrintMessageFieldValue\u001b[0m\u001b[0;34m(\u001b[0m\u001b[0mvalue\u001b[0m\u001b[0;34m)\u001b[0m\u001b[0;34m\u001b[0m\u001b[0m\n\u001b[0m\u001b[1;32m    420\u001b[0m     \u001b[0;32melif\u001b[0m \u001b[0mfield\u001b[0m\u001b[0;34m.\u001b[0m\u001b[0mcpp_type\u001b[0m \u001b[0;34m==\u001b[0m \u001b[0mdescriptor\u001b[0m\u001b[0;34m.\u001b[0m\u001b[0mFieldDescriptor\u001b[0m\u001b[0;34m.\u001b[0m\u001b[0mCPPTYPE_ENUM\u001b[0m\u001b[0;34m:\u001b[0m\u001b[0;34m\u001b[0m\u001b[0m\n\u001b[1;32m    421\u001b[0m       \u001b[0menum_value\u001b[0m \u001b[0;34m=\u001b[0m \u001b[0mfield\u001b[0m\u001b[0;34m.\u001b[0m\u001b[0menum_type\u001b[0m\u001b[0;34m.\u001b[0m\u001b[0mvalues_by_number\u001b[0m\u001b[0;34m.\u001b[0m\u001b[0mget\u001b[0m\u001b[0;34m(\u001b[0m\u001b[0mvalue\u001b[0m\u001b[0;34m,\u001b[0m \u001b[0;32mNone\u001b[0m\u001b[0;34m)\u001b[0m\u001b[0;34m\u001b[0m\u001b[0m\n",
      "\u001b[0;32m/usr/local/lib/python3.5/dist-packages/google/protobuf/text_format.py\u001b[0m in \u001b[0;36m_PrintMessageFieldValue\u001b[0;34m(self, value)\u001b[0m\n\u001b[1;32m    402\u001b[0m       \u001b[0mself\u001b[0m\u001b[0;34m.\u001b[0m\u001b[0mout\u001b[0m\u001b[0;34m.\u001b[0m\u001b[0mwrite\u001b[0m\u001b[0;34m(\u001b[0m\u001b[0;34m' %s\\n'\u001b[0m \u001b[0;34m%\u001b[0m \u001b[0mopenb\u001b[0m\u001b[0;34m)\u001b[0m\u001b[0;34m\u001b[0m\u001b[0m\n\u001b[1;32m    403\u001b[0m       \u001b[0mself\u001b[0m\u001b[0;34m.\u001b[0m\u001b[0mindent\u001b[0m \u001b[0;34m+=\u001b[0m \u001b[0;36m2\u001b[0m\u001b[0;34m\u001b[0m\u001b[0m\n\u001b[0;32m--> 404\u001b[0;31m       \u001b[0mself\u001b[0m\u001b[0;34m.\u001b[0m\u001b[0mPrintMessage\u001b[0m\u001b[0;34m(\u001b[0m\u001b[0mvalue\u001b[0m\u001b[0;34m)\u001b[0m\u001b[0;34m\u001b[0m\u001b[0m\n\u001b[0m\u001b[1;32m    405\u001b[0m       \u001b[0mself\u001b[0m\u001b[0;34m.\u001b[0m\u001b[0mindent\u001b[0m \u001b[0;34m-=\u001b[0m \u001b[0;36m2\u001b[0m\u001b[0;34m\u001b[0m\u001b[0m\n\u001b[1;32m    406\u001b[0m       \u001b[0mself\u001b[0m\u001b[0;34m.\u001b[0m\u001b[0mout\u001b[0m\u001b[0;34m.\u001b[0m\u001b[0mwrite\u001b[0m\u001b[0;34m(\u001b[0m\u001b[0;34m' '\u001b[0m \u001b[0;34m*\u001b[0m \u001b[0mself\u001b[0m\u001b[0;34m.\u001b[0m\u001b[0mindent\u001b[0m \u001b[0;34m+\u001b[0m \u001b[0mcloseb\u001b[0m\u001b[0;34m)\u001b[0m\u001b[0;34m\u001b[0m\u001b[0m\n",
      "\u001b[0;32m/usr/local/lib/python3.5/dist-packages/google/protobuf/text_format.py\u001b[0m in \u001b[0;36mPrintMessage\u001b[0;34m(self, message)\u001b[0m\n\u001b[1;32m    352\u001b[0m           \u001b[0mself\u001b[0m\u001b[0;34m.\u001b[0m\u001b[0mPrintField\u001b[0m\u001b[0;34m(\u001b[0m\u001b[0mfield\u001b[0m\u001b[0;34m,\u001b[0m \u001b[0melement\u001b[0m\u001b[0;34m)\u001b[0m\u001b[0;34m\u001b[0m\u001b[0m\n\u001b[1;32m    353\u001b[0m       \u001b[0;32melse\u001b[0m\u001b[0;34m:\u001b[0m\u001b[0;34m\u001b[0m\u001b[0m\n\u001b[0;32m--> 354\u001b[0;31m         \u001b[0mself\u001b[0m\u001b[0;34m.\u001b[0m\u001b[0mPrintField\u001b[0m\u001b[0;34m(\u001b[0m\u001b[0mfield\u001b[0m\u001b[0;34m,\u001b[0m \u001b[0mvalue\u001b[0m\u001b[0;34m)\u001b[0m\u001b[0;34m\u001b[0m\u001b[0m\n\u001b[0m\u001b[1;32m    355\u001b[0m \u001b[0;34m\u001b[0m\u001b[0m\n\u001b[1;32m    356\u001b[0m   \u001b[0;32mdef\u001b[0m \u001b[0mPrintField\u001b[0m\u001b[0;34m(\u001b[0m\u001b[0mself\u001b[0m\u001b[0;34m,\u001b[0m \u001b[0mfield\u001b[0m\u001b[0;34m,\u001b[0m \u001b[0mvalue\u001b[0m\u001b[0;34m)\u001b[0m\u001b[0;34m:\u001b[0m\u001b[0;34m\u001b[0m\u001b[0m\n",
      "\u001b[0;32m/usr/local/lib/python3.5/dist-packages/google/protobuf/text_format.py\u001b[0m in \u001b[0;36mPrintField\u001b[0;34m(self, field, value)\u001b[0m\n\u001b[1;32m    381\u001b[0m       \u001b[0mout\u001b[0m\u001b[0;34m.\u001b[0m\u001b[0mwrite\u001b[0m\u001b[0;34m(\u001b[0m\u001b[0;34m': '\u001b[0m\u001b[0;34m)\u001b[0m\u001b[0;34m\u001b[0m\u001b[0m\n\u001b[1;32m    382\u001b[0m \u001b[0;34m\u001b[0m\u001b[0m\n\u001b[0;32m--> 383\u001b[0;31m     \u001b[0mself\u001b[0m\u001b[0;34m.\u001b[0m\u001b[0mPrintFieldValue\u001b[0m\u001b[0;34m(\u001b[0m\u001b[0mfield\u001b[0m\u001b[0;34m,\u001b[0m \u001b[0mvalue\u001b[0m\u001b[0;34m)\u001b[0m\u001b[0;34m\u001b[0m\u001b[0m\n\u001b[0m\u001b[1;32m    384\u001b[0m     \u001b[0;32mif\u001b[0m \u001b[0mself\u001b[0m\u001b[0;34m.\u001b[0m\u001b[0mas_one_line\u001b[0m\u001b[0;34m:\u001b[0m\u001b[0;34m\u001b[0m\u001b[0m\n\u001b[1;32m    385\u001b[0m       \u001b[0mout\u001b[0m\u001b[0;34m.\u001b[0m\u001b[0mwrite\u001b[0m\u001b[0;34m(\u001b[0m\u001b[0;34m' '\u001b[0m\u001b[0;34m)\u001b[0m\u001b[0;34m\u001b[0m\u001b[0m\n",
      "\u001b[0;32m/usr/local/lib/python3.5/dist-packages/google/protobuf/text_format.py\u001b[0m in \u001b[0;36mPrintFieldValue\u001b[0;34m(self, field, value)\u001b[0m\n\u001b[1;32m    417\u001b[0m     \u001b[0mout\u001b[0m \u001b[0;34m=\u001b[0m \u001b[0mself\u001b[0m\u001b[0;34m.\u001b[0m\u001b[0mout\u001b[0m\u001b[0;34m\u001b[0m\u001b[0m\n\u001b[1;32m    418\u001b[0m     \u001b[0;32mif\u001b[0m \u001b[0mfield\u001b[0m\u001b[0;34m.\u001b[0m\u001b[0mcpp_type\u001b[0m \u001b[0;34m==\u001b[0m \u001b[0mdescriptor\u001b[0m\u001b[0;34m.\u001b[0m\u001b[0mFieldDescriptor\u001b[0m\u001b[0;34m.\u001b[0m\u001b[0mCPPTYPE_MESSAGE\u001b[0m\u001b[0;34m:\u001b[0m\u001b[0;34m\u001b[0m\u001b[0m\n\u001b[0;32m--> 419\u001b[0;31m       \u001b[0mself\u001b[0m\u001b[0;34m.\u001b[0m\u001b[0m_PrintMessageFieldValue\u001b[0m\u001b[0;34m(\u001b[0m\u001b[0mvalue\u001b[0m\u001b[0;34m)\u001b[0m\u001b[0;34m\u001b[0m\u001b[0m\n\u001b[0m\u001b[1;32m    420\u001b[0m     \u001b[0;32melif\u001b[0m \u001b[0mfield\u001b[0m\u001b[0;34m.\u001b[0m\u001b[0mcpp_type\u001b[0m \u001b[0;34m==\u001b[0m \u001b[0mdescriptor\u001b[0m\u001b[0;34m.\u001b[0m\u001b[0mFieldDescriptor\u001b[0m\u001b[0;34m.\u001b[0m\u001b[0mCPPTYPE_ENUM\u001b[0m\u001b[0;34m:\u001b[0m\u001b[0;34m\u001b[0m\u001b[0m\n\u001b[1;32m    421\u001b[0m       \u001b[0menum_value\u001b[0m \u001b[0;34m=\u001b[0m \u001b[0mfield\u001b[0m\u001b[0;34m.\u001b[0m\u001b[0menum_type\u001b[0m\u001b[0;34m.\u001b[0m\u001b[0mvalues_by_number\u001b[0m\u001b[0;34m.\u001b[0m\u001b[0mget\u001b[0m\u001b[0;34m(\u001b[0m\u001b[0mvalue\u001b[0m\u001b[0;34m,\u001b[0m \u001b[0;32mNone\u001b[0m\u001b[0;34m)\u001b[0m\u001b[0;34m\u001b[0m\u001b[0m\n",
      "\u001b[0;32m/usr/local/lib/python3.5/dist-packages/google/protobuf/text_format.py\u001b[0m in \u001b[0;36m_PrintMessageFieldValue\u001b[0;34m(self, value)\u001b[0m\n\u001b[1;32m    402\u001b[0m       \u001b[0mself\u001b[0m\u001b[0;34m.\u001b[0m\u001b[0mout\u001b[0m\u001b[0;34m.\u001b[0m\u001b[0mwrite\u001b[0m\u001b[0;34m(\u001b[0m\u001b[0;34m' %s\\n'\u001b[0m \u001b[0;34m%\u001b[0m \u001b[0mopenb\u001b[0m\u001b[0;34m)\u001b[0m\u001b[0;34m\u001b[0m\u001b[0m\n\u001b[1;32m    403\u001b[0m       \u001b[0mself\u001b[0m\u001b[0;34m.\u001b[0m\u001b[0mindent\u001b[0m \u001b[0;34m+=\u001b[0m \u001b[0;36m2\u001b[0m\u001b[0;34m\u001b[0m\u001b[0m\n\u001b[0;32m--> 404\u001b[0;31m       \u001b[0mself\u001b[0m\u001b[0;34m.\u001b[0m\u001b[0mPrintMessage\u001b[0m\u001b[0;34m(\u001b[0m\u001b[0mvalue\u001b[0m\u001b[0;34m)\u001b[0m\u001b[0;34m\u001b[0m\u001b[0m\n\u001b[0m\u001b[1;32m    405\u001b[0m       \u001b[0mself\u001b[0m\u001b[0;34m.\u001b[0m\u001b[0mindent\u001b[0m \u001b[0;34m-=\u001b[0m \u001b[0;36m2\u001b[0m\u001b[0;34m\u001b[0m\u001b[0m\n\u001b[1;32m    406\u001b[0m       \u001b[0mself\u001b[0m\u001b[0;34m.\u001b[0m\u001b[0mout\u001b[0m\u001b[0;34m.\u001b[0m\u001b[0mwrite\u001b[0m\u001b[0;34m(\u001b[0m\u001b[0;34m' '\u001b[0m \u001b[0;34m*\u001b[0m \u001b[0mself\u001b[0m\u001b[0;34m.\u001b[0m\u001b[0mindent\u001b[0m \u001b[0;34m+\u001b[0m \u001b[0mcloseb\u001b[0m\u001b[0;34m)\u001b[0m\u001b[0;34m\u001b[0m\u001b[0m\n",
      "\u001b[0;32m/usr/local/lib/python3.5/dist-packages/google/protobuf/text_format.py\u001b[0m in \u001b[0;36mPrintMessage\u001b[0;34m(self, message)\u001b[0m\n\u001b[1;32m    352\u001b[0m           \u001b[0mself\u001b[0m\u001b[0;34m.\u001b[0m\u001b[0mPrintField\u001b[0m\u001b[0;34m(\u001b[0m\u001b[0mfield\u001b[0m\u001b[0;34m,\u001b[0m \u001b[0melement\u001b[0m\u001b[0;34m)\u001b[0m\u001b[0;34m\u001b[0m\u001b[0m\n\u001b[1;32m    353\u001b[0m       \u001b[0;32melse\u001b[0m\u001b[0;34m:\u001b[0m\u001b[0;34m\u001b[0m\u001b[0m\n\u001b[0;32m--> 354\u001b[0;31m         \u001b[0mself\u001b[0m\u001b[0;34m.\u001b[0m\u001b[0mPrintField\u001b[0m\u001b[0;34m(\u001b[0m\u001b[0mfield\u001b[0m\u001b[0;34m,\u001b[0m \u001b[0mvalue\u001b[0m\u001b[0;34m)\u001b[0m\u001b[0;34m\u001b[0m\u001b[0m\n\u001b[0m\u001b[1;32m    355\u001b[0m \u001b[0;34m\u001b[0m\u001b[0m\n\u001b[1;32m    356\u001b[0m   \u001b[0;32mdef\u001b[0m \u001b[0mPrintField\u001b[0m\u001b[0;34m(\u001b[0m\u001b[0mself\u001b[0m\u001b[0;34m,\u001b[0m \u001b[0mfield\u001b[0m\u001b[0;34m,\u001b[0m \u001b[0mvalue\u001b[0m\u001b[0;34m)\u001b[0m\u001b[0;34m:\u001b[0m\u001b[0;34m\u001b[0m\u001b[0m\n",
      "\u001b[0;32m/usr/local/lib/python3.5/dist-packages/google/protobuf/text_format.py\u001b[0m in \u001b[0;36mPrintField\u001b[0;34m(self, field, value)\u001b[0m\n\u001b[1;32m    381\u001b[0m       \u001b[0mout\u001b[0m\u001b[0;34m.\u001b[0m\u001b[0mwrite\u001b[0m\u001b[0;34m(\u001b[0m\u001b[0;34m': '\u001b[0m\u001b[0;34m)\u001b[0m\u001b[0;34m\u001b[0m\u001b[0m\n\u001b[1;32m    382\u001b[0m \u001b[0;34m\u001b[0m\u001b[0m\n\u001b[0;32m--> 383\u001b[0;31m     \u001b[0mself\u001b[0m\u001b[0;34m.\u001b[0m\u001b[0mPrintFieldValue\u001b[0m\u001b[0;34m(\u001b[0m\u001b[0mfield\u001b[0m\u001b[0;34m,\u001b[0m \u001b[0mvalue\u001b[0m\u001b[0;34m)\u001b[0m\u001b[0;34m\u001b[0m\u001b[0m\n\u001b[0m\u001b[1;32m    384\u001b[0m     \u001b[0;32mif\u001b[0m \u001b[0mself\u001b[0m\u001b[0;34m.\u001b[0m\u001b[0mas_one_line\u001b[0m\u001b[0;34m:\u001b[0m\u001b[0;34m\u001b[0m\u001b[0m\n\u001b[1;32m    385\u001b[0m       \u001b[0mout\u001b[0m\u001b[0;34m.\u001b[0m\u001b[0mwrite\u001b[0m\u001b[0;34m(\u001b[0m\u001b[0;34m' '\u001b[0m\u001b[0;34m)\u001b[0m\u001b[0;34m\u001b[0m\u001b[0m\n",
      "\u001b[0;32m/usr/local/lib/python3.5/dist-packages/google/protobuf/text_format.py\u001b[0m in \u001b[0;36mPrintFieldValue\u001b[0;34m(self, field, value)\u001b[0m\n\u001b[1;32m    435\u001b[0m       \u001b[0;32melse\u001b[0m\u001b[0;34m:\u001b[0m\u001b[0;34m\u001b[0m\u001b[0m\n\u001b[1;32m    436\u001b[0m         \u001b[0mout_as_utf8\u001b[0m \u001b[0;34m=\u001b[0m \u001b[0mself\u001b[0m\u001b[0;34m.\u001b[0m\u001b[0mas_utf8\u001b[0m\u001b[0;34m\u001b[0m\u001b[0m\n\u001b[0;32m--> 437\u001b[0;31m       \u001b[0mout\u001b[0m\u001b[0;34m.\u001b[0m\u001b[0mwrite\u001b[0m\u001b[0;34m(\u001b[0m\u001b[0mtext_encoding\u001b[0m\u001b[0;34m.\u001b[0m\u001b[0mCEscape\u001b[0m\u001b[0;34m(\u001b[0m\u001b[0mout_value\u001b[0m\u001b[0;34m,\u001b[0m \u001b[0mout_as_utf8\u001b[0m\u001b[0;34m)\u001b[0m\u001b[0;34m)\u001b[0m\u001b[0;34m\u001b[0m\u001b[0m\n\u001b[0m\u001b[1;32m    438\u001b[0m       \u001b[0mout\u001b[0m\u001b[0;34m.\u001b[0m\u001b[0mwrite\u001b[0m\u001b[0;34m(\u001b[0m\u001b[0;34m'\\\"'\u001b[0m\u001b[0;34m)\u001b[0m\u001b[0;34m\u001b[0m\u001b[0m\n\u001b[1;32m    439\u001b[0m     \u001b[0;32melif\u001b[0m \u001b[0mfield\u001b[0m\u001b[0;34m.\u001b[0m\u001b[0mcpp_type\u001b[0m \u001b[0;34m==\u001b[0m \u001b[0mdescriptor\u001b[0m\u001b[0;34m.\u001b[0m\u001b[0mFieldDescriptor\u001b[0m\u001b[0;34m.\u001b[0m\u001b[0mCPPTYPE_BOOL\u001b[0m\u001b[0;34m:\u001b[0m\u001b[0;34m\u001b[0m\u001b[0m\n",
      "\u001b[0;32m/usr/local/lib/python3.5/dist-packages/google/protobuf/text_encoding.py\u001b[0m in \u001b[0;36mCEscape\u001b[0;34m(text, as_utf8)\u001b[0m\n\u001b[1;32m     77\u001b[0m   \u001b[0;32mif\u001b[0m \u001b[0mas_utf8\u001b[0m\u001b[0;34m:\u001b[0m\u001b[0;34m\u001b[0m\u001b[0m\n\u001b[1;32m     78\u001b[0m     \u001b[0;32mreturn\u001b[0m \u001b[0;34m''\u001b[0m\u001b[0;34m.\u001b[0m\u001b[0mjoin\u001b[0m\u001b[0;34m(\u001b[0m\u001b[0m_cescape_utf8_to_str\u001b[0m\u001b[0;34m[\u001b[0m\u001b[0mOrd\u001b[0m\u001b[0;34m(\u001b[0m\u001b[0mc\u001b[0m\u001b[0;34m)\u001b[0m\u001b[0;34m]\u001b[0m \u001b[0;32mfor\u001b[0m \u001b[0mc\u001b[0m \u001b[0;32min\u001b[0m \u001b[0mtext\u001b[0m\u001b[0;34m)\u001b[0m\u001b[0;34m\u001b[0m\u001b[0m\n\u001b[0;32m---> 79\u001b[0;31m   \u001b[0;32mreturn\u001b[0m \u001b[0;34m''\u001b[0m\u001b[0;34m.\u001b[0m\u001b[0mjoin\u001b[0m\u001b[0;34m(\u001b[0m\u001b[0m_cescape_byte_to_str\u001b[0m\u001b[0;34m[\u001b[0m\u001b[0mOrd\u001b[0m\u001b[0;34m(\u001b[0m\u001b[0mc\u001b[0m\u001b[0;34m)\u001b[0m\u001b[0;34m]\u001b[0m \u001b[0;32mfor\u001b[0m \u001b[0mc\u001b[0m \u001b[0;32min\u001b[0m \u001b[0mtext\u001b[0m\u001b[0;34m)\u001b[0m\u001b[0;34m\u001b[0m\u001b[0m\n\u001b[0m\u001b[1;32m     80\u001b[0m \u001b[0;34m\u001b[0m\u001b[0m\n\u001b[1;32m     81\u001b[0m \u001b[0;34m\u001b[0m\u001b[0m\n",
      "\u001b[0;32m/usr/local/lib/python3.5/dist-packages/google/protobuf/text_encoding.py\u001b[0m in \u001b[0;36m<genexpr>\u001b[0;34m(.0)\u001b[0m\n\u001b[1;32m     77\u001b[0m   \u001b[0;32mif\u001b[0m \u001b[0mas_utf8\u001b[0m\u001b[0;34m:\u001b[0m\u001b[0;34m\u001b[0m\u001b[0m\n\u001b[1;32m     78\u001b[0m     \u001b[0;32mreturn\u001b[0m \u001b[0;34m''\u001b[0m\u001b[0;34m.\u001b[0m\u001b[0mjoin\u001b[0m\u001b[0;34m(\u001b[0m\u001b[0m_cescape_utf8_to_str\u001b[0m\u001b[0;34m[\u001b[0m\u001b[0mOrd\u001b[0m\u001b[0;34m(\u001b[0m\u001b[0mc\u001b[0m\u001b[0;34m)\u001b[0m\u001b[0;34m]\u001b[0m \u001b[0;32mfor\u001b[0m \u001b[0mc\u001b[0m \u001b[0;32min\u001b[0m \u001b[0mtext\u001b[0m\u001b[0;34m)\u001b[0m\u001b[0;34m\u001b[0m\u001b[0m\n\u001b[0;32m---> 79\u001b[0;31m   \u001b[0;32mreturn\u001b[0m \u001b[0;34m''\u001b[0m\u001b[0;34m.\u001b[0m\u001b[0mjoin\u001b[0m\u001b[0;34m(\u001b[0m\u001b[0m_cescape_byte_to_str\u001b[0m\u001b[0;34m[\u001b[0m\u001b[0mOrd\u001b[0m\u001b[0;34m(\u001b[0m\u001b[0mc\u001b[0m\u001b[0;34m)\u001b[0m\u001b[0;34m]\u001b[0m \u001b[0;32mfor\u001b[0m \u001b[0mc\u001b[0m \u001b[0;32min\u001b[0m \u001b[0mtext\u001b[0m\u001b[0;34m)\u001b[0m\u001b[0;34m\u001b[0m\u001b[0m\n\u001b[0m\u001b[1;32m     80\u001b[0m \u001b[0;34m\u001b[0m\u001b[0m\n\u001b[1;32m     81\u001b[0m \u001b[0;34m\u001b[0m\u001b[0m\n",
      "\u001b[0;31mKeyboardInterrupt\u001b[0m: "
     ]
    }
   ],
   "source": [
    "emotion_classifier.train(\n",
    "    input_fn=lambda:train_input_fn(\n",
    "        x,\n",
    "        y,\n",
    "        128),\n",
    "    steps=20*40000,\n",
    "    hooks=[logging_hook])"
   ]
  },
  {
   "cell_type": "code",
   "execution_count": 496,
   "metadata": {},
   "outputs": [
    {
     "data": {
      "text/plain": [
       "(41297, 2304)"
      ]
     },
     "execution_count": 496,
     "metadata": {},
     "output_type": "execute_result"
    }
   ],
   "source": [
    "\n",
    "np.concatenate(dataset[\"pixels\"].values).reshape(len(dataset[\"pixels\"]),len(dataset[\"pixels\"][0])).shape"
   ]
  },
  {
   "cell_type": "markdown",
   "metadata": {},
   "source": [
    "## Evaluation"
   ]
  },
  {
   "cell_type": "code",
   "execution_count": 47,
   "metadata": {},
   "outputs": [],
   "source": [
    "test_df = pd.read_csv(\"~/data/emotion_reco/test_face_dataset.csv\",sep=\",\")\n",
    "test_df.rename(columns={\"Pixels\":\"pixels\",\"Emotion\":\"emotion\"},inplace=True)\n",
    "test_df = test_df.apply(lambda x: string_to_float_list(x),axis=1)"
   ]
  },
  {
   "cell_type": "code",
   "execution_count": 48,
   "metadata": {},
   "outputs": [
    {
     "data": {
      "text/html": [
       "<div>\n",
       "<style scoped>\n",
       "    .dataframe tbody tr th:only-of-type {\n",
       "        vertical-align: middle;\n",
       "    }\n",
       "\n",
       "    .dataframe tbody tr th {\n",
       "        vertical-align: top;\n",
       "    }\n",
       "\n",
       "    .dataframe thead th {\n",
       "        text-align: right;\n",
       "    }\n",
       "</style>\n",
       "<table border=\"1\" class=\"dataframe\">\n",
       "  <thead>\n",
       "    <tr style=\"text-align: right;\">\n",
       "      <th></th>\n",
       "      <th>emotion</th>\n",
       "      <th>pixels</th>\n",
       "    </tr>\n",
       "  </thead>\n",
       "  <tbody>\n",
       "    <tr>\n",
       "      <th>0</th>\n",
       "      <td>3</td>\n",
       "      <td>[221.0, 240.0, 251.0, 254.0, 255.0, 255.0, 255...</td>\n",
       "    </tr>\n",
       "    <tr>\n",
       "      <th>1</th>\n",
       "      <td>6</td>\n",
       "      <td>[100.0, 107.0, 108.0, 104.0, 103.0, 113.0, 117...</td>\n",
       "    </tr>\n",
       "    <tr>\n",
       "      <th>2</th>\n",
       "      <td>4</td>\n",
       "      <td>[35.0, 50.0, 56.0, 57.0, 63.0, 76.0, 74.0, 79....</td>\n",
       "    </tr>\n",
       "    <tr>\n",
       "      <th>3</th>\n",
       "      <td>6</td>\n",
       "      <td>[119.0, 124.0, 129.0, 135.0, 136.0, 140.0, 142...</td>\n",
       "    </tr>\n",
       "    <tr>\n",
       "      <th>4</th>\n",
       "      <td>2</td>\n",
       "      <td>[160.0, 173.0, 186.0, 194.0, 188.0, 185.0, 175...</td>\n",
       "    </tr>\n",
       "  </tbody>\n",
       "</table>\n",
       "</div>"
      ],
      "text/plain": [
       "   emotion                                             pixels\n",
       "0        3  [221.0, 240.0, 251.0, 254.0, 255.0, 255.0, 255...\n",
       "1        6  [100.0, 107.0, 108.0, 104.0, 103.0, 113.0, 117...\n",
       "2        4  [35.0, 50.0, 56.0, 57.0, 63.0, 76.0, 74.0, 79....\n",
       "3        6  [119.0, 124.0, 129.0, 135.0, 136.0, 140.0, 142...\n",
       "4        2  [160.0, 173.0, 186.0, 194.0, 188.0, 185.0, 175..."
      ]
     },
     "execution_count": 48,
     "metadata": {},
     "output_type": "execute_result"
    }
   ],
   "source": [
    "test_df.head()"
   ]
  },
  {
   "cell_type": "code",
   "execution_count": 50,
   "metadata": {},
   "outputs": [],
   "source": [
    "x_test = df_to_tensor(test_df[\"pixels\"])\n",
    "y_test = test_df[\"emotion\"].values"
   ]
  },
  {
   "cell_type": "code",
   "execution_count": 114,
   "metadata": {},
   "outputs": [],
   "source": [
    "checkpoint_paths = [\n",
    "    \"model.ckpt-297900\",\n",
    "    \"model.ckpt-314805\",\n",
    "    \"model.ckpt-331730\",\n",
    "    \"model.ckpt-348642\",\n",
    "    \"model.ckpt-365542\",\n",
    "]"
   ]
  },
  {
   "cell_type": "code",
   "execution_count": 117,
   "metadata": {},
   "outputs": [
    {
     "name": "stdout",
     "output_type": "stream",
     "text": [
      "INFO:tensorflow:Calling model_fn.\n",
      "Tensor(\"IteratorGetNext:1\", shape=(?,), dtype=int64, device=/device:CPU:0)\n",
      "Tensor(\"Relu_3:0\", shape=(?, 256), dtype=float32)\n",
      "Tensor(\"Relu_4:0\", shape=(?, 512), dtype=float32)\n",
      "INFO:tensorflow:Done calling model_fn.\n",
      "INFO:tensorflow:Starting evaluation at 2018-06-19-10:30:07\n",
      "INFO:tensorflow:Graph was finalized.\n",
      "INFO:tensorflow:Restoring parameters from tmp/mnist_convnet_model/model.ckpt-297900\n",
      "INFO:tensorflow:Running local_init_op.\n",
      "INFO:tensorflow:Done running local_init_op.\n",
      "INFO:tensorflow:Finished evaluation at 2018-06-19-10:30:08\n",
      "INFO:tensorflow:Saving dict for global step 297900: accuracy = 0.51531833, global_step = 297900, loss = 4.6557813\n",
      "INFO:tensorflow:Calling model_fn.\n",
      "Tensor(\"IteratorGetNext:1\", shape=(?,), dtype=int64, device=/device:CPU:0)\n",
      "Tensor(\"Relu_3:0\", shape=(?, 256), dtype=float32)\n",
      "Tensor(\"Relu_4:0\", shape=(?, 512), dtype=float32)\n",
      "INFO:tensorflow:Done calling model_fn.\n",
      "INFO:tensorflow:Starting evaluation at 2018-06-19-10:30:10\n",
      "INFO:tensorflow:Graph was finalized.\n",
      "INFO:tensorflow:Restoring parameters from tmp/mnist_convnet_model/model.ckpt-314805\n",
      "INFO:tensorflow:Running local_init_op.\n",
      "INFO:tensorflow:Done running local_init_op.\n",
      "INFO:tensorflow:Finished evaluation at 2018-06-19-10:30:10\n",
      "INFO:tensorflow:Saving dict for global step 314805: accuracy = 0.5, global_step = 314805, loss = 4.8753767\n",
      "INFO:tensorflow:Calling model_fn.\n",
      "Tensor(\"IteratorGetNext:1\", shape=(?,), dtype=int64, device=/device:CPU:0)\n",
      "Tensor(\"Relu_3:0\", shape=(?, 256), dtype=float32)\n",
      "Tensor(\"Relu_4:0\", shape=(?, 512), dtype=float32)\n",
      "INFO:tensorflow:Done calling model_fn.\n",
      "INFO:tensorflow:Starting evaluation at 2018-06-19-10:30:12\n",
      "INFO:tensorflow:Graph was finalized.\n",
      "INFO:tensorflow:Restoring parameters from tmp/mnist_convnet_model/model.ckpt-331730\n",
      "INFO:tensorflow:Running local_init_op.\n",
      "INFO:tensorflow:Done running local_init_op.\n",
      "INFO:tensorflow:Finished evaluation at 2018-06-19-10:30:13\n",
      "INFO:tensorflow:Saving dict for global step 331730: accuracy = 0.5117281, global_step = 331730, loss = 4.5752735\n",
      "INFO:tensorflow:Calling model_fn.\n",
      "Tensor(\"IteratorGetNext:1\", shape=(?,), dtype=int64, device=/device:CPU:0)\n",
      "Tensor(\"Relu_3:0\", shape=(?, 256), dtype=float32)\n",
      "Tensor(\"Relu_4:0\", shape=(?, 512), dtype=float32)\n",
      "INFO:tensorflow:Done calling model_fn.\n",
      "INFO:tensorflow:Starting evaluation at 2018-06-19-10:30:14\n",
      "INFO:tensorflow:Graph was finalized.\n",
      "INFO:tensorflow:Restoring parameters from tmp/mnist_convnet_model/model.ckpt-348642\n",
      "INFO:tensorflow:Running local_init_op.\n",
      "INFO:tensorflow:Done running local_init_op.\n",
      "INFO:tensorflow:Finished evaluation at 2018-06-19-10:30:15\n",
      "INFO:tensorflow:Saving dict for global step 348642: accuracy = 0.5160364, global_step = 348642, loss = 4.8227267\n",
      "INFO:tensorflow:Calling model_fn.\n",
      "Tensor(\"IteratorGetNext:1\", shape=(?,), dtype=int64, device=/device:CPU:0)\n",
      "Tensor(\"Relu_3:0\", shape=(?, 256), dtype=float32)\n",
      "Tensor(\"Relu_4:0\", shape=(?, 512), dtype=float32)\n",
      "INFO:tensorflow:Done calling model_fn.\n",
      "INFO:tensorflow:Starting evaluation at 2018-06-19-10:30:16\n",
      "INFO:tensorflow:Graph was finalized.\n",
      "INFO:tensorflow:Restoring parameters from tmp/mnist_convnet_model/model.ckpt-365542\n",
      "INFO:tensorflow:Running local_init_op.\n",
      "INFO:tensorflow:Done running local_init_op.\n",
      "INFO:tensorflow:Finished evaluation at 2018-06-19-10:30:17\n",
      "INFO:tensorflow:Saving dict for global step 365542: accuracy = 0.50957394, global_step = 365542, loss = 4.9671273\n"
     ]
    }
   ],
   "source": [
    "for checkpoint in checkpoint_paths:\n",
    "    eval_results = emotion_classifier.evaluate(\n",
    "        input_fn=lambda:eval_input_fn(x_test,y_test,len(y_test)),\n",
    "        checkpoint_path=\"tmp/mnist_convnet_model/\" + checkpoint)"
   ]
  },
  {
   "cell_type": "markdown",
   "metadata": {},
   "source": [
    "## Predictions"
   ]
  },
  {
   "cell_type": "code",
   "execution_count": 88,
   "metadata": {},
   "outputs": [],
   "source": [
    "predictions = emotion_classifier.predict(\n",
    "    input_fn=lambda:eval_input_fn(x_test,y_test,len(y_test)))"
   ]
  },
  {
   "cell_type": "code",
   "execution_count": 89,
   "metadata": {},
   "outputs": [
    {
     "name": "stdout",
     "output_type": "stream",
     "text": [
      "INFO:tensorflow:Calling model_fn.\n",
      "None\n",
      "Tensor(\"Relu_3:0\", shape=(?, 256), dtype=float32)\n",
      "Tensor(\"Relu_4:0\", shape=(?, 512), dtype=float32)\n",
      "INFO:tensorflow:Done calling model_fn.\n",
      "INFO:tensorflow:Graph was finalized.\n",
      "INFO:tensorflow:Restoring parameters from tmp/mnist_convnet_model/model.ckpt-365542\n",
      "INFO:tensorflow:Running local_init_op.\n",
      "INFO:tensorflow:Done running local_init_op.\n"
     ]
    }
   ],
   "source": [
    "predict_labels = [emot[\"classes\"] for emot in predictions]"
   ]
  },
  {
   "cell_type": "code",
   "execution_count": 112,
   "metadata": {},
   "outputs": [
    {
     "name": "stdout",
     "output_type": "stream",
     "text": [
      "4178\n"
     ]
    },
    {
     "data": {
      "text/plain": [
       "[('Sad', 'Neutral', 293),\n",
       " ('Angry', 'Disgust', 274),\n",
       " ('Fear', 'Neutral', 139),\n",
       " ('Neutral', 'Sad', 115),\n",
       " ('Sad', 'Angry', 110),\n",
       " ('Surprise', 'Fear', 110),\n",
       " ('Happy', 'Neutral', 106),\n",
       " ('Neutral', 'Angry', 106),\n",
       " ('Fear', 'Surprise', 81),\n",
       " ('Fear', 'Sad', 71),\n",
       " ('Sad', 'Disgust', 62),\n",
       " ('Surprise', 'Neutral', 50),\n",
       " ('Sad', 'Fear', 50),\n",
       " ('Happy', 'Fear', 48)]"
      ]
     },
     "execution_count": 112,
     "metadata": {},
     "output_type": "execute_result"
    }
   ],
   "source": [
    "result = list(zip(*[predict_labels,y_test]))\n",
    "common_mistakes =[(emotion_string[pred],emotion_string[act],amount) for (pred,act),amount in Counter(result).most_common(20) if pred != act]\n",
    "print(len(y_test))\n",
    "common_mistakes"
   ]
  },
  {
   "cell_type": "code",
   "execution_count": 118,
   "metadata": {},
   "outputs": [
    {
     "data": {
      "image/png": "[encoded data removed]",
      "text/plain": [
       "<Figure size 432x288 with 1 Axes>"
      ]
     },
     "metadata": {},
     "output_type": "display_data"
    },
    {
     "name": "stdout",
     "output_type": "stream",
     "text": [
      "Act: Fear Pred: Neutral\n"
     ]
    },
    {
     "data": {
      "image/png": "[encoded data removed]",
      "text/plain": [
       "<Figure size 432x288 with 1 Axes>"
      ]
     },
     "metadata": {},
     "output_type": "display_data"
    },
    {
     "name": "stdout",
     "output_type": "stream",
     "text": [
      "Act: Surprise Pred: Neutral\n"
     ]
    },
    {
     "data": {
      "image/png": "[encoded data removed]",
      "text/plain": [
       "<Figure size 432x288 with 1 Axes>"
      ]
     },
     "metadata": {},
     "output_type": "display_data"
    },
    {
     "name": "stdout",
     "output_type": "stream",
     "text": [
      "Act: Fear Pred: Sad\n"
     ]
    },
    {
     "data": {
      "image/png": "[encoded data removed]",
      "text/plain": [
       "<Figure size 432x288 with 1 Axes>"
      ]
     },
     "metadata": {},
     "output_type": "display_data"
    },
    {
     "name": "stdout",
     "output_type": "stream",
     "text": [
      "Act: Sad Pred: Neutral\n"
     ]
    },
    {
     "data": {
      "image/png": "[encoded data removed]",
      "text/plain": [
       "<Figure size 432x288 with 1 Axes>"
      ]
     },
     "metadata": {},
     "output_type": "display_data"
    },
    {
     "name": "stdout",
     "output_type": "stream",
     "text": [
      "Act: Angry Pred: Neutral\n"
     ]
    },
    {
     "data": {
      "image/png": "[encoded data removed]",
      "text/plain": [
       "<Figure size 432x288 with 1 Axes>"
      ]
     },
     "metadata": {},
     "output_type": "display_data"
    },
    {
     "name": "stdout",
     "output_type": "stream",
     "text": [
      "Act: Angry Pred: Disgust\n"
     ]
    },
    {
     "data": {
      "image/png": "[encoded data removed]",
      "text/plain": [
       "<Figure size 432x288 with 1 Axes>"
      ]
     },
     "metadata": {},
     "output_type": "display_data"
    },
    {
     "name": "stdout",
     "output_type": "stream",
     "text": [
      "Act: Sad Pred: Fear\n"
     ]
    }
   ],
   "source": [
    "#Some of the wrong predictions\n",
    "for i in range(10,20):\n",
    "    pred,act = result[i]\n",
    "    if pred != act:\n",
    "        plt.imshow(np.reshape([int(x) for x in test_df[\"pixels\"][i]],(48,48)))\n",
    "        plt.show()\n",
    "        print(\"Act: {} Pred: {}\".format(emotion_string[pred],emotion_string[act]))"
   ]
  },
  {
   "cell_type": "markdown",
   "metadata": {},
   "source": [
    "# Student Teacher Network\n",
    "\n",
    "## Create Teacher Labels"
   ]
  },
  {
   "cell_type": "markdown",
   "metadata": {},
   "source": [
    "### Training"
   ]
  },
  {
   "cell_type": "code",
   "execution_count": 129,
   "metadata": {},
   "outputs": [],
   "source": [
    "x_pred = df_to_tensor(dataset[\"pixels\"])\n",
    "y_pred = dataset[\"emotion\"].values"
   ]
  },
  {
   "cell_type": "code",
   "execution_count": null,
   "metadata": {},
   "outputs": [],
   "source": [
    "result = []\n",
    "for x_chunk in range(0,len(x_pred),5000):\n",
    "    predictions = emotion_classifier.predict(\n",
    "        input_fn=lambda:eval_input_fn(x_pred[x_chunk:x_chunk+5000],y_pred[x_chunk:x_chunk+5000],len(y_pred)))\n",
    "    result += [list(predictions)]\n",
    "\n",
    "probs = [pred[\"probabilities\"] for pred in np.concatenate(result)]"
   ]
  },
  {
   "cell_type": "code",
   "execution_count": 140,
   "metadata": {},
   "outputs": [],
   "source": [
    "dataset[\"probabilities\"] = probs"
   ]
  },
  {
   "cell_type": "code",
   "execution_count": 156,
   "metadata": {},
   "outputs": [],
   "source": [
    "dataset.to_csv(\"/data/emotion_reco/face_datasetV2.csv\",sep=\"|\",index=False)"
   ]
  },
  {
   "cell_type": "markdown",
   "metadata": {},
   "source": [
    "### Test"
   ]
  },
  {
   "cell_type": "code",
   "execution_count": 171,
   "metadata": {},
   "outputs": [],
   "source": [
    "test_df = pd.read_csv(\"~/data/emotion_reco/test_face_dataset.csv\",sep=\",\")\n",
    "test_df.rename(columns={\"Pixels\":\"pixels\",\"Emotion\":\"emotion\"},inplace=True)\n",
    "test_df = test_df.apply(lambda x: string_to_float_list(x),axis=1)"
   ]
  },
  {
   "cell_type": "code",
   "execution_count": 172,
   "metadata": {},
   "outputs": [],
   "source": [
    "x_test_pred = df_to_tensor(test_df[\"pixels\"])\n",
    "y_test_pred = test_df[\"emotion\"].values"
   ]
  },
  {
   "cell_type": "code",
   "execution_count": null,
   "metadata": {},
   "outputs": [],
   "source": [
    "result = []\n",
    "for x_chunk in range(0,len(x_pred),5000):\n",
    "    predictions = emotion_classifier.predict(\n",
    "        input_fn=lambda:eval_input_fn(x_test_pred[x_chunk:x_chunk+5000],y_test_pred[x_chunk:x_chunk+5000],len(y_test_pred)))\n",
    "    result += [list(predictions)]\n",
    "\n",
    "probs = [pred[\"probabilities\"] for pred in np.concatenate(result)]"
   ]
  },
  {
   "cell_type": "code",
   "execution_count": 174,
   "metadata": {},
   "outputs": [],
   "source": [
    "test_df[\"probabilities\"] = probs"
   ]
  },
  {
   "cell_type": "markdown",
   "metadata": {},
   "source": [
    "## Student Network"
   ]
  },
  {
   "cell_type": "code",
   "execution_count": 159,
   "metadata": {},
   "outputs": [],
   "source": [
    "def cnn_student_model_fn(features, labels, mode):\n",
    "    \"\"\"Model function for CNN.\"\"\"\n",
    "    n_conv = [(2,3,64),(2,5,128),(2,3,512)]\n",
    "    n_fc = [256,512]\n",
    "    \n",
    "    # Input Layer\n",
    "    input_layer = tf.reshape(tf.cast(features,tf.float32), [-1, 48, 48, 1])\n",
    "    #one_hot_labels = tf.one_hot(labels,7)\n",
    "    \n",
    "    conv_layer = input_layer\n",
    "    \n",
    "    for s,k,f in n_conv:\n",
    "        conv_layer = create_conv_layer(\n",
    "            inputs=conv_layer,\n",
    "            filters=f,\n",
    "            kernels=[k,k],\n",
    "            padding=\"same\",\n",
    "            strides=s,\n",
    "            pools=[2,2],\n",
    "            name=\"conv\"+str(f),\n",
    "            mode=mode\n",
    "            )\n",
    "        \n",
    "    \n",
    "    \n",
    "    fc_layer = tf.reshape(conv_layer,[-1,6*6*512])\n",
    "    \n",
    "    for n in n_fc:\n",
    "        fc_layer = create_fc_layer(\n",
    "            inputs=fc_layer,\n",
    "            neurons=n,\n",
    "            mode=mode\n",
    "        )\n",
    "        print(fc_layer)\n",
    "        \n",
    "    logits = tf.layers.dense(inputs=fc_layer, units=7)\n",
    "    \n",
    "    \n",
    "    \n",
    "    softmax = tf.nn.softmax(logits, name=\"softmax_tensor\")\n",
    "\n",
    "    predictions = {\n",
    "      # Generate predictions (for PREDICT and EVAL mode)\n",
    "      \"classes\": tf.argmax(input=logits, axis=1),\n",
    "      # Add `softmax_tensor` to the graph. It is used for PREDICT and by the\n",
    "      # `logging_hook`.\n",
    "      \"probabilities\": softmax\n",
    "    }\n",
    "\n",
    "    if mode == tf.estimator.ModeKeys.PREDICT:\n",
    "        return tf.estimator.EstimatorSpec(mode=mode, predictions=predictions)\n",
    "\n",
    "    # Calculate Loss (for both TRAIN and EVAL modes)\n",
    "    #loss = tf.losses.sparse_softmax_cross_entropy(labels=labels, logits=logits)\n",
    "    loss = tf.losses.mean_squared_error(labels=labels, predictions=softmax)\n",
    "    \n",
    "\n",
    "    # Configure the Training Op (for TRAIN mode)\n",
    "    if mode == tf.estimator.ModeKeys.TRAIN:\n",
    "        optimizer = tf.train.AdamOptimizer(learning_rate=0.005)\n",
    "        train_op = optimizer.minimize(\n",
    "            loss=loss,\n",
    "            global_step=tf.train.get_global_step())\n",
    "        return tf.estimator.EstimatorSpec(mode=mode, loss=loss, train_op=train_op)\n",
    "\n",
    "    # Add evaluation metrics (for EVAL mode)\n",
    "    eval_metric_ops = {\n",
    "      \"accuracy\": tf.metrics.accuracy(\n",
    "          labels=labels, predictions=predictions[\"classes\"])}\n",
    "    return tf.estimator.EstimatorSpec(\n",
    "      mode=mode, loss=loss, eval_metric_ops=eval_metric_ops)"
   ]
  },
  {
   "cell_type": "markdown",
   "metadata": {},
   "source": [
    "### Definition"
   ]
  },
  {
   "cell_type": "code",
   "execution_count": 165,
   "metadata": {},
   "outputs": [
    {
     "name": "stdout",
     "output_type": "stream",
     "text": [
      "INFO:tensorflow:Using default config.\n",
      "INFO:tensorflow:Using config: {'_tf_random_seed': None, '_session_config': None, '_task_type': 'worker', '_num_worker_replicas': 1, '_save_checkpoints_secs': 600, '_master': '', '_cluster_spec': <tensorflow.python.training.server_lib.ClusterSpec object at 0x7f8770707400>, '_keep_checkpoint_max': 5, '_evaluation_master': '', '_model_dir': 'tmp/emotion_student_model', '_global_id_in_cluster': 0, '_service': None, '_save_checkpoints_steps': None, '_log_step_count_steps': 100, '_task_id': 0, '_keep_checkpoint_every_n_hours': 10000, '_is_chief': True, '_num_ps_replicas': 0, '_save_summary_steps': 100, '_train_distribute': None}\n"
     ]
    }
   ],
   "source": [
    "emotion_student_classifier = tf.estimator.Estimator(\n",
    "    model_fn=cnn_student_model_fn, model_dir=\"tmp/emotion_student_model\")\n",
    "\n",
    "\n",
    "tensors_to_log = {\"probabilities\": \"softmax_tensor\"}\n",
    "logging_hook = tf.train.LoggingTensorHook(\n",
    "  tensors=tensors_to_log, every_n_iter=2000)\n",
    "\n",
    "tf.logging.set_verbosity(tf.logging.INFO)"
   ]
  },
  {
   "cell_type": "markdown",
   "metadata": {},
   "source": [
    "### Training"
   ]
  },
  {
   "cell_type": "code",
   "execution_count": 166,
   "metadata": {},
   "outputs": [
    {
     "ename": "KeyboardInterrupt",
     "evalue": "",
     "output_type": "error",
     "traceback": [
      "\u001b[0;31m---------------------------------------------------------------------------\u001b[0m",
      "\u001b[0;31mKeyboardInterrupt\u001b[0m                         Traceback (most recent call last)",
      "\u001b[0;32m<ipython-input-166-a71f07dedd54>\u001b[0m in \u001b[0;36m<module>\u001b[0;34m()\u001b[0m\n\u001b[0;32m----> 1\u001b[0;31m \u001b[0mx_train\u001b[0m \u001b[0;34m=\u001b[0m \u001b[0mdf_to_tensor\u001b[0m\u001b[0;34m(\u001b[0m\u001b[0mdataset\u001b[0m\u001b[0;34m[\u001b[0m\u001b[0;34m\"pixels\"\u001b[0m\u001b[0;34m]\u001b[0m\u001b[0;34m)\u001b[0m\u001b[0;34m\u001b[0m\u001b[0m\n\u001b[0m\u001b[1;32m      2\u001b[0m \u001b[0my_train\u001b[0m \u001b[0;34m=\u001b[0m \u001b[0mdf_to_tensor\u001b[0m\u001b[0;34m(\u001b[0m\u001b[0mdataset\u001b[0m\u001b[0;34m[\u001b[0m\u001b[0;34m\"probabilities\"\u001b[0m\u001b[0;34m]\u001b[0m\u001b[0;34m)\u001b[0m\u001b[0;34m\u001b[0m\u001b[0m\n",
      "\u001b[0;32m<ipython-input-23-b40a53883359>\u001b[0m in \u001b[0;36mdf_to_tensor\u001b[0;34m(series)\u001b[0m\n\u001b[1;32m      1\u001b[0m \u001b[0;32mdef\u001b[0m \u001b[0mdf_to_tensor\u001b[0m\u001b[0;34m(\u001b[0m\u001b[0mseries\u001b[0m\u001b[0;34m)\u001b[0m\u001b[0;34m:\u001b[0m\u001b[0;34m\u001b[0m\u001b[0m\n\u001b[0;32m----> 2\u001b[0;31m     \u001b[0;32mreturn\u001b[0m \u001b[0mnp\u001b[0m\u001b[0;34m.\u001b[0m\u001b[0mconcatenate\u001b[0m\u001b[0;34m(\u001b[0m\u001b[0mseries\u001b[0m\u001b[0;34m.\u001b[0m\u001b[0mvalues\u001b[0m\u001b[0;34m)\u001b[0m\u001b[0;34m.\u001b[0m\u001b[0mreshape\u001b[0m\u001b[0;34m(\u001b[0m\u001b[0mlen\u001b[0m\u001b[0;34m(\u001b[0m\u001b[0mseries\u001b[0m\u001b[0;34m)\u001b[0m\u001b[0;34m,\u001b[0m\u001b[0mlen\u001b[0m\u001b[0;34m(\u001b[0m\u001b[0mseries\u001b[0m\u001b[0;34m[\u001b[0m\u001b[0;36m0\u001b[0m\u001b[0;34m]\u001b[0m\u001b[0;34m)\u001b[0m\u001b[0;34m)\u001b[0m\u001b[0;34m\u001b[0m\u001b[0m\n\u001b[0m",
      "\u001b[0;31mKeyboardInterrupt\u001b[0m: "
     ]
    }
   ],
   "source": [
    "x_train = df_to_tensor(dataset[\"pixels\"])\n",
    "y_train = df_to_tensor(dataset[\"probabilities\"])"
   ]
  },
  {
   "cell_type": "code",
   "execution_count": null,
   "metadata": {},
   "outputs": [],
   "source": [
    "emotion_student_classifier.train(\n",
    "    input_fn=lambda:train_input_fn(\n",
    "        x_train,\n",
    "        y_train,\n",
    "        128),\n",
    "    steps=20*40000,\n",
    "    hooks=[logging_hook])"
   ]
  },
  {
   "cell_type": "markdown",
   "metadata": {},
   "source": [
    "### Evaluation"
   ]
  },
  {
   "cell_type": "code",
   "execution_count": 169,
   "metadata": {},
   "outputs": [],
   "source": [
    "checkpoint_paths = [\n",
    "    \"model.ckpt-546369\",\n",
    "    \"model.ckpt-563225\",\n",
    "    \"model.ckpt-580079\",\n",
    "    \"model.ckpt-596946\",\n",
    "    \"model.ckpt-613807\"\n",
    "]"
   ]
  },
  {
   "cell_type": "code",
   "execution_count": 179,
   "metadata": {},
   "outputs": [],
   "source": [
    "x_test = df_to_tensor(test_df[\"pixels\"])\n",
    "y_test = test_df[\"emotion\"].values"
   ]
  },
  {
   "cell_type": "code",
   "execution_count": 202,
   "metadata": {},
   "outputs": [
    {
     "name": "stdout",
     "output_type": "stream",
     "text": [
      "INFO:tensorflow:Calling model_fn.\n",
      "Tensor(\"Relu_3:0\", shape=(?, 256), dtype=float32)\n",
      "Tensor(\"Relu_4:0\", shape=(?, 512), dtype=float32)\n",
      "INFO:tensorflow:Done calling model_fn.\n",
      "INFO:tensorflow:Graph was finalized.\n",
      "INFO:tensorflow:Restoring parameters from tmp/emotion_student_model/model.ckpt-546369\n",
      "INFO:tensorflow:Running local_init_op.\n",
      "INFO:tensorflow:Done running local_init_op.\n",
      "0.9946243068503765\n",
      "INFO:tensorflow:Calling model_fn.\n",
      "Tensor(\"Relu_3:0\", shape=(?, 256), dtype=float32)\n",
      "Tensor(\"Relu_4:0\", shape=(?, 512), dtype=float32)\n",
      "INFO:tensorflow:Done calling model_fn.\n",
      "INFO:tensorflow:Graph was finalized.\n",
      "INFO:tensorflow:Restoring parameters from tmp/emotion_student_model/model.ckpt-563225\n",
      "INFO:tensorflow:Running local_init_op.\n",
      "INFO:tensorflow:Done running local_init_op.\n",
      "0.9946485216843839\n",
      "INFO:tensorflow:Calling model_fn.\n",
      "Tensor(\"Relu_3:0\", shape=(?, 256), dtype=float32)\n",
      "Tensor(\"Relu_4:0\", shape=(?, 512), dtype=float32)\n",
      "INFO:tensorflow:Done calling model_fn.\n",
      "INFO:tensorflow:Graph was finalized.\n",
      "INFO:tensorflow:Restoring parameters from tmp/emotion_student_model/model.ckpt-580079\n",
      "INFO:tensorflow:Running local_init_op.\n",
      "INFO:tensorflow:Done running local_init_op.\n",
      "0.9947695958544204\n",
      "INFO:tensorflow:Calling model_fn.\n",
      "Tensor(\"Relu_3:0\", shape=(?, 256), dtype=float32)\n",
      "Tensor(\"Relu_4:0\", shape=(?, 512), dtype=float32)\n",
      "INFO:tensorflow:Done calling model_fn.\n",
      "INFO:tensorflow:Graph was finalized.\n",
      "INFO:tensorflow:Restoring parameters from tmp/emotion_student_model/model.ckpt-596946\n",
      "INFO:tensorflow:Running local_init_op.\n",
      "INFO:tensorflow:Done running local_init_op.\n",
      "0.9948664551904497\n",
      "INFO:tensorflow:Calling model_fn.\n",
      "Tensor(\"Relu_3:0\", shape=(?, 256), dtype=float32)\n",
      "Tensor(\"Relu_4:0\", shape=(?, 512), dtype=float32)\n",
      "INFO:tensorflow:Done calling model_fn.\n",
      "INFO:tensorflow:Graph was finalized.\n",
      "INFO:tensorflow:Restoring parameters from tmp/emotion_student_model/model.ckpt-613807\n",
      "INFO:tensorflow:Running local_init_op.\n",
      "INFO:tensorflow:Done running local_init_op.\n",
      "0.994890670024457\n"
     ]
    }
   ],
   "source": [
    "for checkpoint in checkpoint_paths:\n",
    "    predictions = emotion_student_classifier.predict(\n",
    "        input_fn=lambda:eval_input_fn(x_train,y_train,len(y_test)),\n",
    "        checkpoint_path=\"tmp/emotion_student_model/\"+checkpoint)\n",
    "    predict_labels = [emot[\"classes\"] for emot in predictions]\n",
    "    \n",
    "    print(sum(np.argmax(y_train,axis=1) == np.array(predict_labels))/len(y_train))"
   ]
  },
  {
   "cell_type": "code",
   "execution_count": null,
   "metadata": {},
   "outputs": [],
   "source": [
    "for checkpoint in checkpoint_paths:\n",
    "    predictions = emotion_student_classifier.predict(\n",
    "        input_fn=lambda:eval_input_fn(x_test,y_test,len(y_test)),\n",
    "        checkpoint_path=\"tmp/emotion_student_model/\"+checkpoint)\n",
    "    predict_labels = [emot[\"classes\"] for emot in predictions]\n",
    "    print(sum(y_test == predict_labels)/len(y_test))"
   ]
  },
  {
   "cell_type": "code",
   "execution_count": 209,
   "metadata": {},
   "outputs": [
    {
     "data": {
      "image/png": "[encoded data removed]",
      "text/plain": [
       "<Figure size 432x288 with 1 Axes>"
      ]
     },
     "metadata": {},
     "output_type": "display_data"
    },
    {
     "name": "stdout",
     "output_type": "stream",
     "text": [
      "Act: Angry Pred: Angry\n"
     ]
    },
    {
     "data": {
      "image/png": "[encoded data removed]",
      "text/plain": [
       "<Figure size 432x288 with 1 Axes>"
      ]
     },
     "metadata": {},
     "output_type": "display_data"
    },
    {
     "name": "stdout",
     "output_type": "stream",
     "text": [
      "Act: Neutral Pred: Neutral\n"
     ]
    },
    {
     "data": {
      "image/png": "[encoded data removed]",
      "text/plain": [
       "<Figure size 432x288 with 1 Axes>"
      ]
     },
     "metadata": {},
     "output_type": "display_data"
    },
    {
     "name": "stdout",
     "output_type": "stream",
     "text": [
      "Act: Neutral Pred: Neutral\n"
     ]
    },
    {
     "data": {
      "image/png": "[encoded data removed]",
      "text/plain": [
       "<Figure size 432x288 with 1 Axes>"
      ]
     },
     "metadata": {},
     "output_type": "display_data"
    },
    {
     "name": "stdout",
     "output_type": "stream",
     "text": [
      "Act: Neutral Pred: Neutral\n"
     ]
    },
    {
     "data": {
      "image/png": "[encoded data removed]",
      "text/plain": [
       "<Figure size 432x288 with 1 Axes>"
      ]
     },
     "metadata": {},
     "output_type": "display_data"
    },
    {
     "name": "stdout",
     "output_type": "stream",
     "text": [
      "Act: Happy Pred: Happy\n"
     ]
    },
    {
     "data": {
      "image/png": "[encoded data removed]",
      "text/plain": [
       "<Figure size 432x288 with 1 Axes>"
      ]
     },
     "metadata": {},
     "output_type": "display_data"
    },
    {
     "name": "stdout",
     "output_type": "stream",
     "text": [
      "Act: Surprise Pred: Surprise\n"
     ]
    },
    {
     "data": {
      "image/png": "[encoded data removed]",
      "text/plain": [
       "<Figure size 432x288 with 1 Axes>"
      ]
     },
     "metadata": {},
     "output_type": "display_data"
    },
    {
     "name": "stdout",
     "output_type": "stream",
     "text": [
      "Act: Happy Pred: Happy\n"
     ]
    },
    {
     "data": {
      "image/png": "[encoded data removed]",
      "text/plain": [
       "<Figure size 432x288 with 1 Axes>"
      ]
     },
     "metadata": {},
     "output_type": "display_data"
    },
    {
     "name": "stdout",
     "output_type": "stream",
     "text": [
      "Act: Fear Pred: Fear\n"
     ]
    },
    {
     "data": {
      "image/png": "[encoded data removed]",
      "text/plain": [
       "<Figure size 432x288 with 1 Axes>"
      ]
     },
     "metadata": {},
     "output_type": "display_data"
    },
    {
     "name": "stdout",
     "output_type": "stream",
     "text": [
      "Act: Neutral Pred: Neutral\n"
     ]
    },
    {
     "data": {
      "image/png": "[encoded data removed]",
      "text/plain": [
       "<Figure size 432x288 with 1 Axes>"
      ]
     },
     "metadata": {},
     "output_type": "display_data"
    },
    {
     "name": "stdout",
     "output_type": "stream",
     "text": [
      "Act: Sad Pred: Sad\n"
     ]
    }
   ],
   "source": [
    "#Some of the wrong predictions\n",
    "result = list(zip(*[predict_labels,np.argmax(y_train,axis=1)]))\n",
    "for i in range(10,20):\n",
    "    pred,act = result[i]\n",
    "    if pred == act:\n",
    "        plt.imshow(np.reshape([int(x) for x in dataset[\"pixels\"][i]],(48,48)))\n",
    "        plt.show()\n",
    "        print(\"Act: {} Pred: {}\".format(emotion_string[pred],emotion_string[act]))"
   ]
  },
  {
   "cell_type": "code",
   "execution_count": 206,
   "metadata": {},
   "outputs": [
    {
     "data": {
      "text/plain": [
       "[(0, 0),\n",
       " (0, 0),\n",
       " (2, 2),\n",
       " (4, 4),\n",
       " (6, 6),\n",
       " (2, 2),\n",
       " (4, 4),\n",
       " (3, 3),\n",
       " (3, 3),\n",
       " (2, 2),\n",
       " (0, 0),\n",
       " (6, 6),\n",
       " (6, 6),\n",
       " (6, 6),\n",
       " (3, 3),\n",
       " (5, 5),\n",
       " (3, 3),\n",
       " (2, 2),\n",
       " (6, 6),\n",
       " (4, 4),\n",
       " (4, 4),\n",
       " (2, 2),\n",
       " (0, 0),\n",
       " (0, 0),\n",
       " (3, 3),\n",
       " (3, 3),\n",
       " (5, 5),\n",
       " (0, 0),\n",
       " (3, 3),\n",
       " (5, 5),\n",
       " (3, 3),\n",
       " (6, 6),\n",
       " (3, 3),\n",
       " (2, 2),\n",
       " (3, 3),\n",
       " (6, 6),\n",
       " (6, 6),\n",
       " (6, 6),\n",
       " (0, 0),\n",
       " (5, 5),\n",
       " (0, 0),\n",
       " (3, 3),\n",
       " (4, 4),\n",
       " (0, 0),\n",
       " (6, 6),\n",
       " (2, 2),\n",
       " (3, 3),\n",
       " (6, 6),\n",
       " (2, 2),\n",
       " (2, 2),\n",
       " (2, 2),\n",
       " (5, 5),\n",
       " (5, 5),\n",
       " (6, 6),\n",
       " (4, 4),\n",
       " (5, 5),\n",
       " (0, 0),\n",
       " (3, 3),\n",
       " (4, 4),\n",
       " (2, 2),\n",
       " (6, 6),\n",
       " (5, 5),\n",
       " (3, 3),\n",
       " (4, 4),\n",
       " (3, 3),\n",
       " (0, 0),\n",
       " (4, 4),\n",
       " (3, 3),\n",
       " (0, 0),\n",
       " (4, 5),\n",
       " (4, 4),\n",
       " (2, 2),\n",
       " (4, 4),\n",
       " (2, 2),\n",
       " (0, 0),\n",
       " (6, 6),\n",
       " (0, 0),\n",
       " (0, 0),\n",
       " (5, 5),\n",
       " (4, 4),\n",
       " (3, 3),\n",
       " (5, 5),\n",
       " (3, 3),\n",
       " (6, 6),\n",
       " (2, 2),\n",
       " (2, 2),\n",
       " (4, 4),\n",
       " (4, 4),\n",
       " (5, 5),\n",
       " (4, 4),\n",
       " (0, 0),\n",
       " (0, 0),\n",
       " (6, 6),\n",
       " (0, 0),\n",
       " (6, 6),\n",
       " (2, 2),\n",
       " (2, 2),\n",
       " (3, 3),\n",
       " (4, 4),\n",
       " (3, 3),\n",
       " (3, 3),\n",
       " (2, 2),\n",
       " (6, 6),\n",
       " (3, 3),\n",
       " (4, 4),\n",
       " (3, 3),\n",
       " (2, 2),\n",
       " (0, 0),\n",
       " (5, 2),\n",
       " (3, 3),\n",
       " (2, 2),\n",
       " (3, 3),\n",
       " (6, 6),\n",
       " (6, 6),\n",
       " (3, 3),\n",
       " (4, 4),\n",
       " (4, 4),\n",
       " (0, 0),\n",
       " (3, 3),\n",
       " (3, 3),\n",
       " (0, 0),\n",
       " (2, 2),\n",
       " (0, 0),\n",
       " (0, 0),\n",
       " (3, 3),\n",
       " (3, 3),\n",
       " (0, 0),\n",
       " (4, 4),\n",
       " (5, 5),\n",
       " (2, 2),\n",
       " (4, 4),\n",
       " (2, 2),\n",
       " (5, 5),\n",
       " (3, 3),\n",
       " (0, 0),\n",
       " (6, 6),\n",
       " (6, 6),\n",
       " (2, 2),\n",
       " (2, 2),\n",
       " (3, 3),\n",
       " (2, 2),\n",
       " (3, 3),\n",
       " (3, 3),\n",
       " (3, 3),\n",
       " (3, 3),\n",
       " (3, 3),\n",
       " (4, 4),\n",
       " (2, 2),\n",
       " (2, 2),\n",
       " (5, 0),\n",
       " (0, 0),\n",
       " (2, 2),\n",
       " (6, 6),\n",
       " (3, 3),\n",
       " (4, 4),\n",
       " (5, 5),\n",
       " (3, 3),\n",
       " (0, 0),\n",
       " (2, 2),\n",
       " (4, 4),\n",
       " (5, 5),\n",
       " (2, 2),\n",
       " (3, 3),\n",
       " (4, 4),\n",
       " (6, 6),\n",
       " (3, 3),\n",
       " (4, 4),\n",
       " (3, 3),\n",
       " (6, 6),\n",
       " (0, 0),\n",
       " (4, 4),\n",
       " (4, 4),\n",
       " (4, 4),\n",
       " (2, 2),\n",
       " (6, 6),\n",
       " (5, 5),\n",
       " (5, 5),\n",
       " (6, 6),\n",
       " (5, 5),\n",
       " (2, 2),\n",
       " (3, 3),\n",
       " (2, 2),\n",
       " (3, 3),\n",
       " (4, 4),\n",
       " (0, 0),\n",
       " (2, 2),\n",
       " (0, 0),\n",
       " (3, 3),\n",
       " (0, 0),\n",
       " (2, 2),\n",
       " (2, 2),\n",
       " (5, 5),\n",
       " (3, 3),\n",
       " (5, 5),\n",
       " (5, 5),\n",
       " (4, 4),\n",
       " (3, 3),\n",
       " (0, 0),\n",
       " (6, 6),\n",
       " (5, 5),\n",
       " (2, 2),\n",
       " (6, 6),\n",
       " (0, 0),\n",
       " (0, 0),\n",
       " (4, 4),\n",
       " (5, 5),\n",
       " (6, 6),\n",
       " (3, 3),\n",
       " (5, 5),\n",
       " (5, 5),\n",
       " (3, 3),\n",
       " (2, 2),\n",
       " (2, 2),\n",
       " (3, 3),\n",
       " (3, 3),\n",
       " (3, 3),\n",
       " (3, 3),\n",
       " (6, 6),\n",
       " (3, 3),\n",
       " (6, 6),\n",
       " (3, 3),\n",
       " (0, 0),\n",
       " (6, 6),\n",
       " (3, 3),\n",
       " (2, 2),\n",
       " (0, 0),\n",
       " (6, 6),\n",
       " (5, 5),\n",
       " (6, 6),\n",
       " (0, 0),\n",
       " (5, 5),\n",
       " (4, 4),\n",
       " (3, 3),\n",
       " (0, 0),\n",
       " (3, 3),\n",
       " (0, 0),\n",
       " (4, 4),\n",
       " (5, 5),\n",
       " (4, 4),\n",
       " (3, 3),\n",
       " (3, 3),\n",
       " (0, 0),\n",
       " (0, 0),\n",
       " (6, 6),\n",
       " (2, 2),\n",
       " (0, 0),\n",
       " (6, 6),\n",
       " (3, 3),\n",
       " (0, 0),\n",
       " (0, 0),\n",
       " (6, 6),\n",
       " (4, 4),\n",
       " (5, 5),\n",
       " (6, 6),\n",
       " (3, 3),\n",
       " (2, 2),\n",
       " (5, 5),\n",
       " (5, 5),\n",
       " (2, 2),\n",
       " (0, 0),\n",
       " (2, 2),\n",
       " (6, 6),\n",
       " (6, 6),\n",
       " (0, 0),\n",
       " (2, 2),\n",
       " (3, 3),\n",
       " (4, 4),\n",
       " (2, 2),\n",
       " (6, 6),\n",
       " (5, 5),\n",
       " (2, 2),\n",
       " (2, 2),\n",
       " (6, 6),\n",
       " (6, 6),\n",
       " (6, 6),\n",
       " (2, 2),\n",
       " (5, 5),\n",
       " (3, 3),\n",
       " (0, 0),\n",
       " (5, 5),\n",
       " (0, 0),\n",
       " (4, 4),\n",
       " (3, 3),\n",
       " (3, 3),\n",
       " (3, 3),\n",
       " (3, 3),\n",
       " (6, 6),\n",
       " (3, 3),\n",
       " (2, 2),\n",
       " (4, 4),\n",
       " (6, 6),\n",
       " (3, 3),\n",
       " (2, 2),\n",
       " (4, 4),\n",
       " (0, 0),\n",
       " (0, 0),\n",
       " (3, 3),\n",
       " (2, 2),\n",
       " (0, 0),\n",
       " (1, 1),\n",
       " (2, 2),\n",
       " (2, 2),\n",
       " (5, 5),\n",
       " (3, 3),\n",
       " (5, 5),\n",
       " (4, 4),\n",
       " (4, 4),\n",
       " (0, 0),\n",
       " (2, 2),\n",
       " (3, 3),\n",
       " (4, 4),\n",
       " (6, 6),\n",
       " (4, 4),\n",
       " (2, 2),\n",
       " (2, 2),\n",
       " (3, 3),\n",
       " (5, 5),\n",
       " (4, 4),\n",
       " (4, 4),\n",
       " (5, 5),\n",
       " (6, 6),\n",
       " (4, 4),\n",
       " (5, 5),\n",
       " (0, 0),\n",
       " (3, 3),\n",
       " (3, 3),\n",
       " (3, 3),\n",
       " (2, 2),\n",
       " (5, 5),\n",
       " (5, 5),\n",
       " (5, 5),\n",
       " (3, 3),\n",
       " (5, 5),\n",
       " (3, 3),\n",
       " (3, 3),\n",
       " (3, 3),\n",
       " (5, 5),\n",
       " (6, 6),\n",
       " (0, 0),\n",
       " (4, 4),\n",
       " (2, 2),\n",
       " (2, 2),\n",
       " (0, 0),\n",
       " (4, 4),\n",
       " (0, 5),\n",
       " (5, 5),\n",
       " (6, 6),\n",
       " (6, 6),\n",
       " (3, 3),\n",
       " (2, 2),\n",
       " (4, 4),\n",
       " (2, 2),\n",
       " (4, 4),\n",
       " (0, 0),\n",
       " (5, 5),\n",
       " (0, 0),\n",
       " (3, 3),\n",
       " (5, 5),\n",
       " (2, 2),\n",
       " (4, 4),\n",
       " (0, 0),\n",
       " (4, 4),\n",
       " (5, 5),\n",
       " (6, 6),\n",
       " (3, 3),\n",
       " (2, 2),\n",
       " (3, 3),\n",
       " (5, 5),\n",
       " (0, 0),\n",
       " (0, 0),\n",
       " (3, 3),\n",
       " (3, 3),\n",
       " (2, 2),\n",
       " (6, 6),\n",
       " (0, 0),\n",
       " (2, 2),\n",
       " (6, 6),\n",
       " (0, 0),\n",
       " (3, 3),\n",
       " (2, 2),\n",
       " (3, 3),\n",
       " (2, 2),\n",
       " (6, 6),\n",
       " (4, 4),\n",
       " (3, 3),\n",
       " (4, 4),\n",
       " (4, 4),\n",
       " (0, 0),\n",
       " (1, 1),\n",
       " (2, 2),\n",
       " (4, 4),\n",
       " (6, 6),\n",
       " (5, 5),\n",
       " (0, 0),\n",
       " (4, 4),\n",
       " (6, 6),\n",
       " (6, 6),\n",
       " (6, 6),\n",
       " (2, 2),\n",
       " (6, 6),\n",
       " (4, 4),\n",
       " (3, 3),\n",
       " (2, 2),\n",
       " (4, 4),\n",
       " (0, 0),\n",
       " (6, 6),\n",
       " (3, 3),\n",
       " (2, 2),\n",
       " (3, 3),\n",
       " (0, 0),\n",
       " (6, 6),\n",
       " (5, 5),\n",
       " (0, 0),\n",
       " (5, 5),\n",
       " (2, 2),\n",
       " (6, 6),\n",
       " (1, 1),\n",
       " (3, 3),\n",
       " (2, 2),\n",
       " (6, 6),\n",
       " (2, 2),\n",
       " (0, 0),\n",
       " (4, 4),\n",
       " (6, 6),\n",
       " (4, 4),\n",
       " (5, 5),\n",
       " (4, 4),\n",
       " (4, 4),\n",
       " (2, 2),\n",
       " (0, 0),\n",
       " (4, 4),\n",
       " (0, 0),\n",
       " (2, 2),\n",
       " (0, 0),\n",
       " (0, 0),\n",
       " (5, 5),\n",
       " (3, 3),\n",
       " (3, 3),\n",
       " (5, 5),\n",
       " (3, 3),\n",
       " (3, 3),\n",
       " (4, 4),\n",
       " (6, 6),\n",
       " (5, 5),\n",
       " (3, 3),\n",
       " (3, 3),\n",
       " (3, 3),\n",
       " (4, 4),\n",
       " (4, 4),\n",
       " (6, 6),\n",
       " (3, 3),\n",
       " (4, 4),\n",
       " (2, 2),\n",
       " (3, 3),\n",
       " (2, 2),\n",
       " (2, 2),\n",
       " (3, 3),\n",
       " (4, 4),\n",
       " (3, 3),\n",
       " (6, 6),\n",
       " (2, 2),\n",
       " (6, 6),\n",
       " (4, 4),\n",
       " (3, 3),\n",
       " (0, 0),\n",
       " (3, 3),\n",
       " (4, 4),\n",
       " (0, 2),\n",
       " (4, 4),\n",
       " (2, 2),\n",
       " (2, 2),\n",
       " (3, 3),\n",
       " (2, 2),\n",
       " (5, 5),\n",
       " (0, 0),\n",
       " (6, 6),\n",
       " (2, 2),\n",
       " (4, 4),\n",
       " (3, 3),\n",
       " (2, 2),\n",
       " (3, 3),\n",
       " (5, 5),\n",
       " (0, 0),\n",
       " (6, 6),\n",
       " (6, 6),\n",
       " (5, 5),\n",
       " (6, 6),\n",
       " (5, 5),\n",
       " (3, 3),\n",
       " (0, 0),\n",
       " (5, 5),\n",
       " (6, 6),\n",
       " (0, 0),\n",
       " (2, 2),\n",
       " (6, 6),\n",
       " (6, 6),\n",
       " (6, 6),\n",
       " (2, 2),\n",
       " (4, 4),\n",
       " (6, 6),\n",
       " (2, 2),\n",
       " (6, 6),\n",
       " (0, 0),\n",
       " (5, 5),\n",
       " (3, 3),\n",
       " (3, 3),\n",
       " (4, 4),\n",
       " (4, 4),\n",
       " (0, 0),\n",
       " (0, 0),\n",
       " (2, 2),\n",
       " (5, 5),\n",
       " (0, 0),\n",
       " (6, 6),\n",
       " (0, 0),\n",
       " (6, 6),\n",
       " (5, 5),\n",
       " (4, 4),\n",
       " (0, 0),\n",
       " (0, 0),\n",
       " (3, 3),\n",
       " (5, 5),\n",
       " (5, 5),\n",
       " (4, 4),\n",
       " (3, 3),\n",
       " (3, 3),\n",
       " (1, 1),\n",
       " (4, 4),\n",
       " (6, 6),\n",
       " (6, 6),\n",
       " (3, 3),\n",
       " (2, 2),\n",
       " (3, 3),\n",
       " (3, 3),\n",
       " (6, 6),\n",
       " (6, 6),\n",
       " (4, 4),\n",
       " (6, 6),\n",
       " (0, 0),\n",
       " (2, 2),\n",
       " (6, 6),\n",
       " (5, 5),\n",
       " (4, 4),\n",
       " (2, 2),\n",
       " (6, 6),\n",
       " (6, 6),\n",
       " (3, 3),\n",
       " (5, 5),\n",
       " (6, 6),\n",
       " (4, 4),\n",
       " (6, 6),\n",
       " (0, 0),\n",
       " (4, 4),\n",
       " (2, 2),\n",
       " (3, 3),\n",
       " (3, 3),\n",
       " (0, 0),\n",
       " (0, 0),\n",
       " (6, 6),\n",
       " (2, 2),\n",
       " (6, 6),\n",
       " (3, 3),\n",
       " (3, 3),\n",
       " (6, 6),\n",
       " (5, 5),\n",
       " (3, 3),\n",
       " (1, 1),\n",
       " (3, 3),\n",
       " (2, 2),\n",
       " (2, 2),\n",
       " (4, 4),\n",
       " (2, 2),\n",
       " (2, 2),\n",
       " (4, 4),\n",
       " (0, 0),\n",
       " (3, 3),\n",
       " (5, 5),\n",
       " (6, 6),\n",
       " (3, 3),\n",
       " (3, 3),\n",
       " (2, 2),\n",
       " (3, 3),\n",
       " (0, 0),\n",
       " (4, 4),\n",
       " (2, 2),\n",
       " (6, 6),\n",
       " (2, 2),\n",
       " (3, 3),\n",
       " (5, 5),\n",
       " (6, 6),\n",
       " (2, 2),\n",
       " (4, 4),\n",
       " (2, 2),\n",
       " (2, 2),\n",
       " (6, 6),\n",
       " (6, 6),\n",
       " (4, 4),\n",
       " (6, 6),\n",
       " (6, 6),\n",
       " (3, 3),\n",
       " (4, 4),\n",
       " (0, 0),\n",
       " (3, 3),\n",
       " (4, 4),\n",
       " (4, 4),\n",
       " (0, 0),\n",
       " (3, 3),\n",
       " (4, 4),\n",
       " (6, 6),\n",
       " (4, 4),\n",
       " (0, 0),\n",
       " (4, 4),\n",
       " (6, 6),\n",
       " (3, 3),\n",
       " (5, 5),\n",
       " (2, 2),\n",
       " (3, 3),\n",
       " (0, 0),\n",
       " (0, 0),\n",
       " (3, 3),\n",
       " (6, 6),\n",
       " (3, 3),\n",
       " (3, 3),\n",
       " (6, 6),\n",
       " (4, 4),\n",
       " (5, 5),\n",
       " (0, 0),\n",
       " (2, 2),\n",
       " (3, 3),\n",
       " (0, 0),\n",
       " (3, 3),\n",
       " (5, 5),\n",
       " (3, 3),\n",
       " (4, 4),\n",
       " (3, 3),\n",
       " (4, 4),\n",
       " (6, 6),\n",
       " (6, 6),\n",
       " (3, 3),\n",
       " (4, 4),\n",
       " (5, 5),\n",
       " (3, 3),\n",
       " (6, 6),\n",
       " (4, 4),\n",
       " (6, 6),\n",
       " (5, 5),\n",
       " (3, 3),\n",
       " (0, 0),\n",
       " (3, 3),\n",
       " (2, 2),\n",
       " (3, 3),\n",
       " (3, 3),\n",
       " (3, 3),\n",
       " (5, 5),\n",
       " (5, 5),\n",
       " (6, 6),\n",
       " (2, 2),\n",
       " (3, 3),\n",
       " (0, 0),\n",
       " (3, 3),\n",
       " (3, 3),\n",
       " (3, 3),\n",
       " (2, 2),\n",
       " (5, 5),\n",
       " (0, 0),\n",
       " (6, 6),\n",
       " (6, 6),\n",
       " (3, 3),\n",
       " (5, 5),\n",
       " (0, 0),\n",
       " (0, 0),\n",
       " (3, 3),\n",
       " (6, 6),\n",
       " (4, 4),\n",
       " (3, 3),\n",
       " (3, 3),\n",
       " (5, 5),\n",
       " (3, 3),\n",
       " (3, 3),\n",
       " (5, 5),\n",
       " (3, 3),\n",
       " (4, 4),\n",
       " (2, 2),\n",
       " (3, 3),\n",
       " (3, 3),\n",
       " (5, 5),\n",
       " (3, 3),\n",
       " (6, 6),\n",
       " (5, 5),\n",
       " (4, 4),\n",
       " (4, 4),\n",
       " (5, 5),\n",
       " (3, 6),\n",
       " (0, 0),\n",
       " (2, 2),\n",
       " (2, 2),\n",
       " (4, 4),\n",
       " (0, 0),\n",
       " (6, 6),\n",
       " (3, 3),\n",
       " (2, 2),\n",
       " (5, 5),\n",
       " (2, 2),\n",
       " (2, 2),\n",
       " (4, 4),\n",
       " (2, 2),\n",
       " (3, 3),\n",
       " (0, 0),\n",
       " (6, 6),\n",
       " (0, 0),\n",
       " (6, 6),\n",
       " (2, 2),\n",
       " (5, 5),\n",
       " (3, 3),\n",
       " (3, 3),\n",
       " (3, 3),\n",
       " (2, 2),\n",
       " (3, 3),\n",
       " (6, 6),\n",
       " (5, 5),\n",
       " (0, 0),\n",
       " (3, 3),\n",
       " (2, 2),\n",
       " (4, 4),\n",
       " (2, 2),\n",
       " (6, 6),\n",
       " (4, 4),\n",
       " (3, 3),\n",
       " (4, 4),\n",
       " (3, 3),\n",
       " (3, 3),\n",
       " (3, 3),\n",
       " (2, 2),\n",
       " (0, 0),\n",
       " (2, 2),\n",
       " (5, 5),\n",
       " (0, 0),\n",
       " (2, 2),\n",
       " (2, 2),\n",
       " (2, 2),\n",
       " (6, 6),\n",
       " (2, 2),\n",
       " (4, 4),\n",
       " (5, 5),\n",
       " (5, 5),\n",
       " (4, 4),\n",
       " (4, 4),\n",
       " (4, 4),\n",
       " (2, 2),\n",
       " (0, 0),\n",
       " (6, 6),\n",
       " (1, 1),\n",
       " (5, 5),\n",
       " (3, 3),\n",
       " (4, 4),\n",
       " (6, 6),\n",
       " (5, 5),\n",
       " (0, 0),\n",
       " (0, 0),\n",
       " (6, 6),\n",
       " (6, 6),\n",
       " (2, 2),\n",
       " (2, 2),\n",
       " (4, 4),\n",
       " (5, 5),\n",
       " (6, 6),\n",
       " (2, 2),\n",
       " (3, 3),\n",
       " (3, 3),\n",
       " (4, 4),\n",
       " (5, 5),\n",
       " (0, 0),\n",
       " (4, 4),\n",
       " (3, 3),\n",
       " (6, 6),\n",
       " (4, 4),\n",
       " (5, 5),\n",
       " (5, 5),\n",
       " (6, 6),\n",
       " (3, 3),\n",
       " (6, 6),\n",
       " (5, 5),\n",
       " (5, 5),\n",
       " (0, 0),\n",
       " (3, 3),\n",
       " (3, 3),\n",
       " (6, 6),\n",
       " (2, 2),\n",
       " (6, 6),\n",
       " (5, 5),\n",
       " (0, 0),\n",
       " (4, 4),\n",
       " (2, 2),\n",
       " (4, 4),\n",
       " (6, 6),\n",
       " (3, 3),\n",
       " (3, 3),\n",
       " (2, 2),\n",
       " (4, 4),\n",
       " (2, 2),\n",
       " (1, 1),\n",
       " (4, 4),\n",
       " (3, 3),\n",
       " (3, 3),\n",
       " (2, 2),\n",
       " (4, 4),\n",
       " (3, 3),\n",
       " (5, 5),\n",
       " (2, 2),\n",
       " (0, 0),\n",
       " (3, 3),\n",
       " (4, 4),\n",
       " (5, 5),\n",
       " (3, 3),\n",
       " (3, 3),\n",
       " (4, 4),\n",
       " (0, 0),\n",
       " (0, 0),\n",
       " (2, 2),\n",
       " (1, 1),\n",
       " (3, 3),\n",
       " (4, 4),\n",
       " (3, 3),\n",
       " (3, 3),\n",
       " (4, 4),\n",
       " (6, 6),\n",
       " (2, 2),\n",
       " (0, 0),\n",
       " (0, 0),\n",
       " (2, 2),\n",
       " (5, 5),\n",
       " (6, 6),\n",
       " (4, 4),\n",
       " (3, 3),\n",
       " (6, 6),\n",
       " (0, 0),\n",
       " (5, 5),\n",
       " (4, 4),\n",
       " (1, 1),\n",
       " (2, 2),\n",
       " (2, 2),\n",
       " (5, 5),\n",
       " (3, 3),\n",
       " (0, 0),\n",
       " (0, 0),\n",
       " (6, 6),\n",
       " (5, 5),\n",
       " (0, 0),\n",
       " (6, 6),\n",
       " (3, 3),\n",
       " (5, 5),\n",
       " (6, 6),\n",
       " (2, 2),\n",
       " (0, 0),\n",
       " (0, 0),\n",
       " (2, 2),\n",
       " (3, 3),\n",
       " (1, 1),\n",
       " (5, 5),\n",
       " (4, 4),\n",
       " (5, 5),\n",
       " (5, 5),\n",
       " (2, 2),\n",
       " (3, 3),\n",
       " (2, 2),\n",
       " (2, 2),\n",
       " (3, 3),\n",
       " (6, 6),\n",
       " (6, 6),\n",
       " (0, 0),\n",
       " (6, 6),\n",
       " (4, 4),\n",
       " (0, 0),\n",
       " (3, 3),\n",
       " (0, 0),\n",
       " (4, 4),\n",
       " (0, 0),\n",
       " (6, 6),\n",
       " (6, 6),\n",
       " (2, 2),\n",
       " (3, 3),\n",
       " (5, 5),\n",
       " (4, 4),\n",
       " (2, 2),\n",
       " (6, 6),\n",
       " (3, 3),\n",
       " (5, 5),\n",
       " (5, 5),\n",
       " (3, 3),\n",
       " (2, 2),\n",
       " (3, 3),\n",
       " (3, 3),\n",
       " (4, 4),\n",
       " (0, 0),\n",
       " (6, 6),\n",
       " (4, 4),\n",
       " (4, 4),\n",
       " (2, 2),\n",
       " (6, 6),\n",
       " (3, 3),\n",
       " (2, 2),\n",
       " (0, 0),\n",
       " (5, 5),\n",
       " (4, 4),\n",
       " (2, 2),\n",
       " (6, 6),\n",
       " (6, 6),\n",
       " (2, 2),\n",
       " (3, 3),\n",
       " (6, 6),\n",
       " (6, 6),\n",
       " (4, 4),\n",
       " (6, 6),\n",
       " (2, 2),\n",
       " (3, 3),\n",
       " (4, 4),\n",
       " (0, 0),\n",
       " (2, 2),\n",
       " (6, 6),\n",
       " (3, 3),\n",
       " (4, 4),\n",
       " (0, 0),\n",
       " (4, 4),\n",
       " (6, 6),\n",
       " (6, 6),\n",
       " (0, 0),\n",
       " (4, 4),\n",
       " (4, 4),\n",
       " (0, 0),\n",
       " (6, 6),\n",
       " (6, 6),\n",
       " (0, 0),\n",
       " (4, 4),\n",
       " (2, 2),\n",
       " (2, 2),\n",
       " (3, 3),\n",
       " (3, 3),\n",
       " (4, 4),\n",
       " (6, 6),\n",
       " (0, 0),\n",
       " (5, 5),\n",
       " (3, 3),\n",
       " (2, 2),\n",
       " (0, 0),\n",
       " (3, 3),\n",
       " (6, 6),\n",
       " (4, 4),\n",
       " (2, 2),\n",
       " (4, 4),\n",
       " (6, 6),\n",
       " (4, 4),\n",
       " (6, 6),\n",
       " (2, 2),\n",
       " (5, 5),\n",
       " (0, 0),\n",
       " (0, 0),\n",
       " (0, 0),\n",
       " (5, 5),\n",
       " (0, 0),\n",
       " (0, 0),\n",
       " (6, 6),\n",
       " (3, 3),\n",
       " (3, 3),\n",
       " (6, 6),\n",
       " (0, 0),\n",
       " (5, 5),\n",
       " (3, 3),\n",
       " (0, 0),\n",
       " (6, 6),\n",
       " (4, 4),\n",
       " (4, 4),\n",
       " (2, 2),\n",
       " (6, 6),\n",
       " (0, 0),\n",
       " (3, 3),\n",
       " (2, 2),\n",
       " (2, 2),\n",
       " (3, 3),\n",
       " (0, 0),\n",
       " (4, 4),\n",
       " (4, 4),\n",
       " (4, 4),\n",
       " (3, 6),\n",
       " (4, 4),\n",
       " (6, 6),\n",
       " (6, 6),\n",
       " (5, 5),\n",
       " (2, 2),\n",
       " (3, 3),\n",
       " (6, 6),\n",
       " (3, 3),\n",
       " (0, 0),\n",
       " (6, 6),\n",
       " (6, 6),\n",
       " (4, 4),\n",
       " (6, 6),\n",
       " (4, 4),\n",
       " (3, 3),\n",
       " (4, 4),\n",
       " (3, 3),\n",
       " ...]"
      ]
     },
     "execution_count": 206,
     "metadata": {},
     "output_type": "execute_result"
    }
   ],
   "source": [
    "result"
   ]
  },
  {
   "cell_type": "code",
   "execution_count": 185,
   "metadata": {},
   "outputs": [],
   "source": [
    "pred_result = list(zip(*[y_test,predict_labels]))"
   ]
  },
  {
   "cell_type": "code",
   "execution_count": null,
   "metadata": {},
   "outputs": [],
   "source": [
    "sum(y_test == predict_labels)/len(y_test)"
   ]
  },
  {
   "cell_type": "code",
   "execution_count": null,
   "metadata": {},
   "outputs": [],
   "source": []
  }
 ],
 "metadata": {
  "kernelspec": {
   "display_name": "Python 3",
   "language": "python",
   "name": "python3"
  },
  "language_info": {
   "codemirror_mode": {
    "name": "ipython",
    "version": 3
   },
   "file_extension": ".py",
   "mimetype": "text/x-python",
   "name": "python",
   "nbconvert_exporter": "python",
   "pygments_lexer": "ipython3",
   "version": "3.5.2"
  }
 },
 "nbformat": 4,
 "nbformat_minor": 2
}
