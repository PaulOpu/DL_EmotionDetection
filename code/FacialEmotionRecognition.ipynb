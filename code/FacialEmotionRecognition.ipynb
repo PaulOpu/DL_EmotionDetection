{
 "cells": [
  {
   "cell_type": "markdown",
   "metadata": {},
   "source": [
    "# Dependencies"
   ]
  },
  {
   "cell_type": "code",
   "execution_count": 254,
   "metadata": {},
   "outputs": [],
   "source": [
    "import tensorflow as tf\n",
    "import numpy as np\n",
    "import os\n",
    "from collections import Counter\n",
    "from matplotlib import pyplot as plt\n",
    "import pandas as pd"
   ]
  },
  {
   "cell_type": "code",
   "execution_count": 255,
   "metadata": {},
   "outputs": [],
   "source": [
    "import sys\n",
    "sys.path.append('/usr/local/opt/opencv/lib//python3.6/site-packages/')\n",
    "import cv2"
   ]
  },
  {
   "cell_type": "markdown",
   "metadata": {},
   "source": [
    "# Load Data"
   ]
  },
  {
   "cell_type": "code",
   "execution_count": 256,
   "metadata": {},
   "outputs": [],
   "source": [
    "def get_rec_files(path,ext):\n",
    "    content = os.listdir(path)\n",
    "    if len(content) == 0:\n",
    "        return []\n",
    "    if \".DS_Store\" in content:\n",
    "        content.remove(\".DS_Store\")\n",
    "    if content[0].endswith(ext):\n",
    "        return [path+\"/\"+file for file in content]\n",
    "    else:\n",
    "        return np.concatenate([get_rec_files(path+\"/\"+subpath,ext) for subpath in content])"
   ]
  },
  {
   "cell_type": "code",
   "execution_count": 257,
   "metadata": {},
   "outputs": [],
   "source": [
    "images = get_rec_files(\"data/images\",\".png\")"
   ]
  },
  {
   "cell_type": "code",
   "execution_count": 258,
   "metadata": {},
   "outputs": [
    {
     "data": {
      "text/plain": [
       "array(['data/images/S111/007/S111_007_00000008.png',\n",
       "       'data/images/S111/007/S111_007_00000009.png',\n",
       "       'data/images/S111/007/S111_007_00000013.png',\n",
       "       'data/images/S111/007/S111_007_00000007.png',\n",
       "       'data/images/S111/007/S111_007_00000006.png',\n",
       "       'data/images/S111/007/S111_007_00000012.png',\n",
       "       'data/images/S111/007/S111_007_00000004.png',\n",
       "       'data/images/S111/007/S111_007_00000010.png',\n",
       "       'data/images/S111/007/S111_007_00000011.png',\n",
       "       'data/images/S111/007/S111_007_00000005.png'], dtype='<U42')"
      ]
     },
     "execution_count": 258,
     "metadata": {},
     "output_type": "execute_result"
    }
   ],
   "source": [
    "images[:10]"
   ]
  },
  {
   "cell_type": "code",
   "execution_count": 259,
   "metadata": {},
   "outputs": [],
   "source": [
    "emotions = get_rec_files(\"data/emotions\",\".txt\")"
   ]
  },
  {
   "cell_type": "code",
   "execution_count": 260,
   "metadata": {},
   "outputs": [
    {
     "data": {
      "text/plain": [
       "array(['data/emotions/S111/007/S111_007_00000014_emotion.txt',\n",
       "       'data/emotions/S111/001/S111_001_00000014_emotion.txt',\n",
       "       'data/emotions/S111/006/S111_006_00000010_emotion.txt',\n",
       "       'data/emotions/S129/012/S129_012_00000011_emotion.txt',\n",
       "       'data/emotions/S129/006/S129_006_00000010_emotion.txt',\n",
       "       'data/emotions/S129/011/S129_011_00000018_emotion.txt',\n",
       "       'data/emotions/S129/002/S129_002_00000011_emotion.txt',\n",
       "       'data/emotions/S116/007/S116_007_00000017_emotion.txt',\n",
       "       'data/emotions/S116/001/S116_001_00000014_emotion.txt',\n",
       "       'data/emotions/S116/006/S116_006_00000007_emotion.txt'],\n",
       "      dtype='<U52')"
      ]
     },
     "execution_count": 260,
     "metadata": {},
     "output_type": "execute_result"
    }
   ],
   "source": [
    "emotions[:10]"
   ]
  },
  {
   "cell_type": "code",
   "execution_count": 261,
   "metadata": {},
   "outputs": [],
   "source": [
    "def merge_groups(emotions,images):\n",
    "    groups = []\n",
    "    for emotion in emotions:\n",
    "        emot_value = get_emot_value(emotion)\n",
    "        prefix = emotion.split(\"/\")[-1][:8]\n",
    "        f=np.frompyfunc(lambda x: prefix in x, 1,1)\n",
    "        selected_images = images[list(f(images))]\n",
    "        selected_images.sort()\n",
    "        groups += [(emot_value,selected_images)]\n",
    "    return groups"
   ]
  },
  {
   "cell_type": "code",
   "execution_count": 262,
   "metadata": {},
   "outputs": [],
   "source": [
    "def get_emot_value(path):\n",
    "    with open(path,\"r\") as f:\n",
    "        return f.read().split()[0][0]"
   ]
  },
  {
   "cell_type": "code",
   "execution_count": 263,
   "metadata": {},
   "outputs": [],
   "source": [
    "group_images = merge_groups(emotions,images)"
   ]
  },
  {
   "cell_type": "code",
   "execution_count": 264,
   "metadata": {},
   "outputs": [
    {
     "data": {
      "text/plain": [
       "[('3', array(['data/images/S111/007/S111_007_00000001.png',\n",
       "         'data/images/S111/007/S111_007_00000002.png',\n",
       "         'data/images/S111/007/S111_007_00000003.png',\n",
       "         'data/images/S111/007/S111_007_00000004.png',\n",
       "         'data/images/S111/007/S111_007_00000005.png',\n",
       "         'data/images/S111/007/S111_007_00000006.png',\n",
       "         'data/images/S111/007/S111_007_00000007.png',\n",
       "         'data/images/S111/007/S111_007_00000008.png',\n",
       "         'data/images/S111/007/S111_007_00000009.png',\n",
       "         'data/images/S111/007/S111_007_00000010.png',\n",
       "         'data/images/S111/007/S111_007_00000011.png',\n",
       "         'data/images/S111/007/S111_007_00000012.png',\n",
       "         'data/images/S111/007/S111_007_00000013.png',\n",
       "         'data/images/S111/007/S111_007_00000014.png'], dtype='<U42')),\n",
       " ('7', array(['data/images/S111/001/S111_001_00000001.png',\n",
       "         'data/images/S111/001/S111_001_00000002.png',\n",
       "         'data/images/S111/001/S111_001_00000003.png',\n",
       "         'data/images/S111/001/S111_001_00000004.png',\n",
       "         'data/images/S111/001/S111_001_00000005.png',\n",
       "         'data/images/S111/001/S111_001_00000006.png',\n",
       "         'data/images/S111/001/S111_001_00000007.png',\n",
       "         'data/images/S111/001/S111_001_00000008.png',\n",
       "         'data/images/S111/001/S111_001_00000009.png',\n",
       "         'data/images/S111/001/S111_001_00000010.png',\n",
       "         'data/images/S111/001/S111_001_00000011.png',\n",
       "         'data/images/S111/001/S111_001_00000012.png',\n",
       "         'data/images/S111/001/S111_001_00000013.png',\n",
       "         'data/images/S111/001/S111_001_00000014.png'], dtype='<U42'))]"
      ]
     },
     "execution_count": 264,
     "metadata": {},
     "output_type": "execute_result"
    }
   ],
   "source": [
    "group_images[:2]"
   ]
  },
  {
   "cell_type": "code",
   "execution_count": 265,
   "metadata": {},
   "outputs": [],
   "source": [
    "emot_count = [emot for emot,image in group_images]"
   ]
  },
  {
   "cell_type": "code",
   "execution_count": 266,
   "metadata": {},
   "outputs": [
    {
     "data": {
      "text/plain": [
       "Counter({'1': 45, '2': 18, '3': 59, '4': 25, '5': 69, '6': 28, '7': 83})"
      ]
     },
     "execution_count": 266,
     "metadata": {},
     "output_type": "execute_result"
    }
   ],
   "source": [
    "Counter(emot_count)"
   ]
  },
  {
   "cell_type": "markdown",
   "metadata": {},
   "source": [
    "## FER2013 Dataset"
   ]
  },
  {
   "cell_type": "code",
   "execution_count": 267,
   "metadata": {},
   "outputs": [],
   "source": [
    "df = pd.read_csv(\"data/fer2013.csv\",sep=\",\")"
   ]
  },
  {
   "cell_type": "code",
   "execution_count": 268,
   "metadata": {},
   "outputs": [],
   "source": [
    "df[\"intensity\"] = -1"
   ]
  },
  {
   "cell_type": "code",
   "execution_count": 269,
   "metadata": {},
   "outputs": [
    {
     "data": {
      "text/html": [
       "<div>\n",
       "<style scoped>\n",
       "    .dataframe tbody tr th:only-of-type {\n",
       "        vertical-align: middle;\n",
       "    }\n",
       "\n",
       "    .dataframe tbody tr th {\n",
       "        vertical-align: top;\n",
       "    }\n",
       "\n",
       "    .dataframe thead th {\n",
       "        text-align: right;\n",
       "    }\n",
       "</style>\n",
       "<table border=\"1\" class=\"dataframe\">\n",
       "  <thead>\n",
       "    <tr style=\"text-align: right;\">\n",
       "      <th></th>\n",
       "      <th>emotion</th>\n",
       "      <th>pixels</th>\n",
       "      <th>intensity</th>\n",
       "    </tr>\n",
       "    <tr>\n",
       "      <th>Usage</th>\n",
       "      <th></th>\n",
       "      <th></th>\n",
       "      <th></th>\n",
       "    </tr>\n",
       "  </thead>\n",
       "  <tbody>\n",
       "    <tr>\n",
       "      <th>PrivateTest</th>\n",
       "      <td>3589</td>\n",
       "      <td>3589</td>\n",
       "      <td>3589</td>\n",
       "    </tr>\n",
       "    <tr>\n",
       "      <th>PublicTest</th>\n",
       "      <td>3589</td>\n",
       "      <td>3589</td>\n",
       "      <td>3589</td>\n",
       "    </tr>\n",
       "    <tr>\n",
       "      <th>Training</th>\n",
       "      <td>28709</td>\n",
       "      <td>28709</td>\n",
       "      <td>28709</td>\n",
       "    </tr>\n",
       "  </tbody>\n",
       "</table>\n",
       "</div>"
      ],
      "text/plain": [
       "             emotion  pixels  intensity\n",
       "Usage                                  \n",
       "PrivateTest     3589    3589       3589\n",
       "PublicTest      3589    3589       3589\n",
       "Training       28709   28709      28709"
      ]
     },
     "execution_count": 269,
     "metadata": {},
     "output_type": "execute_result"
    }
   ],
   "source": [
    "df.groupby(\"Usage\").count()"
   ]
  },
  {
   "cell_type": "markdown",
   "metadata": {},
   "source": [
    "# Image Preparation"
   ]
  },
  {
   "cell_type": "code",
   "execution_count": 272,
   "metadata": {},
   "outputs": [],
   "source": [
    "def prepare_images(images):\n",
    "    faceCascade = cv2.CascadeClassifier(\"data/face_recog.xml\")\n",
    "    prepared_images = []\n",
    "    \n",
    "    for path in images:\n",
    "        \n",
    "        image = cv2.imread(path)\n",
    "        \n",
    "        faces = faceCascade.detectMultiScale(\n",
    "            image,\n",
    "            scaleFactor=1.1,\n",
    "            minNeighbors=5,\n",
    "            minSize=(48,48),\n",
    "            flags = cv2.CASCADE_SCALE_IMAGE\n",
    "        )\n",
    "        for (x, y, w, h) in faces:\n",
    "            crop_img = image[y:y+h, x:x+w]\n",
    "            \n",
    "        res_img = cv2.resize(cv2.cvtColor(crop_img, cv2.COLOR_BGR2GRAY), (48,48)) \n",
    "        \n",
    "        prepared_images += [(res_img,path)]\n",
    "        \n",
    "    return prepared_images"
   ]
  },
  {
   "cell_type": "code",
   "execution_count": 273,
   "metadata": {},
   "outputs": [],
   "source": [
    "group_faces = []\n",
    "for emot,pictures in group_images:\n",
    "    group_faces += [(emot,prepare_images(pictures))]\n"
   ]
  },
  {
   "cell_type": "code",
   "execution_count": 274,
   "metadata": {},
   "outputs": [],
   "source": [
    "ck_data = []\n",
    "for emot,pictures in group_faces:\n",
    "    for picture,path in pictures:\n",
    "        ck_data += [[emot,np.concatenate(picture),int(path.split(\"_\")[-1][:-4])]] "
   ]
  },
  {
   "cell_type": "code",
   "execution_count": 298,
   "metadata": {},
   "outputs": [],
   "source": [
    "ck_df = pd.DataFrame(data=ck_data,columns=[\"emotion\",\"pixels\",\"intensity\"])\n",
    "ck_df[\"Usage\"] = \"CK+\"\n",
    "ck_df[\"emotion\"] = pd.to_numeric(ck_df[\"emotion\"])\n",
    "ck_df[\"pixels\"] = [\" \".join([str(string) for string in pixels]) for pixels in ck_df[\"pixels\"].values]"
   ]
  },
  {
   "cell_type": "code",
   "execution_count": 299,
   "metadata": {},
   "outputs": [
    {
     "data": {
      "text/html": [
       "<div>\n",
       "<style scoped>\n",
       "    .dataframe tbody tr th:only-of-type {\n",
       "        vertical-align: middle;\n",
       "    }\n",
       "\n",
       "    .dataframe tbody tr th {\n",
       "        vertical-align: top;\n",
       "    }\n",
       "\n",
       "    .dataframe thead th {\n",
       "        text-align: right;\n",
       "    }\n",
       "</style>\n",
       "<table border=\"1\" class=\"dataframe\">\n",
       "  <thead>\n",
       "    <tr style=\"text-align: right;\">\n",
       "      <th></th>\n",
       "      <th>emotion</th>\n",
       "      <th>pixels</th>\n",
       "      <th>intensity</th>\n",
       "      <th>Usage</th>\n",
       "    </tr>\n",
       "  </thead>\n",
       "  <tbody>\n",
       "    <tr>\n",
       "      <th>0</th>\n",
       "      <td>3</td>\n",
       "      <td>44 34 21 0 0 0 0 0 0 2 7 15 18 36 34 35 47 60 ...</td>\n",
       "      <td>1</td>\n",
       "      <td>CK+</td>\n",
       "    </tr>\n",
       "    <tr>\n",
       "      <th>1</th>\n",
       "      <td>3</td>\n",
       "      <td>42 36 3 0 0 0 0 0 0 0 5 15 22 31 32 37 52 60 8...</td>\n",
       "      <td>2</td>\n",
       "      <td>CK+</td>\n",
       "    </tr>\n",
       "    <tr>\n",
       "      <th>2</th>\n",
       "      <td>3</td>\n",
       "      <td>42 35 26 0 0 0 0 0 0 0 4 8 16 32 34 33 42 58 8...</td>\n",
       "      <td>3</td>\n",
       "      <td>CK+</td>\n",
       "    </tr>\n",
       "    <tr>\n",
       "      <th>3</th>\n",
       "      <td>3</td>\n",
       "      <td>43 34 10 1 0 0 0 0 0 2 7 13 19 36 32 36 44 62 ...</td>\n",
       "      <td>4</td>\n",
       "      <td>CK+</td>\n",
       "    </tr>\n",
       "    <tr>\n",
       "      <th>4</th>\n",
       "      <td>3</td>\n",
       "      <td>43 40 38 0 0 0 0 0 0 1 6 9 15 28 31 34 42 63 7...</td>\n",
       "      <td>5</td>\n",
       "      <td>CK+</td>\n",
       "    </tr>\n",
       "  </tbody>\n",
       "</table>\n",
       "</div>"
      ],
      "text/plain": [
       "   emotion                                             pixels  intensity Usage\n",
       "0        3  44 34 21 0 0 0 0 0 0 2 7 15 18 36 34 35 47 60 ...          1   CK+\n",
       "1        3  42 36 3 0 0 0 0 0 0 0 5 15 22 31 32 37 52 60 8...          2   CK+\n",
       "2        3  42 35 26 0 0 0 0 0 0 0 4 8 16 32 34 33 42 58 8...          3   CK+\n",
       "3        3  43 34 10 1 0 0 0 0 0 2 7 13 19 36 32 36 44 62 ...          4   CK+\n",
       "4        3  43 40 38 0 0 0 0 0 0 1 6 9 15 28 31 34 42 63 7...          5   CK+"
      ]
     },
     "execution_count": 299,
     "metadata": {},
     "output_type": "execute_result"
    }
   ],
   "source": [
    "ck_df.head()"
   ]
  },
  {
   "cell_type": "markdown",
   "metadata": {},
   "source": [
    "## Optional: Save to File"
   ]
  },
  {
   "cell_type": "code",
   "execution_count": 55,
   "metadata": {},
   "outputs": [],
   "source": [
    "paths = []\n",
    "for emot,pictures in group_faces:\n",
    "    for pixel,path in pictures:\n",
    "        file_name = path.split(\"/\")[-1]\n",
    "        name = file_name.split(\".\")[0]\n",
    "        \n",
    "        face_path = \"data/faces/\"+name+\"_\"+emot\n",
    "        np.save(face_path,pixel)\n",
    "        paths += [(emot,face_path)]"
   ]
  },
  {
   "cell_type": "markdown",
   "metadata": {},
   "source": [
    "# Combine Datasets"
   ]
  },
  {
   "cell_type": "code",
   "execution_count": 308,
   "metadata": {},
   "outputs": [],
   "source": [
    "complete_df = pd.concat([df,ck_df])"
   ]
  },
  {
   "cell_type": "markdown",
   "metadata": {},
   "source": [
    "FER2013\n",
    "Emotion labels in the dataset:\n",
    "- 0: -4593 images- Angry\n",
    "- 1: -547 images- Disgust\n",
    "- 2: -5121 images- Fear\n",
    "- 3: -8989 images- Happy\n",
    "- 4: -6077 images- Sad\n",
    "- 5: -4002 images- Surprise\n",
    "- 6: -6198 images- Neutral\n",
    "\n",
    "CK+\n",
    "- {0=neutral, 1=anger, 2=contempt, 3=disgust, 4=fear, 5=happy, 6=sadness, 7=surprise}"
   ]
  },
  {
   "cell_type": "code",
   "execution_count": 301,
   "metadata": {},
   "outputs": [],
   "source": [
    "#go with the FER2013 emotion standard\n",
    "emotion_map = {\n",
    "    0:6,\n",
    "    1:0,\n",
    "    3:1,\n",
    "    4:2,\n",
    "    5:3,\n",
    "    6:4,\n",
    "    7:5\n",
    "}\n",
    "\n",
    "delete_label = 2"
   ]
  },
  {
   "cell_type": "code",
   "execution_count": 309,
   "metadata": {},
   "outputs": [],
   "source": [
    "def map_emotions(row):\n",
    "    if row[\"Usage\"] == \"CK+\":\n",
    "        row[\"emotion\"] = emotion_map[row[\"emotion\"]]\n",
    "    return row"
   ]
  },
  {
   "cell_type": "code",
   "execution_count": 310,
   "metadata": {},
   "outputs": [],
   "source": [
    "complete_df = complete_df.drop(complete_df.loc[(complete_df[\"emotion\"] == delete_label) & (complete_df[\"intensity\"] != -1)].index)"
   ]
  },
  {
   "cell_type": "code",
   "execution_count": 311,
   "metadata": {},
   "outputs": [],
   "source": [
    "complete_df = complete_df.apply(lambda x: map_emotions(x),axis=1)"
   ]
  },
  {
   "cell_type": "code",
   "execution_count": 312,
   "metadata": {},
   "outputs": [],
   "source": [
    "complete_df.to_csv(\"data/face_dataset.csv\",sep=\"|\",index=False)"
   ]
  },
  {
   "cell_type": "markdown",
   "metadata": {},
   "source": [
    "# Model Definition"
   ]
  },
  {
   "cell_type": "code",
   "execution_count": 479,
   "metadata": {},
   "outputs": [],
   "source": [
    "def string_to_float_list(row):\n",
    "    row[\"pixels\"] = np.array([float(string) for string in row[\"pixels\"].split()])\n",
    "\n",
    "    return row"
   ]
  },
  {
   "cell_type": "code",
   "execution_count": 478,
   "metadata": {},
   "outputs": [],
   "source": [
    "dataset = pd.read_csv(\"data/face_dataset.csv\",sep=\"|\")\n",
    "dataset = dataset.apply(lambda x: string_to_float_list(x),axis=1)"
   ]
  },
  {
   "cell_type": "code",
   "execution_count": 480,
   "metadata": {},
   "outputs": [
    {
     "data": {
      "text/plain": [
       "<matplotlib.image.AxesImage at 0x187c742470>"
      ]
     },
     "execution_count": 480,
     "metadata": {},
     "output_type": "execute_result"
    },
    {
     "data": {
      "image/png": "[encoded data removed]",
      "text/plain": [
       "<matplotlib.figure.Figure at 0x187c8c8d30>"
      ]
     },
     "metadata": {},
     "output_type": "display_data"
    }
   ],
   "source": [
    "plt.imshow(np.reshape([int(x) for x in dataset[\"pixels\"][5]],(48,48)))"
   ]
  },
  {
   "cell_type": "code",
   "execution_count": 508,
   "metadata": {},
   "outputs": [],
   "source": [
    "def train_input_fn(features, labels, batch_size):\n",
    "    \"\"\"An input function for training\"\"\"\n",
    "    # Convert the inputs to a Dataset.\n",
    "\n",
    "    #tf_split = tf.string_split(features,delimiter=' ').values\n",
    "    #features_split = tf.cast(tf.reshape(tf_split,[48*48]),dtype=tf.float32)\n",
    "    #features_split = tf.cast(features,dtype=tf.float32)\n",
    "\n",
    "    \n",
    "    dataset = tf.data.Dataset.from_tensor_slices((features, labels))\n",
    "    # Shuffle, repeat, and batch the examples.\n",
    "    dataset = dataset.shuffle(1000).repeat().batch(batch_size)\n",
    "\n",
    "    # Return the dataset.\n",
    "    return dataset"
   ]
  },
  {
   "cell_type": "markdown",
   "metadata": {},
   "source": [
    "![title](emotion_cnn1.png)"
   ]
  },
  {
   "cell_type": "code",
   "execution_count": 452,
   "metadata": {},
   "outputs": [],
   "source": [
    "def create_conv_layer(inputs,filters,kernels,padding,strides,pools,name,mode):\n",
    "    #print(inputs,filters,kernels,padding,strides,pools,name,mode)\n",
    "    conv_layer = tf.contrib.layers.conv2d(\n",
    "        inputs=inputs,\n",
    "        num_outputs=filters,\n",
    "        kernel_size=kernels,\n",
    "        padding=padding,\n",
    "        stride=1,\n",
    "        activation_fn=tf.nn.relu,\n",
    "        normalizer_fn=tf.contrib.layers.batch_norm\n",
    "    )\n",
    "    \n",
    "    #batch_norm = tf.contrib.layers.batch_norm(\n",
    "    #    inputs=conv_layer)\n",
    "    \n",
    "    relu_act = tf.nn.relu(\n",
    "        features=conv_layer)\n",
    "    \n",
    "    dropout = tf.layers.dropout(\n",
    "        inputs=relu_act,\n",
    "        #rate=0.4,\n",
    "        training = mode == tf.estimator.ModeKeys.TRAIN)\n",
    "    \n",
    "    pooling = tf.layers.max_pooling2d(\n",
    "        inputs=dropout,\n",
    "        pool_size=pools,\n",
    "        strides=strides)\n",
    "    \n",
    "    return pooling\n",
    "    "
   ]
  },
  {
   "cell_type": "code",
   "execution_count": 453,
   "metadata": {},
   "outputs": [],
   "source": [
    "def create_fc_layer(inputs,neurons,mode):\n",
    "    fc_layer = tf.contrib.layers.fully_connected(\n",
    "        inputs=inputs,\n",
    "        num_outputs=neurons\n",
    "    )\n",
    "    \n",
    "    batch_norm = tf.contrib.layers.batch_norm(\n",
    "        inputs=fc_layer)\n",
    "    \n",
    "    dropout = tf.layers.dropout(\n",
    "        inputs=batch_norm,\n",
    "        #rate=0.4,\n",
    "        training=mode == tf.estimator.ModeKeys.TRAIN)\n",
    "    \n",
    "    relu_act = tf.nn.relu(\n",
    "        features=dropout)\n",
    "\n",
    "    return relu_act\n",
    "    "
   ]
  },
  {
   "cell_type": "code",
   "execution_count": 501,
   "metadata": {},
   "outputs": [],
   "source": [
    "def cnn_model_fn(features, labels, mode):\n",
    "    \"\"\"Model function for CNN.\"\"\"\n",
    "    n_conv = [(2,3,64),(2,5,128),(2,3,512)]\n",
    "    n_fc = [256,512]\n",
    "    \n",
    "    # Input Layer\n",
    "    input_layer = tf.reshape(tf.cast(features,tf.float32), [-1, 48, 48, 1])\n",
    "    one_hot_labels = tf.one_hot(labels,7)\n",
    "    \n",
    "    conv_layer = input_layer\n",
    "    \n",
    "    for s,k,f in n_conv:\n",
    "        conv_layer = create_conv_layer(\n",
    "            inputs=conv_layer,\n",
    "            filters=f,\n",
    "            kernels=[k,k],\n",
    "            padding=\"same\",\n",
    "            strides=s,\n",
    "            pools=[2,2],\n",
    "            name=\"conv\"+str(f),\n",
    "            mode=mode\n",
    "            )\n",
    "        \n",
    "    \n",
    "    \n",
    "    fc_layer = tf.reshape(conv_layer,[-1,6*6*512])\n",
    "    \n",
    "    for n in n_fc:\n",
    "        fc_layer = create_fc_layer(\n",
    "            inputs=fc_layer,\n",
    "            neurons=n,\n",
    "            mode=mode\n",
    "        )\n",
    "        print(fc_layer)\n",
    "        \n",
    "    logits = tf.layers.dense(inputs=fc_layer, units=7)\n",
    "    \n",
    "    softmax = tf.nn.softmax(logits, name=\"softmax_tensor\")\n",
    "\n",
    "    predictions = {\n",
    "      # Generate predictions (for PREDICT and EVAL mode)\n",
    "      \"classes\": tf.argmax(input=logits, axis=1),\n",
    "      # Add `softmax_tensor` to the graph. It is used for PREDICT and by the\n",
    "      # `logging_hook`.\n",
    "      \"probabilities\": softmax\n",
    "    }\n",
    "\n",
    "    if mode == tf.estimator.ModeKeys.PREDICT:\n",
    "        return tf.estimator.EstimatorSpec(mode=mode, predictions=predictions)\n",
    "\n",
    "    # Calculate Loss (for both TRAIN and EVAL modes)\n",
    "    print(labels,logits)\n",
    "    loss = tf.losses.sparse_softmax_cross_entropy(labels=labels, logits=logits)\n",
    "    \n",
    "\n",
    "    # Configure the Training Op (for TRAIN mode)\n",
    "    if mode == tf.estimator.ModeKeys.TRAIN:\n",
    "        optimizer = tf.train.AdamOptimizer(learning_rate=0.005)\n",
    "        train_op = optimizer.minimize(\n",
    "            loss=loss,\n",
    "            global_step=tf.train.get_global_step())\n",
    "        return tf.estimator.EstimatorSpec(mode=mode, loss=loss, train_op=train_op)\n",
    "\n",
    "    # Add evaluation metrics (for EVAL mode)\n",
    "    eval_metric_ops = {\n",
    "      \"accuracy\": tf.metrics.accuracy(\n",
    "          labels=labels, predictions=predictions[\"classes\"])}\n",
    "    return tf.estimator.EstimatorSpec(\n",
    "      mode=mode, loss=loss, eval_metric_ops=eval_metric_ops)"
   ]
  },
  {
   "cell_type": "markdown",
   "metadata": {},
   "source": [
    "# Model Training"
   ]
  },
  {
   "cell_type": "code",
   "execution_count": 502,
   "metadata": {},
   "outputs": [
    {
     "name": "stdout",
     "output_type": "stream",
     "text": [
      "INFO:tensorflow:Using default config.\n",
      "INFO:tensorflow:Using config: {'_model_dir': 'tmp/mnist_convnet_model', '_tf_random_seed': None, '_save_summary_steps': 100, '_save_checkpoints_steps': None, '_save_checkpoints_secs': 600, '_session_config': None, '_keep_checkpoint_max': 5, '_keep_checkpoint_every_n_hours': 10000, '_log_step_count_steps': 100, '_train_distribute': None, '_service': None, '_cluster_spec': <tensorflow.python.training.server_lib.ClusterSpec object at 0x187993df60>, '_task_type': 'worker', '_task_id': 0, '_global_id_in_cluster': 0, '_master': '', '_evaluation_master': '', '_is_chief': True, '_num_ps_replicas': 0, '_num_worker_replicas': 1}\n"
     ]
    }
   ],
   "source": [
    "emotion_classifier = tf.estimator.Estimator(\n",
    "    model_fn=cnn_model_fn, model_dir=\"tmp/mnist_convnet_model\")\n",
    "\n",
    "\n",
    "tensors_to_log = {\"probabilities\": \"softmax_tensor\"}\n",
    "logging_hook = tf.train.LoggingTensorHook(\n",
    "  tensors=tensors_to_log, every_n_iter=2000)\n",
    "\n",
    "tf.logging.set_verbosity(tf.logging.INFO)"
   ]
  },
  {
   "cell_type": "code",
   "execution_count": 503,
   "metadata": {},
   "outputs": [],
   "source": [
    "def df_to_tensor(series):\n",
    "    return np.concatenate(series.values).reshape(len(series),len(series[0]))"
   ]
  },
  {
   "cell_type": "code",
   "execution_count": 506,
   "metadata": {},
   "outputs": [],
   "source": [
    "x = df_to_tensor(dataset[\"pixels\"])\n",
    "y = dataset[\"emotion\"].values"
   ]
  },
  {
   "cell_type": "code",
   "execution_count": 509,
   "metadata": {},
   "outputs": [
    {
     "ename": "TypeError",
     "evalue": "shuffle() missing 1 required positional argument: 'buffer_size'",
     "output_type": "error",
     "traceback": [
      "\u001b[0;31m---------------------------------------------------------------------------\u001b[0m",
      "\u001b[0;31mTypeError\u001b[0m                                 Traceback (most recent call last)",
      "\u001b[0;32m<ipython-input-509-9f22fd7d74a8>\u001b[0m in \u001b[0;36m<module>\u001b[0;34m()\u001b[0m\n\u001b[1;32m      5\u001b[0m         64),\n\u001b[1;32m      6\u001b[0m     \u001b[0msteps\u001b[0m\u001b[0;34m=\u001b[0m\u001b[0;36m130\u001b[0m\u001b[0;34m,\u001b[0m\u001b[0;34m\u001b[0m\u001b[0m\n\u001b[0;32m----> 7\u001b[0;31m     hooks=[logging_hook])\n\u001b[0m",
      "\u001b[0;32m~/anaconda3/lib/python3.6/site-packages/tensorflow/python/estimator/estimator.py\u001b[0m in \u001b[0;36mtrain\u001b[0;34m(self, input_fn, hooks, steps, max_steps, saving_listeners)\u001b[0m\n\u001b[1;32m    361\u001b[0m \u001b[0;34m\u001b[0m\u001b[0m\n\u001b[1;32m    362\u001b[0m     \u001b[0msaving_listeners\u001b[0m \u001b[0;34m=\u001b[0m \u001b[0m_check_listeners_type\u001b[0m\u001b[0;34m(\u001b[0m\u001b[0msaving_listeners\u001b[0m\u001b[0;34m)\u001b[0m\u001b[0;34m\u001b[0m\u001b[0m\n\u001b[0;32m--> 363\u001b[0;31m     \u001b[0mloss\u001b[0m \u001b[0;34m=\u001b[0m \u001b[0mself\u001b[0m\u001b[0;34m.\u001b[0m\u001b[0m_train_model\u001b[0m\u001b[0;34m(\u001b[0m\u001b[0minput_fn\u001b[0m\u001b[0;34m,\u001b[0m \u001b[0mhooks\u001b[0m\u001b[0;34m,\u001b[0m \u001b[0msaving_listeners\u001b[0m\u001b[0;34m)\u001b[0m\u001b[0;34m\u001b[0m\u001b[0m\n\u001b[0m\u001b[1;32m    364\u001b[0m     \u001b[0mlogging\u001b[0m\u001b[0;34m.\u001b[0m\u001b[0minfo\u001b[0m\u001b[0;34m(\u001b[0m\u001b[0;34m'Loss for final step: %s.'\u001b[0m\u001b[0;34m,\u001b[0m \u001b[0mloss\u001b[0m\u001b[0;34m)\u001b[0m\u001b[0;34m\u001b[0m\u001b[0m\n\u001b[1;32m    365\u001b[0m     \u001b[0;32mreturn\u001b[0m \u001b[0mself\u001b[0m\u001b[0;34m\u001b[0m\u001b[0m\n",
      "\u001b[0;32m~/anaconda3/lib/python3.6/site-packages/tensorflow/python/estimator/estimator.py\u001b[0m in \u001b[0;36m_train_model\u001b[0;34m(self, input_fn, hooks, saving_listeners)\u001b[0m\n\u001b[1;32m    841\u001b[0m       \u001b[0;32mreturn\u001b[0m \u001b[0mself\u001b[0m\u001b[0;34m.\u001b[0m\u001b[0m_train_model_distributed\u001b[0m\u001b[0;34m(\u001b[0m\u001b[0minput_fn\u001b[0m\u001b[0;34m,\u001b[0m \u001b[0mhooks\u001b[0m\u001b[0;34m,\u001b[0m \u001b[0msaving_listeners\u001b[0m\u001b[0;34m)\u001b[0m\u001b[0;34m\u001b[0m\u001b[0m\n\u001b[1;32m    842\u001b[0m     \u001b[0;32melse\u001b[0m\u001b[0;34m:\u001b[0m\u001b[0;34m\u001b[0m\u001b[0m\n\u001b[0;32m--> 843\u001b[0;31m       \u001b[0;32mreturn\u001b[0m \u001b[0mself\u001b[0m\u001b[0;34m.\u001b[0m\u001b[0m_train_model_default\u001b[0m\u001b[0;34m(\u001b[0m\u001b[0minput_fn\u001b[0m\u001b[0;34m,\u001b[0m \u001b[0mhooks\u001b[0m\u001b[0;34m,\u001b[0m \u001b[0msaving_listeners\u001b[0m\u001b[0;34m)\u001b[0m\u001b[0;34m\u001b[0m\u001b[0m\n\u001b[0m\u001b[1;32m    844\u001b[0m \u001b[0;34m\u001b[0m\u001b[0m\n\u001b[1;32m    845\u001b[0m   \u001b[0;32mdef\u001b[0m \u001b[0m_train_model_default\u001b[0m\u001b[0;34m(\u001b[0m\u001b[0mself\u001b[0m\u001b[0;34m,\u001b[0m \u001b[0minput_fn\u001b[0m\u001b[0;34m,\u001b[0m \u001b[0mhooks\u001b[0m\u001b[0;34m,\u001b[0m \u001b[0msaving_listeners\u001b[0m\u001b[0;34m)\u001b[0m\u001b[0;34m:\u001b[0m\u001b[0;34m\u001b[0m\u001b[0m\n",
      "\u001b[0;32m~/anaconda3/lib/python3.6/site-packages/tensorflow/python/estimator/estimator.py\u001b[0m in \u001b[0;36m_train_model_default\u001b[0;34m(self, input_fn, hooks, saving_listeners)\u001b[0m\n\u001b[1;32m    851\u001b[0m       features, labels, input_hooks = (\n\u001b[1;32m    852\u001b[0m           self._get_features_and_labels_from_input_fn(\n\u001b[0;32m--> 853\u001b[0;31m               input_fn, model_fn_lib.ModeKeys.TRAIN))\n\u001b[0m\u001b[1;32m    854\u001b[0m       \u001b[0mworker_hooks\u001b[0m\u001b[0;34m.\u001b[0m\u001b[0mextend\u001b[0m\u001b[0;34m(\u001b[0m\u001b[0minput_hooks\u001b[0m\u001b[0;34m)\u001b[0m\u001b[0;34m\u001b[0m\u001b[0m\n\u001b[1;32m    855\u001b[0m       estimator_spec = self._call_model_fn(\n",
      "\u001b[0;32m~/anaconda3/lib/python3.6/site-packages/tensorflow/python/estimator/estimator.py\u001b[0m in \u001b[0;36m_get_features_and_labels_from_input_fn\u001b[0;34m(self, input_fn, mode)\u001b[0m\n\u001b[1;32m    689\u001b[0m   \u001b[0;32mdef\u001b[0m \u001b[0m_get_features_and_labels_from_input_fn\u001b[0m\u001b[0;34m(\u001b[0m\u001b[0mself\u001b[0m\u001b[0;34m,\u001b[0m \u001b[0minput_fn\u001b[0m\u001b[0;34m,\u001b[0m \u001b[0mmode\u001b[0m\u001b[0;34m)\u001b[0m\u001b[0;34m:\u001b[0m\u001b[0;34m\u001b[0m\u001b[0m\n\u001b[1;32m    690\u001b[0m     \u001b[0;34m\"\"\"Extracts the `features` and labels from return values of `input_fn`.\"\"\"\u001b[0m\u001b[0;34m\u001b[0m\u001b[0m\n\u001b[0;32m--> 691\u001b[0;31m     \u001b[0mresult\u001b[0m \u001b[0;34m=\u001b[0m \u001b[0mself\u001b[0m\u001b[0;34m.\u001b[0m\u001b[0m_call_input_fn\u001b[0m\u001b[0;34m(\u001b[0m\u001b[0minput_fn\u001b[0m\u001b[0;34m,\u001b[0m \u001b[0mmode\u001b[0m\u001b[0;34m)\u001b[0m\u001b[0;34m\u001b[0m\u001b[0m\n\u001b[0m\u001b[1;32m    692\u001b[0m     \u001b[0;31m# TODO(anjalisridhar): What about the default DistributionStrategy? Perhaps\u001b[0m\u001b[0;34m\u001b[0m\u001b[0;34m\u001b[0m\u001b[0m\n\u001b[1;32m    693\u001b[0m     \u001b[0;31m# using any input is alright in that case. There is also a\u001b[0m\u001b[0;34m\u001b[0m\u001b[0;34m\u001b[0m\u001b[0m\n",
      "\u001b[0;32m~/anaconda3/lib/python3.6/site-packages/tensorflow/python/estimator/estimator.py\u001b[0m in \u001b[0;36m_call_input_fn\u001b[0;34m(self, input_fn, mode)\u001b[0m\n\u001b[1;32m    796\u001b[0m       \u001b[0mkwargs\u001b[0m\u001b[0;34m[\u001b[0m\u001b[0;34m'config'\u001b[0m\u001b[0;34m]\u001b[0m \u001b[0;34m=\u001b[0m \u001b[0mself\u001b[0m\u001b[0;34m.\u001b[0m\u001b[0mconfig\u001b[0m\u001b[0;34m\u001b[0m\u001b[0m\n\u001b[1;32m    797\u001b[0m     \u001b[0;32mwith\u001b[0m \u001b[0mops\u001b[0m\u001b[0;34m.\u001b[0m\u001b[0mdevice\u001b[0m\u001b[0;34m(\u001b[0m\u001b[0;34m'/cpu:0'\u001b[0m\u001b[0;34m)\u001b[0m\u001b[0;34m:\u001b[0m\u001b[0;34m\u001b[0m\u001b[0m\n\u001b[0;32m--> 798\u001b[0;31m       \u001b[0;32mreturn\u001b[0m \u001b[0minput_fn\u001b[0m\u001b[0;34m(\u001b[0m\u001b[0;34m**\u001b[0m\u001b[0mkwargs\u001b[0m\u001b[0;34m)\u001b[0m\u001b[0;34m\u001b[0m\u001b[0m\n\u001b[0m\u001b[1;32m    799\u001b[0m \u001b[0;34m\u001b[0m\u001b[0m\n\u001b[1;32m    800\u001b[0m   \u001b[0;32mdef\u001b[0m \u001b[0m_call_model_fn\u001b[0m\u001b[0;34m(\u001b[0m\u001b[0mself\u001b[0m\u001b[0;34m,\u001b[0m \u001b[0mfeatures\u001b[0m\u001b[0;34m,\u001b[0m \u001b[0mlabels\u001b[0m\u001b[0;34m,\u001b[0m \u001b[0mmode\u001b[0m\u001b[0;34m,\u001b[0m \u001b[0mconfig\u001b[0m\u001b[0;34m)\u001b[0m\u001b[0;34m:\u001b[0m\u001b[0;34m\u001b[0m\u001b[0m\n",
      "\u001b[0;32m<ipython-input-509-9f22fd7d74a8>\u001b[0m in \u001b[0;36m<lambda>\u001b[0;34m()\u001b[0m\n\u001b[1;32m      3\u001b[0m         \u001b[0mx\u001b[0m\u001b[0;34m,\u001b[0m\u001b[0;34m\u001b[0m\u001b[0m\n\u001b[1;32m      4\u001b[0m         \u001b[0my\u001b[0m\u001b[0;34m,\u001b[0m\u001b[0;34m\u001b[0m\u001b[0m\n\u001b[0;32m----> 5\u001b[0;31m         64),\n\u001b[0m\u001b[1;32m      6\u001b[0m     \u001b[0msteps\u001b[0m\u001b[0;34m=\u001b[0m\u001b[0;36m130\u001b[0m\u001b[0;34m,\u001b[0m\u001b[0;34m\u001b[0m\u001b[0m\n\u001b[1;32m      7\u001b[0m     hooks=[logging_hook])\n",
      "\u001b[0;32m<ipython-input-508-f7e1482bd31b>\u001b[0m in \u001b[0;36mtrain_input_fn\u001b[0;34m(features, labels, batch_size)\u001b[0m\n\u001b[1;32m     10\u001b[0m     \u001b[0mdataset\u001b[0m \u001b[0;34m=\u001b[0m \u001b[0mtf\u001b[0m\u001b[0;34m.\u001b[0m\u001b[0mdata\u001b[0m\u001b[0;34m.\u001b[0m\u001b[0mDataset\u001b[0m\u001b[0;34m.\u001b[0m\u001b[0mfrom_tensor_slices\u001b[0m\u001b[0;34m(\u001b[0m\u001b[0;34m(\u001b[0m\u001b[0mfeatures\u001b[0m\u001b[0;34m,\u001b[0m \u001b[0mlabels\u001b[0m\u001b[0;34m)\u001b[0m\u001b[0;34m)\u001b[0m\u001b[0;34m\u001b[0m\u001b[0m\n\u001b[1;32m     11\u001b[0m     \u001b[0;31m# Shuffle, repeat, and batch the examples.\u001b[0m\u001b[0;34m\u001b[0m\u001b[0;34m\u001b[0m\u001b[0m\n\u001b[0;32m---> 12\u001b[0;31m     \u001b[0mdataset\u001b[0m \u001b[0;34m=\u001b[0m \u001b[0mdataset\u001b[0m\u001b[0;34m.\u001b[0m\u001b[0mshuffle\u001b[0m\u001b[0;34m(\u001b[0m\u001b[0;34m)\u001b[0m\u001b[0;34m.\u001b[0m\u001b[0mrepeat\u001b[0m\u001b[0;34m(\u001b[0m\u001b[0;34m)\u001b[0m\u001b[0;34m.\u001b[0m\u001b[0mbatch\u001b[0m\u001b[0;34m(\u001b[0m\u001b[0mbatch_size\u001b[0m\u001b[0;34m)\u001b[0m\u001b[0;34m\u001b[0m\u001b[0m\n\u001b[0m\u001b[1;32m     13\u001b[0m \u001b[0;34m\u001b[0m\u001b[0m\n\u001b[1;32m     14\u001b[0m     \u001b[0;31m# Return the dataset.\u001b[0m\u001b[0;34m\u001b[0m\u001b[0;34m\u001b[0m\u001b[0m\n",
      "\u001b[0;31mTypeError\u001b[0m: shuffle() missing 1 required positional argument: 'buffer_size'"
     ]
    }
   ],
   "source": [
    "emotion_classifier.train(\n",
    "    input_fn=lambda:train_input_fn(\n",
    "        x,\n",
    "        y,\n",
    "        64),\n",
    "    steps=130,\n",
    "    hooks=[logging_hook])"
   ]
  },
  {
   "cell_type": "code",
   "execution_count": 496,
   "metadata": {},
   "outputs": [
    {
     "data": {
      "text/plain": [
       "(41297, 2304)"
      ]
     },
     "execution_count": 496,
     "metadata": {},
     "output_type": "execute_result"
    }
   ],
   "source": [
    "\n",
    "np.concatenate(dataset[\"pixels\"].values).reshape(len(dataset[\"pixels\"]),len(dataset[\"pixels\"][0])).shape"
   ]
  },
  {
   "cell_type": "code",
   "execution_count": null,
   "metadata": {},
   "outputs": [],
   "source": [
    "np."
   ]
  }
 ],
 "metadata": {
  "kernelspec": {
   "display_name": "Python 3",
   "language": "python",
   "name": "python3"
  },
  "language_info": {
   "codemirror_mode": {
    "name": "ipython",
    "version": 3
   },
   "file_extension": ".py",
   "mimetype": "text/x-python",
   "name": "python",
   "nbconvert_exporter": "python",
   "pygments_lexer": "ipython3",
   "version": "3.6.4"
  }
 },
 "nbformat": 4,
 "nbformat_minor": 2
}
